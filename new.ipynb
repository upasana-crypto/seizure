{
 "cells": [
  {
   "cell_type": "code",
   "execution_count": 1,
   "metadata": {},
   "outputs": [],
   "source": [
    "try: \n",
    "    import pyedflib\n",
    "except:\n",
    "    !pip install pyedflib"
   ]
  },
  {
   "cell_type": "code",
   "execution_count": 1,
   "metadata": {},
   "outputs": [
    {
     "name": "stderr",
     "output_type": "stream",
     "text": [
      "c:\\Users\\TAACHUP2\\Miniconda3\\lib\\site-packages\\tqdm\\auto.py:22: TqdmWarning: IProgress not found. Please update jupyter and ipywidgets. See https://ipywidgets.readthedocs.io/en/stable/user_install.html\n",
      "  from .autonotebook import tqdm as notebook_tqdm\n"
     ]
    }
   ],
   "source": [
    "import pyedflib\n",
    "import numpy as np\n",
    "from scipy import signal\n",
    "import matplotlib.pyplot as plt\n",
    "import os\n",
    "import warnings \n",
    "import random\n",
    "import collections\n",
    "from numpy.random import seed\n",
    "import torch\n",
    "import torch.utils as utils\n",
    "import torch.utils.data as data\n",
    "from os import path\n",
    "import pandas as pd"
   ]
  },
  {
   "cell_type": "code",
   "execution_count": null,
   "metadata": {},
   "outputs": [],
   "source": [
    "channels = ['FP1-F7', 'F7-T7','T7-P7', 'P7-O1', 'FP1-F3', 'F3-C3', 'C3-P3', 'P3-O1', 'FP2-F4', 'F4-C4', 'C4-P4', 'P4-O2', 'FP2-F8', 'F8-T8', 'T8-P8', 'P8-O2', 'FZ-CZ', 'CZ-PZ','P7-T7','T7-FT9','FT9-FT10','FT10-T8']\n",
    "\n",
    "#for i in range(23):\n",
    "#file2 = pyedflib.EdfReader('chb12_06.edf')\n",
    "#for channel in channels:\n",
    "    #file2.readEdfFile(channel)\n",
    "#signal_labels = file2.getSignalLabels()\n",
    "#print(signal_labels)\n",
    "#n = file2.signals_in_file\n",
    "dat = readEdfFile('chb12_06.edf', channels)\n",
    "\n",
    "print(dat.shape)"
   ]
  },
  {
   "cell_type": "code",
   "execution_count": 14,
   "metadata": {},
   "outputs": [
    {
     "data": {
      "text/plain": [
       "'cuda'"
      ]
     },
     "execution_count": 14,
     "metadata": {},
     "output_type": "execute_result"
    }
   ],
   "source": [
    "# Setup device-agnostic code\n",
    "device = \"cuda\" if torch.cuda.is_available() else \"cpu\"\n",
    "device"
   ]
  },
  {
   "cell_type": "code",
   "execution_count": 36,
   "metadata": {},
   "outputs": [],
   "source": [
    "warnings.filterwarnings(\"ignore\")\n",
    "pathDataSet = 'CHB-MIT/'\n",
    "processed_data_path = 'CHB-MIT_processed/'\n",
    "channels = ['FP1-F7', 'F7-T7','T7-P7', 'P7-O1', 'FP1-F3', 'F3-C3', 'C3-P3', 'P3-O1', 'FP2-F4', 'F4-C4', 'C4-P4', 'P4-O2', 'FP2-F8', 'F8-T8', 'T8-P8', 'P8-O2', 'FZ-CZ', 'CZ-PZ','P7-T7','T7-FT9','FT9-FT10','FT10-T8']\n",
    "patients = [\"05\" , \"06\", \"07\", \"08\"]\n",
    "            #, \"09\", \"10\"]"
   ]
  },
  {
   "cell_type": "code",
   "execution_count": 3,
   "metadata": {},
   "outputs": [],
   "source": [
    "def loadSummaryPatient(index):\n",
    "  f = open(pathDataSet+'chb'+patients[index]+'/chb'+patients[index]+'-summary.txt', 'r') \n",
    "  parent = pathDataSet+'chb'+patients[index]+'/'\n",
    "  return f, parent"
   ]
  },
  {
   "cell_type": "code",
   "execution_count": 4,
   "metadata": {},
   "outputs": [],
   "source": [
    "def readEdfFile(pathToFile, channels):\n",
    "    f = pyedflib.EdfReader(pathToFile)\n",
    "    n = f.signals_in_file\n",
    "    #print(n)\n",
    "    signal_labels = f.getSignalLabels()\n",
    "    sigbufs = np.zeros((f.getNSamples()[0],n))\n",
    "    for i in np.arange(n): \n",
    "        sigbufs[:,i] = f.readSignal(i)\n",
    "    #sigbufs[:, n]= 0.0\n",
    "    df =  pd.DataFrame(data = sigbufs, columns = signal_labels)\n",
    "    #print(df.shape)\n",
    "    df = df.loc[:, channels]\n",
    "    #print(df.shape)\n",
    "    df = df.loc[:, ~df.columns.duplicated()]\n",
    "    #print(df.shape)\n",
    "    f._close()\n",
    "    del f\n",
    "    data = df.values\n",
    "    #data_numpy = data.to_numpy()\n",
    "    return np.transpose(data)"
   ]
  },
  {
   "cell_type": "code",
   "execution_count": 33,
   "metadata": {},
   "outputs": [
    {
     "name": "stdout",
     "output_type": "stream",
     "text": [
      "   1    3\n",
      "0  1  0.0\n",
      "1  1  0.0\n",
      "2  1  0.0\n"
     ]
    }
   ],
   "source": [
    "#signal_label1 = ['2', '1']\n",
    "signal_labels = ['3','4','2', '6','1']\n",
    "#sigbufs = np.zeros((2,2))\n",
    "sigbufs1 = np.zeros((3,5))\n",
    "df =  pd.DataFrame(data = sigbufs1, columns = signal_labels)\n",
    "df.iloc[:,4]=1\n",
    "#print(df)\n",
    "#df1 =  pd.DataFrame(data = sigbufs, columns = signal_label1)\n",
    "cha = ['1','3']\n",
    "#df1 = df1.loc[:, cha]\n",
    "df = df.loc[:, cha]\n",
    "print(df)"
   ]
  },
  {
   "cell_type": "code",
   "execution_count": 5,
   "metadata": {},
   "outputs": [],
   "source": [
    "def seizureNumpyMatrixGenerate(secSt, secEn, name_F, parent, index):\n",
    "  file1 = pyedflib.EdfReader(parent+name_F)\n",
    "  n = file1.signals_in_file\n",
    "  rate =256\n",
    "  col = file1.getNSamples()[0]\n",
    "  # print(n)\n",
    "  #signal_labels = file1.getSignalLabels()\n",
    "  #signal_headers = file1.getSignalHeaders()\n",
    "  #rate = signal_headers[0]['sample_rate']\n",
    "  dur = file1.getFileDuration()\n",
    "  #print(type(dur))\n",
    "  #print(f'Duration of this trial {dur}')\n",
    "  file1._close()\n",
    "  del file1\n",
    "  x = np.zeros((n, col))\n",
    "  #for i in range(n):\n",
    "    #x[i,:] = file1.readSignal(i)\n",
    "  x = readEdfFile(parent+name_F, channels)\n",
    "    # print(x)\n",
    "    #label = file1.getLabel(i)\n",
    " \n",
    " \n",
    "  #x_filter = butter_bandpass_filter(x ,lowcut , highcut , fs , order = 5)\n",
    "  #a = os.getcwd()\n",
    "  folder_path= processed_data_path + 'chb'+ patients[index] + '/'\n",
    "  # if os.path.isdir(processed_data_path) is not True:\n",
    "  #   os.makedirs(processed_data_path)\n",
    "  subfolder_path = folder_path + name_F.split('.')[0] + '/'\n",
    "  if os.path.isdir(subfolder_path) is not True:\n",
    "    os.makedirs(subfolder_path)\n",
    "    #print(subfolder_path)\n",
    "    picnum = int(dur*rate/256)\n",
    "    #print(picnum)\n",
    "    num_seizure = 0\n",
    "    num_nonseizure = 0\n",
    "    for i in range(picnum):\n",
    "      img = x[:,i*256:(i+1)*256]\n",
    "      #img = (img - np.min(img))/(np.max(img) - np.min(img))\n",
    "      #Img = Image.fromarray(np.uint8(img))\n",
    "      if len(secSt) == 1:\n",
    "        if secSt[0] <= i+1 <= secEn[0]: #window size is 1sec\n",
    "            name = 'seizure'\n",
    "            num_seizure+=1\n",
    "        else:\n",
    "            name = 'nonseizure'\n",
    "            num_nonseizure +=1\n",
    "        #print('1 seizure interval present')\n",
    "      elif len(secSt) == 2:\n",
    "        if secSt[0] <= i+1 <= secEn[0] or secSt[1] <= i+1 <= secEn[1]: #window size is 1sec\n",
    "            name = 'seizure'\n",
    "            num_seizure+=1\n",
    "        else:\n",
    "            name = 'nonseizure' \n",
    "            num_nonseizure +=1\n",
    "        #print('2 seizure intervals present')\n",
    "      elif len(secSt) == 3:\n",
    "        if secSt[0] <= i+1 <= secEn[0] or secSt[1] <= i+1 <= secEn[1] or secSt[2] <= i+1 <= secEn[2]: #window size is 1sec\n",
    "            name = 'seizure'\n",
    "            num_seizure+=1\n",
    "        else:\n",
    "            name = 'nonseizure'\n",
    "            num_nonseizure +=1\n",
    "        #print('3 seizure intervals present')\n",
    "      else: \n",
    "        if secSt[0] <= i+1 <= secEn[0] or secSt[1] <= i+1 <= secEn[1] or secSt[2] <= i+1 <= secEn[2] or secSt[3] <= i+1 <= secEn[3]:\n",
    "            name = 'seizure'\n",
    "            num_seizure+=1\n",
    "        else:\n",
    "            name = 'nonseizure'\n",
    "            num_nonseizure +=1\n",
    "        #print('4 seizure intervals present')\n",
    "          \n",
    "\n",
    "      if i+1 < 10:\n",
    "          filename = 'time_'+name+'_0000'+ str(i+1)\n",
    "      elif 10 <= i+1 < 100:\n",
    "          filename = 'time_'+name+'_000'+ str(i+1)\n",
    "      elif 100 <= i+1 < 1000:\n",
    "          filename = 'time_'+name+'_00'+ str(i+1)\n",
    "      elif 1000 <= i+1 < 10000:\n",
    "          filename = 'time_'+name+'_0'+ str(i+1)\n",
    "      else:\n",
    "          filename = 'time_'+name+'_'+ str(i+1)\n",
    "      if path.exists(subfolder_path+ filename+'.npy'):\n",
    "        continue\n",
    "      else:\n",
    "        np.save(subfolder_path + filename+'.npy', img)\n",
    "          #print('-')\n",
    "      \n",
    "  else:\n",
    "    print('folder already exists') \n",
    "\n",
    "\n",
    "  return (num_seizure, num_nonseizure, num_seizure+num_nonseizure, dur)"
   ]
  },
  {
   "cell_type": "code",
   "execution_count": 6,
   "metadata": {},
   "outputs": [],
   "source": [
    "def createDataset():\n",
    "    \n",
    "    seizure_trials = {}\n",
    "    total_duration = {}\n",
    "    total_seizure = []\n",
    "    total_nonseizure = []\n",
    "    durations = []\n",
    "    print(\"START \\n\")\n",
    "    for indexPatient in range(0, len(patients)):\n",
    "        seizure_num_per_patient = []\n",
    "        nonseizure_num_per_patient = []\n",
    "        values = []\n",
    "        key = 'chb'+patients[indexPatient]\n",
    "        #print(indexPatient)\n",
    "        f, parent = loadSummaryPatient(indexPatient)\n",
    "        line=f.readline()\n",
    "        #print(' i was here')\n",
    "        \n",
    "        while (line):\n",
    "            data=line.split(':')\n",
    "            #print(data)\n",
    "            if (data[0]==\"File Name\"):\n",
    "                name_F=data[1].strip()\n",
    "                \n",
    "                #print(name_F)\n",
    "                fileSt=f.readline().split(': ')[1]\n",
    "                # Sthr=fileSt.split(':')[0]\n",
    "                # #print(Sthr)\n",
    "                # Stmin=fileSt.split(':')[1]\n",
    "                # #print(Stmin)\n",
    "                # Stsec=fileSt.split(':')[2]\n",
    "                # #print(Stsec)\n",
    "                fileEn=f.readline().split(': ')[1]\n",
    "                # Enhr=fileEn.split(':')[0]\n",
    "                # #print(Enhr)\n",
    "                # Enmin=fileSt.split(':')[1]\n",
    "                # #print(Enmin)\n",
    "                # Ensec=fileSt.split(':')[2]\n",
    "                # #print(Ensec)\n",
    "                # trial_duration = ((int(Enhr) - int(Sthr))*3600 + (int(Enmin) - int(Stmin))*60 + (int(Ensec) - int(Stsec)))\n",
    "                \n",
    "                # print(trial_duration)\n",
    "                for i in range(1):\n",
    "                    line=f.readline()\n",
    "                secSt = []\n",
    "                secEn = []\n",
    "                for j in range(0, int(line.split(': ')[1])):\n",
    "                    if j==0:\n",
    "                        print(f'trial : {name_F}')\n",
    "                        value = name_F\n",
    "                        values.append(value)\n",
    "                        key1 = name_F            \n",
    "                    secSt.append(int(f.readline().split(': ')[1].split(' ')[0]))\n",
    "                    #print(f'Start second of seizure {secSt}')\n",
    "                    secEn.append(int(f.readline().split(': ')[1].split(' ')[0]))\n",
    "                    #print(f'Start second of seizure {secEn}')\n",
    "                if int(line.split(': ')[1]) != 0:\n",
    "                    seizure_num_per_trial, nonseizure_num_per_trial, total_samples, dur = seizureNumpyMatrixGenerate(secSt, secEn, name_F, parent, indexPatient)   # creates numpy matrices for 1 s windows\n",
    "                    durations.append(dur)\n",
    "                    total_duration[key1]= dur\n",
    "                    #type(dur)\n",
    "                    print(f'No. of seizure samples : {seizure_num_per_trial}, No. of non-seizure samples : {nonseizure_num_per_trial}, Total no. of samples : {seizure_num_per_trial + nonseizure_num_per_trial}')\n",
    "                    #seizure_num_per_trial.append(num_seizure)\n",
    "                    #print(seizure_num_per_trial)\n",
    "                    #nonseizure_num_per_trial.append(num_nonseizure)\n",
    "                    #print(nonseizure_num_per_trial)\n",
    "                    seizure_num_per_patient.append(seizure_num_per_trial)\n",
    "                    nonseizure_num_per_patient.append(nonseizure_num_per_trial)\n",
    "            seizure_trials[key] = values,durations\n",
    "            #print(durations)\n",
    "            #duration_per_patient[key] = durations\n",
    "            line=f.readline()\n",
    "        f.close()\n",
    "        \n",
    "        print(seizure_num_per_patient)\n",
    "        print(nonseizure_num_per_patient)\n",
    "        total_seizure.append(np.sum(seizure_num_per_patient))\n",
    "        print(total_seizure)\n",
    "        total_nonseizure.append(np.sum(nonseizure_num_per_patient))\n",
    "        print(total_nonseizure)\n",
    "\n",
    "    print(\"END \\n\")\n",
    "    return seizure_trials, total_duration, np.sum(total_seizure), np.sum(total_nonseizure)\n",
    "#, duration_per_patient"
   ]
  },
  {
   "cell_type": "code",
   "execution_count": 71,
   "metadata": {},
   "outputs": [
    {
     "data": {
      "text/plain": [
       "3"
      ]
     },
     "execution_count": 71,
     "metadata": {},
     "output_type": "execute_result"
    }
   ],
   "source": [
    "a = {}\n",
    "b = []\n",
    "b.append(1)\n",
    "b.append(2)\n",
    "c = [5,2]\n",
    "a['0'] = b,c\n",
    "np.sum((np.array(a['0'][1])/2).astype(int))"
   ]
  },
  {
   "cell_type": "code",
   "execution_count": 39,
   "metadata": {},
   "outputs": [
    {
     "name": "stdout",
     "output_type": "stream",
     "text": [
      "START \n",
      "\n",
      "trial : chb05_06.edf\n",
      "No. of seizure samples : 116, No. of non-seizure samples : 3484, Total no. of samples : 3600\n",
      "trial : chb05_13.edf\n",
      "No. of seizure samples : 111, No. of non-seizure samples : 3489, Total no. of samples : 3600\n",
      "trial : chb05_16.edf\n",
      "No. of seizure samples : 97, No. of non-seizure samples : 3503, Total no. of samples : 3600\n",
      "trial : chb05_17.edf\n",
      "No. of seizure samples : 121, No. of non-seizure samples : 3479, Total no. of samples : 3600\n",
      "trial : chb05_22.edf\n",
      "No. of seizure samples : 118, No. of non-seizure samples : 3482, Total no. of samples : 3600\n",
      "[116, 111, 97, 121, 118]\n",
      "[3484, 3489, 3503, 3479, 3482]\n",
      "[563]\n",
      "[17437]\n",
      "trial : chb06_01.edf\n",
      "No. of seizure samples : 47, No. of non-seizure samples : 14380, Total no. of samples : 14427\n",
      "trial : chb06_04.edf\n",
      "No. of seizure samples : 42, No. of non-seizure samples : 13219, Total no. of samples : 13261\n",
      "trial : chb06_09.edf\n",
      "No. of seizure samples : 17, No. of non-seizure samples : 14383, Total no. of samples : 14400\n",
      "trial : chb06_10.edf\n",
      "No. of seizure samples : 13, No. of non-seizure samples : 14387, Total no. of samples : 14400\n",
      "trial : chb06_13.edf\n",
      "No. of seizure samples : 14, No. of non-seizure samples : 14386, Total no. of samples : 14400\n",
      "trial : chb06_18.edf\n",
      "No. of seizure samples : 13, No. of non-seizure samples : 7915, Total no. of samples : 7928\n",
      "trial : chb06_24.edf\n",
      "No. of seizure samples : 17, No. of non-seizure samples : 14383, Total no. of samples : 14400\n",
      "[47, 42, 17, 13, 14, 13, 17]\n",
      "[14380, 13219, 14383, 14387, 14386, 7915, 14383]\n",
      "[563, 163]\n",
      "[17437, 93053]\n",
      "trial : chb07_12.edf\n",
      "No. of seizure samples : 87, No. of non-seizure samples : 14313, Total no. of samples : 14400\n",
      "trial : chb07_13.edf\n",
      "No. of seizure samples : 97, No. of non-seizure samples : 3629, Total no. of samples : 3726\n",
      "trial : chb07_19.edf\n",
      "No. of seizure samples : 144, No. of non-seizure samples : 14267, Total no. of samples : 14411\n",
      "[87, 97, 144]\n",
      "[14313, 3629, 14267]\n",
      "[563, 163, 328]\n",
      "[17437, 93053, 32209]\n",
      "trial : chb08_02.edf\n",
      "No. of seizure samples : 172, No. of non-seizure samples : 3428, Total no. of samples : 3600\n",
      "trial : chb08_05.edf\n",
      "No. of seizure samples : 191, No. of non-seizure samples : 3409, Total no. of samples : 3600\n",
      "trial : chb08_11.edf\n",
      "No. of seizure samples : 135, No. of non-seizure samples : 3465, Total no. of samples : 3600\n",
      "trial : chb08_13.edf\n",
      "No. of seizure samples : 161, No. of non-seizure samples : 3439, Total no. of samples : 3600\n",
      "trial : chb08_21.edf\n",
      "No. of seizure samples : 265, No. of non-seizure samples : 3335, Total no. of samples : 3600\n",
      "[172, 191, 135, 161, 265]\n",
      "[3428, 3409, 3465, 3439, 3335]\n",
      "[563, 163, 328, 924]\n",
      "[17437, 93053, 32209, 17076]\n",
      "END \n",
      "\n"
     ]
    }
   ],
   "source": [
    "seizure_trials, total_duration, total_duration_seizure, total_duration_nonseizure = createDataset()"
   ]
  },
  {
   "cell_type": "code",
   "execution_count": 40,
   "metadata": {},
   "outputs": [
    {
     "name": "stdout",
     "output_type": "stream",
     "text": [
      "{'chb05': (['chb05_06.edf', 'chb05_13.edf', 'chb05_16.edf', 'chb05_17.edf', 'chb05_22.edf'], [3600, 3600, 3600, 3600, 3600, 14427, 13261, 14400, 14400, 14400, 7928, 14400, 14400, 3726, 14411, 3600, 3600, 3600, 3600, 3600]), 'chb06': (['chb06_01.edf', 'chb06_04.edf', 'chb06_09.edf', 'chb06_10.edf', 'chb06_13.edf', 'chb06_18.edf', 'chb06_24.edf'], [3600, 3600, 3600, 3600, 3600, 14427, 13261, 14400, 14400, 14400, 7928, 14400, 14400, 3726, 14411, 3600, 3600, 3600, 3600, 3600]), 'chb07': (['chb07_12.edf', 'chb07_13.edf', 'chb07_19.edf'], [3600, 3600, 3600, 3600, 3600, 14427, 13261, 14400, 14400, 14400, 7928, 14400, 14400, 3726, 14411, 3600, 3600, 3600, 3600, 3600]), 'chb08': (['chb08_02.edf', 'chb08_05.edf', 'chb08_11.edf', 'chb08_13.edf', 'chb08_21.edf'], [3600, 3600, 3600, 3600, 3600, 14427, 13261, 14400, 14400, 14400, 7928, 14400, 14400, 3726, 14411, 3600, 3600, 3600, 3600, 3600])} 4 {'chb05_06.edf': 3600, 'chb05_13.edf': 3600, 'chb05_16.edf': 3600, 'chb05_17.edf': 3600, 'chb05_22.edf': 3600, 'chb06_01.edf': 14427, 'chb06_04.edf': 13261, 'chb06_09.edf': 14400, 'chb06_10.edf': 14400, 'chb06_13.edf': 14400, 'chb06_18.edf': 7928, 'chb06_24.edf': 14400, 'chb07_12.edf': 14400, 'chb07_13.edf': 3726, 'chb07_19.edf': 14411, 'chb08_02.edf': 3600, 'chb08_05.edf': 3600, 'chb08_11.edf': 3600, 'chb08_13.edf': 3600, 'chb08_21.edf': 3600} 1978 159775\n"
     ]
    }
   ],
   "source": [
    "print(seizure_trials,len(seizure_trials), total_duration, total_duration_seizure, total_duration_nonseizure)"
   ]
  },
  {
   "cell_type": "code",
   "execution_count": 17,
   "metadata": {},
   "outputs": [
    {
     "data": {
      "text/plain": [
       "dict_values([959, 3600, 3600])"
      ]
     },
     "execution_count": 17,
     "metadata": {},
     "output_type": "execute_result"
    }
   ],
   "source": [
    "su = np.sum(np.array(total_duration.values()))\n",
    "su"
   ]
  },
  {
   "cell_type": "code",
   "execution_count": 112,
   "metadata": {},
   "outputs": [
    {
     "data": {
      "text/plain": [
       "5981"
      ]
     },
     "execution_count": 112,
     "metadata": {},
     "output_type": "execute_result"
    }
   ],
   "source": [
    "np.sum((np.array(total_duration)/4).astype(int))"
   ]
  },
  {
   "cell_type": "code",
   "execution_count": 12,
   "metadata": {},
   "outputs": [],
   "source": [
    "seizure_trials = [ 'chb01_03.edf', 'chb01_04.edf', 'chb01_15.edf', 'chb01_16.edf', 'chb01_18.edf', 'chb01_21.edf', 'chb01_26.edf', 'chb02_16.edf', 'chb02_16+.edf', 'chb02_19.edf', 'chb07_12.edf', 'chb07_13.edf', 'chb07_19.edf', 'chb08_02.edf', 'chb08_05.edf', 'chb08_11.edf', 'chb08_13.edf', 'chb08_21.edf']"
   ]
  },
  {
   "cell_type": "code",
   "execution_count": 9,
   "metadata": {},
   "outputs": [],
   "source": [
    "def last_5chars(x): #function to sort the numbers in filename so that they can be grouped sequentially\n",
    "  #print(x[-4])\n",
    "  return(x[-9:-3])"
   ]
  },
  {
   "cell_type": "code",
   "execution_count": 157,
   "metadata": {},
   "outputs": [
    {
     "data": {
      "text/plain": [
       "['time_nonseizure_0959.npy',\n",
       " 'time_nonseizure_0001.npy',\n",
       " 'time_seizure_0130.npy',\n",
       " 'time_seizure_0131.npy']"
      ]
     },
     "execution_count": 157,
     "metadata": {},
     "output_type": "execute_result"
    }
   ],
   "source": [
    "import re\n",
    "sorted(lis,key = lambda x:x[-8])\n"
   ]
  },
  {
   "cell_type": "code",
   "execution_count": 164,
   "metadata": {},
   "outputs": [
    {
     "name": "stdout",
     "output_type": "stream",
     "text": [
      "00959\n",
      "10001\n",
      "00130\n",
      "20131\n"
     ]
    }
   ],
   "source": [
    "for one in lis:\n",
    "    print(one[-9:-4])\n",
    "    \n",
    "    "
   ]
  },
  {
   "cell_type": "code",
   "execution_count": 178,
   "metadata": {},
   "outputs": [
    {
     "data": {
      "text/plain": [
       "239"
      ]
     },
     "execution_count": 178,
     "metadata": {},
     "output_type": "execute_result"
    }
   ],
   "source": [
    "int(239.75)"
   ]
  },
  {
   "cell_type": "code",
   "execution_count": 41,
   "metadata": {},
   "outputs": [],
   "source": [
    "def create_feature_matrix(seizure_trials, seizure_trial_duration, folder_path, window_size, total_duration):\n",
    "  feature_size = np.sum((np.array(seizure_trial_duration)/window_size).astype(int))\n",
    "  label_size = np.sum((np.array(seizure_trial_duration)/window_size).astype(int))\n",
    "  features = np.zeros((feature_size,22,256*window_size))\n",
    "  print(features.shape)\n",
    "  labels = np.zeros(label_size,dtype=int)\n",
    "  print(labels.shape)\n",
    "  i = 0 #the feature index\n",
    "  \n",
    "  for trial in seizure_trials:\n",
    "      #print(trial)\n",
    "      name = sorted(os.listdir(folder_path + trial.split('.')[0]), key= last_5chars)\n",
    "      #print(name)\n",
    "      #print(name[952])\n",
    "      #for window in (range(0, int(total_duration/len(seizure_trials)), window_size)):\n",
    "      #for window in (range(1, int(len(name)/window_size)*window_size, window_size)):\n",
    "      for window in (range(0, int(total_duration[trial]/window_size)*window_size, window_size)):       ##########CHECK IF THE LAST NUMBER MAKES SENSE###############\n",
    "          #print(window)\n",
    "          seizure = 0\n",
    "          non_seizure = 0\n",
    "          feature_prep = np.zeros((22,256*window_size))\n",
    "          for j in range(window_size):\n",
    "              if '_seizure_' in name[(window)+j]:\n",
    "                  #print(name[window+j])\n",
    "                  seizure+=1\n",
    "                  #print('seizure no.', seizure)\n",
    "                  #print('hi')\n",
    "                  feature_prep[0:23,j*256:((j+1)*256)] = np.array(np.load(folder_path + trial.split('.')[0]+'/'+ name[(window)+j]))[0:23,0:256]\n",
    "              elif '_nonseizure_' in name[(window)+j]:\n",
    "                  #print(name[window+j])\n",
    "                  non_seizure+=1\n",
    "                  #print('nonseizure no.', non_seizure)\n",
    "                  #print('nohi')\n",
    "                  feature_prep[0:23,j*256:((j+1)*256)] = np.array(np.load(folder_path + trial.split('.')[0]+'/'+ name[(window)+j]))[0:23,0:256]\n",
    "                  #print(feature_prep.shape)\n",
    "          #print(feature_prep.shape)\n",
    "          feature_prep_normalized = (feature_prep - np.min(feature_prep)) / (np.max(feature_prep) -np.min(feature_prep))\n",
    "          #print('seizure no.', seizure)\n",
    "          #print('nonseizure no.', non_seizure)\n",
    "          if seizure > non_seizure:\n",
    "              #print('label should be 1')\n",
    "              features[i] = feature_prep_normalized\n",
    "              labels[i] = 1\n",
    "              #print(features[i])\n",
    "              #print(labels[i])\n",
    "          else:\n",
    "              #print('label should be 0')\n",
    "              features[i] = feature_prep_normalized\n",
    "              labels[i] = 0\n",
    "              #print(features[i])\n",
    "              #print(labels[i])\n",
    "          #print('================================')\n",
    "          i = i+1\n",
    "         # print(features)\n",
    "         # print(features.shape)\n",
    "      \n",
    "   #       print(i)\n",
    "                  \n",
    "\n",
    "  #print(i)\n",
    "    #print(features)\n",
    "    #print(labels)\n",
    "    #print(np.expand_dims(np.array(features), axis=3).shape)\n",
    "    #print(labels.shape)\n",
    "  with open('features_train_'+trial.split('_')[0]+'.npy', 'wb') as f:\n",
    "    np.save(f, features)\n",
    "  f.close\n",
    "  \n",
    "  with open('labels_train_'+trial.split('_')[0]+'.npy', 'wb') as f:\n",
    "    np.save(f, labels)\n",
    "  f.close\n",
    "  \n",
    "  #dataloader = utils.data.DataLoader(dataset)\n",
    "    #dataset = np.stack((features,labels), axis = 0)\n",
    "  #print(dataset.shape)\n",
    "\n",
    "  return \n"
   ]
  },
  {
   "cell_type": "code",
   "execution_count": 25,
   "metadata": {},
   "outputs": [
    {
     "name": "stdout",
     "output_type": "stream",
     "text": [
      "['chb04_05.edf', 'chb04_08.edf', 'chb04_28.edf']\n",
      "['chb05_06.edf', 'chb05_13.edf', 'chb05_16.edf', 'chb05_17.edf', 'chb05_22.edf']\n"
     ]
    }
   ],
   "source": [
    "seizure_trials_train = seizure_trials                 \n",
    "for index in range(len(seizure_trials)):\n",
    "#total_duration = 3600*len(seizure_trials_train)\n",
    "    key_value_pair = list(seizure_trials_train.items())[index]\n",
    "    print(key_value_pair[1])"
   ]
  },
  {
   "cell_type": "code",
   "execution_count": 115,
   "metadata": {},
   "outputs": [
    {
     "data": {
      "text/plain": [
       "(5, [1, 2, 4])"
      ]
     },
     "execution_count": 115,
     "metadata": {},
     "output_type": "execute_result"
    }
   ],
   "source": [
    "d = [1,2,4,5]\n",
    "f = d[0:len(d)-1]\n",
    "e = d[-1]\n",
    "e,f"
   ]
  },
  {
   "cell_type": "code",
   "execution_count": 119,
   "metadata": {},
   "outputs": [],
   "source": [
    "def x(y):\n",
    "   y[i]=1 \n",
    "   i+=1"
   ]
  },
  {
   "cell_type": "code",
   "execution_count": 120,
   "metadata": {},
   "outputs": [
    {
     "ename": "UnboundLocalError",
     "evalue": "local variable 'i' referenced before assignment",
     "output_type": "error",
     "traceback": [
      "\u001b[1;31m---------------------------------------------------------------------------\u001b[0m",
      "\u001b[1;31mUnboundLocalError\u001b[0m                         Traceback (most recent call last)",
      "Cell \u001b[1;32mIn [120], line 4\u001b[0m\n\u001b[0;32m      2\u001b[0m y \u001b[39m=\u001b[39m[]\n\u001b[0;32m      3\u001b[0m \u001b[39mfor\u001b[39;00m j \u001b[39min\u001b[39;00m \u001b[39mrange\u001b[39m(\u001b[39m2\u001b[39m):\n\u001b[1;32m----> 4\u001b[0m     x(y)\n\u001b[0;32m      5\u001b[0m \u001b[39mprint\u001b[39m(y)\n",
      "Cell \u001b[1;32mIn [119], line 2\u001b[0m, in \u001b[0;36mx\u001b[1;34m(y)\u001b[0m\n\u001b[0;32m      1\u001b[0m \u001b[39mdef\u001b[39;00m \u001b[39mx\u001b[39m(y):\n\u001b[1;32m----> 2\u001b[0m    y[i]\u001b[39m=\u001b[39m\u001b[39m1\u001b[39m \n\u001b[0;32m      3\u001b[0m    i\u001b[39m+\u001b[39m\u001b[39m=\u001b[39m\u001b[39m1\u001b[39m\n",
      "\u001b[1;31mUnboundLocalError\u001b[0m: local variable 'i' referenced before assignment"
     ]
    }
   ],
   "source": [
    "i = 0\n",
    "y =[]\n",
    "for j in range(2):\n",
    "    x(y)\n",
    "print(y)"
   ]
  },
  {
   "cell_type": "code",
   "execution_count": 42,
   "metadata": {},
   "outputs": [
    {
     "name": "stdout",
     "output_type": "stream",
     "text": [
      "(40436, 22, 1024)\n",
      "(40436,)\n",
      "(40436, 22, 1024)\n",
      "(40436,)\n",
      "(40436, 22, 1024)\n",
      "(40436,)\n",
      "(40436, 22, 1024)\n",
      "(40436,)\n"
     ]
    }
   ],
   "source": [
    "#seizure_trials_train = ['chb08_02.edf', 'chb08_05.edf', 'chb08_11.edf', 'chb08_13.edf']\n",
    "                  #, 'chb08_21.edf']\n",
    "seizure_trials_train = seizure_trials\n",
    "#seizure_trials[0:len(seizure_trials)-1]                \n",
    "window_size = [1,2,4,8,10]\n",
    "#index = 0\n",
    "\n",
    "for index in range(len(seizure_trials)):\n",
    "#total_duration = 3600*len(seizure_trials_train)\n",
    "    folder_path= processed_data_path + 'chb'+ patients[index] + '/'\n",
    "    key_value_pair = list(seizure_trials_train.items())[index]\n",
    "    # print(key_value_pair[1][1])\n",
    "    # blah = np.sum((np.array(key_value_pair[1][1])/4).astype(int))\n",
    "    # print(blah)\n",
    "    create_feature_matrix(key_value_pair[1][0], key_value_pair[1][1], folder_path, window_size[2], total_duration)\n"
   ]
  },
  {
   "cell_type": "code",
   "execution_count": 24,
   "metadata": {},
   "outputs": [
    {
     "data": {
      "text/plain": [
       "4"
      ]
     },
     "execution_count": 24,
     "metadata": {},
     "output_type": "execute_result"
    }
   ],
   "source": [
    "len(seizure_trials)"
   ]
  },
  {
   "cell_type": "code",
   "execution_count": 60,
   "metadata": {},
   "outputs": [
    {
     "name": "stdout",
     "output_type": "stream",
     "text": [
      "chb08_13.edf\n"
     ]
    },
    {
     "ename": "IndexError",
     "evalue": "list index out of range",
     "output_type": "error",
     "traceback": [
      "\u001b[1;31m---------------------------------------------------------------------------\u001b[0m",
      "\u001b[1;31mIndexError\u001b[0m                                Traceback (most recent call last)",
      "Cell \u001b[1;32mIn [60], line 7\u001b[0m\n\u001b[0;32m      5\u001b[0m total_duration \u001b[39m=\u001b[39m \u001b[39m3600\u001b[39m\u001b[39m*\u001b[39m\u001b[39mlen\u001b[39m(seizure_trials_test)\n\u001b[0;32m      6\u001b[0m folder_path\u001b[39m=\u001b[39m processed_data_path \u001b[39m+\u001b[39m \u001b[39m'\u001b[39m\u001b[39mchb\u001b[39m\u001b[39m'\u001b[39m\u001b[39m+\u001b[39m patients[index] \u001b[39m+\u001b[39m \u001b[39m'\u001b[39m\u001b[39m/\u001b[39m\u001b[39m'\u001b[39m\n\u001b[1;32m----> 7\u001b[0m create_feature_matrix(seizure_trials, folder_path, window_size[\u001b[39m2\u001b[39;49m], total_duration)\n",
      "Cell \u001b[1;32mIn [45], line 15\u001b[0m, in \u001b[0;36mcreate_feature_matrix\u001b[1;34m(seizure_trials, folder_path, window_size, total_duration)\u001b[0m\n\u001b[0;32m     13\u001b[0m feature_prep \u001b[39m=\u001b[39m np\u001b[39m.\u001b[39mzeros((\u001b[39m23\u001b[39m,\u001b[39m256\u001b[39m\u001b[39m*\u001b[39mwindow_size))\n\u001b[0;32m     14\u001b[0m \u001b[39mfor\u001b[39;00m j \u001b[39min\u001b[39;00m \u001b[39mrange\u001b[39m(window_size):\n\u001b[1;32m---> 15\u001b[0m     \u001b[39mif\u001b[39;00m \u001b[39m'\u001b[39m\u001b[39m_seizure_\u001b[39m\u001b[39m'\u001b[39m \u001b[39min\u001b[39;00m name[window\u001b[39m+\u001b[39;49mj]:\n\u001b[0;32m     16\u001b[0m         \u001b[39m#print(name[window+j])\u001b[39;00m\n\u001b[0;32m     17\u001b[0m         seizure\u001b[39m+\u001b[39m\u001b[39m=\u001b[39m\u001b[39m1\u001b[39m\n\u001b[0;32m     18\u001b[0m         \u001b[39m#print('seizure no.', seizure)\u001b[39;00m\n\u001b[0;32m     19\u001b[0m         \u001b[39m#print('hi')\u001b[39;00m\n",
      "\u001b[1;31mIndexError\u001b[0m: list index out of range"
     ]
    }
   ],
   "source": [
    "seizure_trials_test = seizure_trials[-1]\n",
    "print(seizure_trials_test)\n",
    "window_size = [1,2,4,8,10]\n",
    "index = 0\n",
    "total_duration = 3600*len(seizure_trials_test)\n",
    "folder_path= processed_data_path + 'chb'+ patients[index] + '/'\n",
    "create_feature_matrix(seizure_trials, folder_path, window_size[2], total_duration)\n"
   ]
  },
  {
   "cell_type": "code",
   "execution_count": 88,
   "metadata": {},
   "outputs": [
    {
     "ename": "MemoryError",
     "evalue": "Unable to allocate 36.4 GiB for an array with shape (216944, 22, 1024) and data type float64",
     "output_type": "error",
     "traceback": [
      "\u001b[1;31m---------------------------------------------------------------------------\u001b[0m",
      "\u001b[1;31mMemoryError\u001b[0m                               Traceback (most recent call last)",
      "Cell \u001b[1;32mIn [88], line 33\u001b[0m\n\u001b[0;32m     30\u001b[0m labels_train6 \u001b[39m=\u001b[39m np\u001b[39m.\u001b[39mconcatenate((labels_train3,labels_train5), axis \u001b[39m=\u001b[39m \u001b[39m0\u001b[39m)\n\u001b[0;32m     31\u001b[0m \u001b[39m#features_train7 = np.concatenate((features_train3,features_train6), axis = 0)\u001b[39;00m\n\u001b[0;32m     32\u001b[0m \u001b[39m#labels_train7 = np.concatenate((labels_train3,labels_train6), axis = 0)\u001b[39;00m\n\u001b[1;32m---> 33\u001b[0m features_train8 \u001b[39m=\u001b[39m np\u001b[39m.\u001b[39;49mconcatenate((features_train6,features_train), axis \u001b[39m=\u001b[39;49m \u001b[39m0\u001b[39;49m)\n\u001b[0;32m     34\u001b[0m labels_train8 \u001b[39m=\u001b[39m np\u001b[39m.\u001b[39mconcatenate((labels_train6,labels_train), axis \u001b[39m=\u001b[39m \u001b[39m0\u001b[39m)\n\u001b[0;32m     35\u001b[0m \u001b[39m#print('features shape ', features_train.shape)\u001b[39;00m\n\u001b[0;32m     36\u001b[0m     \u001b[39m# print('feature 0', features[0])\u001b[39;00m\n",
      "File \u001b[1;32m<__array_function__ internals>:180\u001b[0m, in \u001b[0;36mconcatenate\u001b[1;34m(*args, **kwargs)\u001b[0m\n",
      "\u001b[1;31mMemoryError\u001b[0m: Unable to allocate 36.4 GiB for an array with shape (216944, 22, 1024) and data type float64"
     ]
    }
   ],
   "source": [
    "#for i in range(0, len(seizure_trials_train), 2):\n",
    "# features_train1 = np.load('features_train_chb0'+str(1)+'.npy')\n",
    "# labels_train1 = np.load('labels_train_chb0'+str(1)+'.npy')\n",
    "# features_train2 = np.load('features_train_chb0'+str(2)+'.npy')\n",
    "# labels_train2 = np.load('labels_train_chb0'+str(2)+'.npy')\n",
    "# features_train4 = np.load('features_train_chb0'+str(3)+'.npy')\n",
    "# labels_train4 = np.load('labels_train_chb0'+str(3)+'.npy')\n",
    "# features_train5 = np.load('features_train_chb0'+str(4)+'.npy')\n",
    "# labels_train5 = np.load('labels_train_chb0'+str(4)+'.npy')\n",
    "# features_train3 = np.concatenate((features_train1,features_train2), axis = 0)\n",
    "# labels_train3 = np.concatenate((labels_train1,labels_train2), axis = 0)\n",
    "# features_train6 = np.concatenate((features_train4,features_train5), axis = 0)\n",
    "# labels_train6 = np.concatenate((labels_train4,labels_train5), axis = 0)\n",
    "# features_train7 = np.concatenate((features_train3,features_train6), axis = 0)\n",
    "# labels_train7 = np.concatenate((labels_train3,labels_train6), axis = 0)\n",
    "features_train = np.load('features_train_4secs_1-4.npy')\n",
    "labels_train = np.load('labels_train_4secs_1-4.npy')\n",
    "  \n",
    "features_train1 = np.load('features_train_chb0'+str(5)+'.npy')\n",
    "labels_train1 = np.load('labels_train_chb0'+str(5)+'.npy')\n",
    "features_train2 = np.load('features_train_chb0'+str(6)+'.npy')\n",
    "labels_train2 = np.load('labels_train_chb0'+str(6)+'.npy')\n",
    "#features_train4 = np.load('features_train_chb0'+str(7)+'.npy')\n",
    "#labels_train4 = np.load('labels_train_chb0'+str(7)+'.npy')\n",
    "features_train5 = np.load('features_train_chb0'+str(8)+'.npy')\n",
    "labels_train5 = np.load('labels_train_chb0'+str(8)+'.npy')\n",
    "features_train3 = np.concatenate((features_train1,features_train2), axis = 0)\n",
    "labels_train3 = np.concatenate((labels_train1,labels_train2), axis = 0)\n",
    "features_train6 = np.concatenate((features_train3,features_train5), axis = 0)\n",
    "labels_train6 = np.concatenate((labels_train3,labels_train5), axis = 0)\n",
    "#features_train7 = np.concatenate((features_train3,features_train6), axis = 0)\n",
    "#labels_train7 = np.concatenate((labels_train3,labels_train6), axis = 0)\n",
    "features_train8 = np.concatenate((features_train6,features_train), axis = 0)\n",
    "labels_train8 = np.concatenate((labels_train6,labels_train), axis = 0)\n",
    "#print('features shape ', features_train.shape)\n",
    "    # print('feature 0', features[0])\n",
    "print('labels shape', labels_train8.shape)\n",
    "c=0\n",
    "for i in range(len(labels_train8)):\n",
    "  if labels_train8[i] ==1:\n",
    "    c +=1\n",
    "    #print(labels_train[i])\n",
    "print(c)\n",
    "\n",
    "feature_tensor = torch.Tensor(features_train8)   #################SET THE RIGHT FEATURE############\n",
    "feature_tensor = feature_tensor.unsqueeze(dim = 1)\n",
    "print('features tensorshape ', feature_tensor.shape)\n",
    "label_tensor = torch.Tensor(labels_train8) #################SET THE RIGHT LABEL#################\n",
    "\n",
    "dataset = utils.data.TensorDataset(feature_tensor, label_tensor)"
   ]
  },
  {
   "cell_type": "code",
   "execution_count": 84,
   "metadata": {},
   "outputs": [
    {
     "name": "stdout",
     "output_type": "stream",
     "text": [
      "[[nan nan nan ... nan nan nan]\n",
      " [nan nan nan ... nan nan nan]\n",
      " [nan nan nan ... nan nan nan]\n",
      " ...\n",
      " [nan nan nan ... nan nan nan]\n",
      " [nan nan nan ... nan nan nan]\n",
      " [nan nan nan ... nan nan nan]] 5118\n",
      "[[nan nan nan ... nan nan nan]\n",
      " [nan nan nan ... nan nan nan]\n",
      " [nan nan nan ... nan nan nan]\n",
      " ...\n",
      " [nan nan nan ... nan nan nan]\n",
      " [nan nan nan ... nan nan nan]\n",
      " [nan nan nan ... nan nan nan]] 5119\n",
      "[[nan nan nan ... nan nan nan]\n",
      " [nan nan nan ... nan nan nan]\n",
      " [nan nan nan ... nan nan nan]\n",
      " ...\n",
      " [nan nan nan ... nan nan nan]\n",
      " [nan nan nan ... nan nan nan]\n",
      " [nan nan nan ... nan nan nan]] 5120\n",
      "[[nan nan nan ... nan nan nan]\n",
      " [nan nan nan ... nan nan nan]\n",
      " [nan nan nan ... nan nan nan]\n",
      " ...\n",
      " [nan nan nan ... nan nan nan]\n",
      " [nan nan nan ... nan nan nan]\n",
      " [nan nan nan ... nan nan nan]] 5121\n"
     ]
    }
   ],
   "source": [
    "pat5 = np.load('features_train_chb07.npy')\n",
    "for i in range(len(pat5)):\n",
    "    #print(pat5[i])\n",
    "    if np.isnan(np.min((pat5[i,:,:]))):\n",
    "        print(pat5[i], i)"
   ]
  },
  {
   "cell_type": "code",
   "execution_count": 76,
   "metadata": {},
   "outputs": [
    {
     "name": "stdout",
     "output_type": "stream",
     "text": [
      "(257380, 22, 1024)\n",
      "85990\n",
      "85991\n",
      "85992\n",
      "85993\n"
     ]
    }
   ],
   "source": [
    "c=0\n",
    "print(features_train8.shape)\n",
    "for i in range(len(features_train8)):\n",
    "    if np.isnan(np.min((features_train8[i,:,:]))):\n",
    "        print(i)\n",
    "#print(c)"
   ]
  },
  {
   "cell_type": "code",
   "execution_count": 70,
   "metadata": {},
   "outputs": [
    {
     "name": "stdout",
     "output_type": "stream",
     "text": [
      "features tensorshape  torch.Size([95636, 1, 22, 1024])\n"
     ]
    }
   ],
   "source": [
    "features_test = np.load('features_train_4secs_1-4.npy')\n",
    "labels_test = np.load('labels_train_4secs_1-4.npy')\n",
    "feature_tensor = torch.Tensor(features_test)   #################SET THE RIGHT FEATURE############\n",
    "feature_tensor = feature_tensor.unsqueeze(dim = 1)\n",
    "print('features tensorshape ', feature_tensor.shape)\n",
    "label_tensor = torch.Tensor(labels_test) #################SET THE RIGHT LABEL#################\n",
    "\n",
    "\n",
    "dataset = utils.data.TensorDataset(feature_tensor, label_tensor)"
   ]
  },
  {
   "cell_type": "code",
   "execution_count": 71,
   "metadata": {},
   "outputs": [
    {
     "name": "stdout",
     "output_type": "stream",
     "text": [
      "346\n"
     ]
    }
   ],
   "source": [
    "c=0\n",
    "for i in range(len(labels_test)):\n",
    "  if labels_test[i] ==1:\n",
    "    c +=1\n",
    "    #print(labels_train[i])\n",
    "print(c)"
   ]
  },
  {
   "cell_type": "code",
   "execution_count": 45,
   "metadata": {},
   "outputs": [],
   "source": [
    "with open('features_train_4secs_1-4.npy', 'wb') as f:\n",
    "  np.save(f, features_train8)\n",
    "  f.close\n",
    "  \n",
    "with open('labels_train_4secs_1-4.npy', 'wb') as f:\n",
    "  np.save(f, labels_train8)\n",
    "  f.close"
   ]
  },
  {
   "cell_type": "code",
   "execution_count": 49,
   "metadata": {},
   "outputs": [
    {
     "name": "stdout",
     "output_type": "stream",
     "text": [
      "features shape  (900, 23, 1024)\n",
      "labels shape (900,)\n",
      "features tensorshape  torch.Size([900, 1, 23, 1024])\n"
     ]
    }
   ],
   "source": [
    "features_test = np.load('features_test.npy')\n",
    "labels_test = np.load('labels_test.npy')\n",
    "\n",
    "print('features shape ', features_test.shape)\n",
    "    # print('feature 0', features[0])\n",
    "print('labels shape', labels_test.shape)\n",
    "  #for i in range(len(labels)):\n",
    "    #print(labels[i])\n",
    "\n",
    "feature_tensor = torch.Tensor(features_test)\n",
    "feature_tensor = feature_tensor.unsqueeze(dim = 1)\n",
    "print('features tensorshape ', feature_tensor.shape)\n",
    "label_tensor = torch.Tensor(labels_test)\n",
    "\n",
    "test_dataset = utils.data.TensorDataset(feature_tensor, label_tensor)"
   ]
  },
  {
   "cell_type": "code",
   "execution_count": 81,
   "metadata": {},
   "outputs": [],
   "source": [
    "train_size = int(0.7*len(dataset))\n",
    "val_size = int(0.3*len(dataset))\n",
    "#test_size = int(0.1*len(dataset))"
   ]
  },
  {
   "cell_type": "code",
   "execution_count": 83,
   "metadata": {},
   "outputs": [],
   "source": [
    "#import numpy as np\n",
    "#dataset = np.load(path+'preprocessed_data')\n",
    "train_dataset, val_dataset = data.random_split(dataset,\n",
    "                                               [train_size, val_size], generator=torch.Generator().manual_seed(42))"
   ]
  },
  {
   "cell_type": "code",
   "execution_count": 84,
   "metadata": {},
   "outputs": [
    {
     "data": {
      "text/plain": [
       "(16737, 7173)"
      ]
     },
     "execution_count": 84,
     "metadata": {},
     "output_type": "execute_result"
    }
   ],
   "source": [
    "len(train_dataset), len(val_dataset)#, len(test_dataset)"
   ]
  },
  {
   "cell_type": "code",
   "execution_count": 61,
   "metadata": {},
   "outputs": [
    {
     "ename": "RuntimeError",
     "evalue": "Boolean value of Tensor with more than one value is ambiguous",
     "output_type": "error",
     "traceback": [
      "\u001b[1;31m---------------------------------------------------------------------------\u001b[0m",
      "\u001b[1;31mRuntimeError\u001b[0m                              Traceback (most recent call last)",
      "Cell \u001b[1;32mIn [61], line 6\u001b[0m\n\u001b[0;32m      4\u001b[0m   img, label \u001b[39m=\u001b[39m train_dataset[i][\u001b[39m0\u001b[39m], train_dataset[i][\u001b[39m1\u001b[39m]\n\u001b[0;32m      5\u001b[0m   \u001b[39mfor\u001b[39;00m j \u001b[39min\u001b[39;00m \u001b[39mrange\u001b[39m(\u001b[39mlen\u001b[39m(img)):\n\u001b[1;32m----> 6\u001b[0m     \u001b[39mif\u001b[39;00m torch\u001b[39m.\u001b[39;49misnan(img[\u001b[39m0\u001b[39;49m:\u001b[39m23\u001b[39;49m,j]) \u001b[39m==\u001b[39;49m \u001b[39mTrue\u001b[39;49;00m:\n\u001b[0;32m      7\u001b[0m       \u001b[39m#c_train+=1\u001b[39;00m\n\u001b[0;32m      8\u001b[0m       \u001b[39mprint\u001b[39m(torch\u001b[39m.\u001b[39misnan(img[\u001b[39m0\u001b[39m:\u001b[39m23\u001b[39m,j]))\n\u001b[0;32m      9\u001b[0m   \u001b[39m#print(f\"Image tensor:\\n{img}\")\u001b[39;00m\n\u001b[0;32m     10\u001b[0m   \u001b[39m#print(f\"Image shape: {img.shape}\")\u001b[39;00m\n\u001b[0;32m     11\u001b[0m   \u001b[39m#print(f\"Image datatype: {img.dtype}\")\u001b[39;00m\n\u001b[1;32m   (...)\u001b[0m\n\u001b[0;32m     15\u001b[0m \u001b[39m#print(c_train)\u001b[39;00m\n\u001b[0;32m     16\u001b[0m   \u001b[39m#print(f\"Label datatype: {type(label)}\")\u001b[39;00m\n",
      "\u001b[1;31mRuntimeError\u001b[0m: Boolean value of Tensor with more than one value is ambiguous"
     ]
    }
   ],
   "source": [
    "c_train = 0\n",
    "train_dataset = dataset\n",
    "for i in range(len(train_dataset)):\n",
    "  img, label = train_dataset[i][0], train_dataset[i][1]\n",
    "  for j in range(len(img)):\n",
    "    if torch.isnan(img[0:23,j]) == True:\n",
    "      #c_train+=1\n",
    "      print(torch.isnan(img[0:23,j]))\n",
    "  #print(f\"Image tensor:\\n{img}\")\n",
    "  #print(f\"Image shape: {img.shape}\")\n",
    "  #print(f\"Image datatype: {img.dtype}\")\n",
    "  # if label == 1.0:\n",
    "  #   c_train +=1\n",
    "    #print(f\"Image label: {label}\")\n",
    "#print(c_train)\n",
    "  #print(f\"Label datatype: {type(label)}\")"
   ]
  },
  {
   "cell_type": "code",
   "execution_count": 86,
   "metadata": {},
   "outputs": [
    {
     "name": "stdout",
     "output_type": "stream",
     "text": [
      "0\n"
     ]
    }
   ],
   "source": [
    "c_val = 0\n",
    "for i in range(len(val_dataset)):\n",
    "  _, label = val_dataset[i][0], val_dataset[i][1]\n",
    "  #print(f\"Image tensor:\\n{img}\")\n",
    "  #print(f\"Image shape: {img.shape}\")\n",
    "  #print(f\"Image datatype: {img.dtype}\")\n",
    "  if label == 1.0:\n",
    "    #print(f\"Image label: {label}\")\n",
    "    c_val +=1\n",
    "  #print(f\"Label datatype: {type(label)}\")\n",
    "print(c_val)"
   ]
  },
  {
   "cell_type": "code",
   "execution_count": 16,
   "metadata": {},
   "outputs": [
    {
     "name": "stdout",
     "output_type": "stream",
     "text": [
      "33\n"
     ]
    }
   ],
   "source": [
    "c_test = 0\n",
    "for i in range(len(test_dataset)):\n",
    "  _, label = test_dataset[i][0], test_dataset[i][1]\n",
    "  #print(f\"Image tensor:\\n{img}\")\n",
    "  #print(f\"Image shape: {img.shape}\")\n",
    "  #print(f\"Image datatype: {img.dtype}\")\n",
    "  if label == 1.0:\n",
    "    c_test +=1\n",
    "   # print(f\"Image label: {label}\")\n",
    "print(c_test)\n",
    "  #print(f\"Label datatype: {type(label)}\")"
   ]
  },
  {
   "cell_type": "markdown",
   "metadata": {},
   "source": [
    "# Weighted Random Sampler\n"
   ]
  },
  {
   "cell_type": "code",
   "execution_count": null,
   "metadata": {},
   "outputs": [],
   "source": [
    "from torch.utils.data.sampler import WeightedRandomSampler\n",
    "class_samples_count = [13745, 655]\n",
    "weight = [1/ class_samples_count[0], 1/class_samples_count[1]]\n",
    "#weight[0] = float(1/13745)\n",
    "#weight[1] = float(1/655)\n",
    "#samples_weight = [1/13745, 1/655]\n",
    "#samples_weight = [1, 100]\n",
    "samples_weight = np.array([weight[t] for t in range(2)])\n",
    "\n",
    "samples_weight = torch.from_numpy(samples_weight)\n",
    "samples_weigth = samples_weight.double()\n",
    "#print(samples_weight)\n",
    "sampler_train = WeightedRandomSampler(weights = samples_weight, num_samples = len(train_dataset), replacement=True)\n",
    "\n",
    "sampler_val = WeightedRandomSampler(samples_weight, len(val_dataset), replacement=True)"
   ]
  },
  {
   "cell_type": "markdown",
   "metadata": {},
   "source": [
    "# Dataloader\n"
   ]
  },
  {
   "cell_type": "markdown",
   "metadata": {},
   "source": [
    "# MyDataLoader\n"
   ]
  },
  {
   "cell_type": "code",
   "execution_count": 26,
   "metadata": {},
   "outputs": [],
   "source": [
    "from torch.utils.data import DataLoader\n",
    "\n",
    "\n",
    "train_dataloader = DataLoader(dataset=train_dataset, # use custom created train Dataset\n",
    "                                     #sampler = sampler_train,\n",
    "                                     batch_size=32, # how many samples per batch?\n",
    "                                     num_workers=4, # how many subprocesses to use for data loading? (higher = more)\n",
    "                                     shuffle=True) # shuffle the data?\n",
    "\n",
    "val_dataloader = DataLoader(dataset=val_dataset, # use custom created test Dataset\n",
    "                                    #sampler = sampler_val,\n",
    "                                    batch_size=32, \n",
    "                                    num_workers=4, \n",
    "                                    shuffle=False) # don't usually need to shuffle testing data\n",
    "\n",
    "test_dataloader = DataLoader(dataset=test_dataset, # use custom created test Dataset\n",
    "                                    #sampler = sampler,\n",
    "                                    batch_size=32, \n",
    "                                    num_workers=4, \n",
    "                                    shuffle=False) # don't usually need to shuffle testing data\n",
    "\n",
    "\n",
    "train_dataloader, val_dataloader, test_dataloader\n",
    "\n",
    "# Get image and label from custom DataLoader\n",
    "\n",
    "# for i in range(len(train_dataloader)):\n",
    "#   img_custom_val, label_val = next(iter(train_dataloader))\n",
    "#   #print(img_custom_val.shape)\n",
    "#   if label_val.any == 1.0:\n",
    "#     print(label_val)\n"
   ]
  },
  {
   "cell_type": "markdown",
   "metadata": {},
   "source": [
    "# 2D CNN\n"
   ]
  },
  {
   "cell_type": "code",
   "execution_count": 15,
   "metadata": {},
   "outputs": [
    {
     "name": "stdout",
     "output_type": "stream",
     "text": [
      "CNN(\n",
      "  (conv1): Conv2d(1, 4, kernel_size=(1, 8), stride=(1, 1), padding=same)\n",
      "  (pool1): MaxPool2d(kernel_size=(1, 8), stride=(1, 8), padding=0, dilation=1, ceil_mode=False)\n",
      "  (conv2): Conv2d(4, 16, kernel_size=(1, 16), stride=(1, 1), padding=same)\n",
      "  (pool2): MaxPool2d(kernel_size=(1, 4), stride=(1, 4), padding=0, dilation=1, ceil_mode=False)\n",
      "  (conv3): Conv2d(16, 16, kernel_size=(1, 8), stride=(1, 1), padding=same)\n",
      "  (pool3): MaxPool2d(kernel_size=(1, 4), stride=(1, 4), padding=0, dilation=1, ceil_mode=False)\n",
      "  (conv4): Conv2d(16, 16, kernel_size=(16, 1), stride=(1, 1), padding=same)\n",
      "  (pool4): MaxPool2d(kernel_size=(4, 1), stride=(4, 1), padding=0, dilation=1, ceil_mode=False)\n",
      "  (conv5): Conv2d(16, 16, kernel_size=(16, 1), stride=(1, 1), padding=same)\n",
      "  (pool5): MaxPool2d(kernel_size=(4, 1), stride=(4, 1), padding=0, dilation=1, ceil_mode=False)\n",
      "  (pool6): AvgPool2d(kernel_size=(1, 8), stride=(1, 8), padding=0)\n",
      "  (fcn): Linear(in_features=16, out_features=2, bias=True)\n",
      ")\n",
      "torch.Size([3, 2])\n"
     ]
    }
   ],
   "source": [
    "import torch\n",
    "import torch.nn as nn\n",
    "import torch.optim as optim\n",
    "import torch.nn.functional as F\n",
    "import numpy as np\n",
    "import matplotlib.pyplot as plt\n",
    "\n",
    "x = torch.randn(3,1,22,1024).to(device)\n",
    "#print(x.shape)\n",
    "\n",
    "class CNN(nn.Module):\n",
    "    def __init__(self, size):\n",
    "        super().__init__()\n",
    "        self.conv1 = nn.Conv2d(in_channels=1, out_channels=4, kernel_size=(1,8), stride = (1,1), padding = 'same')\n",
    "        self.pool1 = nn.MaxPool2d(kernel_size=(1,8), stride=(1,8))\n",
    "        self.conv2 = nn.Conv2d(in_channels=4, out_channels=16, kernel_size=(1,16), stride = (1,1), padding = 'same')\n",
    "        self.pool2 = nn.MaxPool2d(kernel_size=(1,4), stride=(1,4))\n",
    "        self.conv3 = nn.Conv2d(in_channels=16, out_channels=16, kernel_size=(1,8), stride = (1,1), padding = 'same')\n",
    "        self.pool3 = nn.MaxPool2d(kernel_size=(1,4), stride=(1,4))\n",
    "        self.conv4 = nn.Conv2d(in_channels=16, out_channels=16, kernel_size=(16,1), stride = (1,1), padding = 'same')\n",
    "        self.pool4 = nn.MaxPool2d(kernel_size=(4,1), stride=(4,1))\n",
    "        self.conv5 = nn.Conv2d(in_channels=16, out_channels=16, kernel_size=(16,1), stride = (1,1), padding = 'same')\n",
    "        self.pool5 = nn.MaxPool2d(kernel_size=(4,1), stride=(4,1))\n",
    "        self.pool6 = nn.AvgPool2d(kernel_size=(1,int(size/128)), stride=(1,int(size/128)))\n",
    "        self.fcn = nn.Linear(16, 2)\n",
    "        #self.sigmoid=nn.Sigmoid()\n",
    "    \n",
    "    def forward(self,x):\n",
    "        x=F.relu(self.conv1(x))\n",
    "        #print('conv1 and relu', x.shape)\n",
    "        x= self.pool1(x)\n",
    "        #print('pool1', x.shape)\n",
    "        x=F.relu(self.conv2(x))\n",
    "        #print('conv2 and relu',x.shape)\n",
    "        x= self.pool2(x)\n",
    "        #print('pool2', x.shape)\n",
    "        x=F.relu(self.conv3(x))\n",
    "        #print('conv3 and relu', x.shape)\n",
    "        x= self.pool3(x)\n",
    "        #print('pool3', x.shape)\n",
    "        x=F.relu(self.conv4(x))\n",
    "        #print('conv4 and relu', x.shape)\n",
    "        x= self.pool4(x)\n",
    "        #print('pool4', x.shape)\n",
    "        x=F.relu(self.conv5(x))\n",
    "        #print('conv5 and relu', x.shape)\n",
    "        x= self.pool5(x)\n",
    "        #print('pool5', x.shape)\n",
    "        x= self.pool6(x)\n",
    "        #print('global avg pooling', x.shape)\n",
    "        x = torch.squeeze(x,2)\n",
    "        #print('1st squeezed x', x.shape)\n",
    "        x = torch.squeeze(x,2)\n",
    "        #print('2nd squeezed x', x.shape)\n",
    "        x= self.fcn(x)\n",
    "        #print('fcn', x.shape)\n",
    "        #x= self.sigmoid(x)\n",
    "        #print('final prediction', x.shape)\n",
    "        return x\n",
    "    \n",
    "torch.manual_seed(42)\n",
    "#model_1 = CNN(256).to(device)\n",
    "#model_2 = CNN(512).to(device)\n",
    "model = CNN(1024).to(device)\n",
    "output = model(x.to(device))\n",
    "print(model)\n",
    "print(output.shape)\n",
    "#output = model(img_custom_test.to(device))\n",
    "#print(output)"
   ]
  },
  {
   "cell_type": "code",
   "execution_count": 29,
   "metadata": {},
   "outputs": [
    {
     "name": "stdout",
     "output_type": "stream",
     "text": [
      "Collecting torchmetrics\n",
      "  Downloading torchmetrics-0.10.3-py3-none-any.whl (529 kB)\n",
      "     -------------------------------------- 529.7/529.7 kB 4.8 MB/s eta 0:00:00\n",
      "Requirement already satisfied: numpy>=1.17.2 in c:\\users\\taachup2\\miniconda3\\lib\\site-packages (from torchmetrics) (1.23.4)\n",
      "Requirement already satisfied: packaging in c:\\users\\taachup2\\miniconda3\\lib\\site-packages (from torchmetrics) (21.3)\n",
      "Requirement already satisfied: torch>=1.3.1 in c:\\users\\taachup2\\miniconda3\\lib\\site-packages (from torchmetrics) (1.13.0)\n",
      "Requirement already satisfied: typing_extensions in c:\\users\\taachup2\\miniconda3\\lib\\site-packages (from torch>=1.3.1->torchmetrics) (4.4.0)\n",
      "Requirement already satisfied: pyparsing!=3.0.5,>=2.0.2 in c:\\users\\taachup2\\miniconda3\\lib\\site-packages (from packaging->torchmetrics) (3.0.9)\n",
      "Installing collected packages: torchmetrics\n",
      "Successfully installed torchmetrics-0.10.3\n"
     ]
    }
   ],
   "source": [
    "try: \n",
    "    import torchmetrics\n",
    "except:\n",
    "    !pip install torchmetrics \n",
    "    import torchmetrics"
   ]
  },
  {
   "cell_type": "code",
   "execution_count": 16,
   "metadata": {},
   "outputs": [],
   "source": [
    "import torch\n",
    "def train_step(model: torch.nn.Module, \n",
    "               dataloader: torch.utils.data.DataLoader, \n",
    "               loss_fn: torch.nn.Module, \n",
    "               optimizer: torch.optim.Optimizer):\n",
    "\n",
    "    # Put model in train mode\n",
    "    model.train()\n",
    "    \n",
    "    # Setup train loss and train accuracy values\n",
    "    train_loss, train_acc, train_avg_loss, train_avg_acc = 0, 0, 0, 0, \n",
    "    \n",
    "    # Loop through data loader data batches\n",
    "    for batch, (X_train, y_train) in enumerate(dataloader):\n",
    "        # Send data to target device\n",
    "        X_train = X_train.to(device)\n",
    "        #print(X_train.shape)\n",
    "        y_train = y_train.type(torch.LongTensor) \n",
    "        y_train = y_train.to(device)\n",
    "        #print(y_train.shape)\n",
    "\n",
    "        # 1. Forward pass\n",
    "        y_logits_train = model(X_train)\n",
    "        #print(y_logits_train.shape)\n",
    "        y_prob_train = torch.softmax(y_logits_train, dim=1)\n",
    "        #print(y_logits_train.shape)\n",
    "\n",
    "        # 2. Calculate  and accumulate loss\n",
    "        loss = loss_fn(y_prob_train, y_train)\n",
    "        train_loss += loss.item() \n",
    "\n",
    "        # 3. Optimizer zero grad\n",
    "        optimizer.zero_grad()\n",
    "\n",
    "        # 4. Loss backward\n",
    "        loss.backward()\n",
    "\n",
    "        # 5. Optimizer step\n",
    "        optimizer.step()\n",
    "\n",
    "        # Calculate and accumulate accuracy metric across all batches\n",
    "        y_pred_train = torch.argmax(torch.softmax(y_logits_train, dim=1), dim=1)\n",
    "        train_acc += (y_pred_train == y_train).sum().item()/len(y_logits_train)\n",
    "\n",
    "        # Calculate and accumulate specificity\n",
    "        # specificity = Specificity(average='micro', num_classes=2).to(device)\n",
    "        # train_spec += specificity(y_pred_train, y_train)\n",
    "\n",
    "    # Adjust metrics to get average loss and accuracy per batch \n",
    "    train_avg_loss = train_loss / len(dataloader)\n",
    "    train_avg_acc = train_acc / len(dataloader)\n",
    "    #train_avg_spec = train_spec / len(dataloader)\n",
    "    return train_avg_loss, train_avg_acc"
   ]
  },
  {
   "cell_type": "code",
   "execution_count": 17,
   "metadata": {},
   "outputs": [],
   "source": [
    "from sklearn.metrics import confusion_matrix, accuracy_score, f1_score\n",
    "\n",
    "'''\n",
    "TP : the number of segments that are correctly identified as ictal (x_true == x_pred == 1)\n",
    "TN : the number of EEG segments that are correctly classified as non-ictal (x_true == x_pred == 0)\n",
    "FP : the number of EEG segments that are incorrectly classified as ictal (x_true == 0 && x_pred == 1)\n",
    "FN : the segments that are incorrectly classified as non-ictal (x_true == 1 && x_pred == 0)\n",
    "'''\n",
    "def classificationPerformanceIndexes (true_arr, pred_arr):\n",
    "    (tn, fp, fn, tp) = confusion_matrix(true_arr, pred_arr, labels=[0, 1]).ravel()\n",
    "    acc = accuracy_score(true_arr, pred_arr)                           # Accuracy\n",
    "    snv = tp/(tp + fn)                                                 # Sensitivity or True Positive Rate (TPR)\n",
    "    spc = tn/(tn + fp)                                                 # Specificity or True Negative Rate (TNR)\n",
    "    ppv = tp/(tp + fp)                                                 # Precision or Positive Predictive Value (PPV)\n",
    "    f1 = f1_score(true_arr, pred_arr)                                  # F1 score\n",
    "    #mcc = matthews_corrcoef(true_arr, pred_arr)                        # Matthews Correlation Coefficient\n",
    "    #kappa = cohen_kappa_score(true_arr, pred_arr)                      # Cohen’s Kappa    \n",
    "    return acc, snv, spc, ppv, f1"
   ]
  },
  {
   "cell_type": "code",
   "execution_count": 18,
   "metadata": {},
   "outputs": [],
   "source": [
    "def printClassificationPerformanceIndexes(acc, snv, spc, ppv, f1):\n",
    "    #print('Method:', method)\n",
    "    print('Accuracy:', acc)\n",
    "    print('Sensitivity/Recall:', snv)\n",
    "    print('Specificity:', spc)\n",
    "    print('Precision:', ppv)\n",
    "    print('F1 Score:', f1)\n",
    "    #print('Matthews Correlation Coefficient:', mcc)\n",
    "    #print('Cohen’s Kappa:', kappa)"
   ]
  },
  {
   "cell_type": "code",
   "execution_count": 73,
   "metadata": {},
   "outputs": [],
   "source": [
    "def val_step(model: torch.nn.Module, \n",
    "              dataloader: torch.utils.data.DataLoader, \n",
    "              loss_fn: torch.nn.Module):\n",
    "\n",
    "    # Put model in eval mode\n",
    "    model.eval() \n",
    "    y_true = []\n",
    "    y_pred = []\n",
    "    # Setup test loss and test accuracy values\n",
    "    val_loss, val_acc, val_spec, val_avg_loss, val_avg_acc, val_avg_spec = 0, 0, 0, 0, 0, 0\n",
    "    acc, snv, spc, ppv, f1 = 0,0,0,0,0\n",
    "    # for i in range(len(dataloader)):\n",
    "    #     _, label_val = next(iter(dataloader))\n",
    "    #     print(label_val)\n",
    "    #print(dataloader.shape)\n",
    "    # Turn on inference context manager\n",
    "    with torch.inference_mode():\n",
    "        # Loop through DataLoader batches\n",
    "        for batch, (X_val, y_val) in enumerate(dataloader):\n",
    "            # Send data to target device\n",
    "            X_val = X_val.to(device)\n",
    "            #print('shape of x_val', X_val.shape)\n",
    "            y_val = y_val.type(torch.LongTensor) \n",
    "            y_val = y_val.to(device)\n",
    "            y_true.append(y_val)\n",
    "            # 1. Forward pass\n",
    "            y_logits_val = model(X_val)\n",
    "            #print('y_val shape',y_val.shape)\n",
    "            #print('y_val_logits shape', y_logits_val.shape)\n",
    "            y_prob_val = torch.softmax(y_logits_val, dim=1)\n",
    "            #print('y_val_softmax shape', y_prob_val.shape)\n",
    "            # 2. Calculate and accumulate loss\n",
    "            loss = loss_fn(y_prob_val, y_val)\n",
    "            val_loss += loss.item()\n",
    "            \n",
    "            # Calculate and accumulate accuracy\n",
    "            y_pred_val = torch.argmax(torch.softmax(y_logits_val, dim=1), dim=1)\n",
    "            val_acc += ((y_pred_val == y_val).sum().item()/len(y_logits_val))\n",
    "            y_pred.append(y_pred_val)\n",
    "            # Calculate and accumulate specificity\n",
    "            \n",
    "            #print(y_val.cpu().numpy())\n",
    "            #print(y_pred_val.cpu().numpy())\n",
    "            acc, snv, spc, ppv, f1 = classificationPerformanceIndexes(y_val.cpu().numpy(), y_pred_val.cpu().numpy())\n",
    "            #printClassificationPerformanceIndexes(acc, snv, spc, ppv, f1)\n",
    "            # specificity = Specificity(average='micro', num_classes=2).to(device)\n",
    "            # val_spec += specificity(y_pred_val, y_val) \n",
    "            val_spec += spc  \n",
    "            \n",
    "    # Adjust metrics to get average loss and accuracy per batch \n",
    "    val_avg_loss = val_loss / len(dataloader)\n",
    "    val_avg_acc = val_acc / len(dataloader)\n",
    "    val_avg_spec = val_spec / len(dataloader)\n",
    "    return val_avg_loss, val_avg_acc, val_avg_spec, y_true, y_pred"
   ]
  },
  {
   "cell_type": "code",
   "execution_count": 58,
   "metadata": {},
   "outputs": [
    {
     "name": "stdout",
     "output_type": "stream",
     "text": [
      "tensor([-0.2399,  1.2119, -0.4352], requires_grad=True) torch.Size([3])\n",
      "tensor([1., 1., 1.]) torch.Size([3])\n",
      "tensor([0.4403, 0.7706, 0.3929], grad_fn=<SigmoidBackward0>) torch.Size([3])\n"
     ]
    }
   ],
   "source": [
    " m = nn.Sigmoid()\n",
    "loss = nn.BCELoss()\n",
    "input = torch.randn(3, requires_grad=True)\n",
    "print(input, input.shape)\n",
    "target = torch.empty(3).random_(2)\n",
    "print(target, target.shape)\n",
    "output = loss(m(input), target)\n",
    "print(m(input), (m(input)).shape)\n"
   ]
  },
  {
   "cell_type": "code",
   "execution_count": 72,
   "metadata": {},
   "outputs": [],
   "source": [
    "from tqdm.auto import tqdm\n",
    "import torch\n",
    "import torch.nn as nn\n",
    "\n",
    "# 1. Take in various parameters required for training and test steps\n",
    "def train(model: torch.nn.Module, \n",
    "          train_dataloader: torch.utils.data.DataLoader, \n",
    "          val_dataloader: torch.utils.data.DataLoader, \n",
    "          optimizer: torch.optim.Optimizer,\n",
    "          loss_fn: torch.nn.Module = nn.CrossEntropyLoss(weight=torch.FloatTensor([1.0000, 47818/346])),  #[ 1.0000, 47818/346])),    1.000, 257380/835       #weight=torch.FloatTensor([ 1.0000, 66.5922])),\n",
    "          epochs: int = 5):\n",
    "    \n",
    "    # 2. Create empty results dictionary\n",
    "    results = {\"train_loss\": [],\n",
    "        \"train_acc\": [],\n",
    "        #\"train_spec\": [],\n",
    "        \"val_loss\": [],\n",
    "        \"val_acc\": [],\n",
    "        \"val_spec\": []\n",
    "    }\n",
    "    \n",
    "    # 3. Loop through training and testing steps for a number of epochs\n",
    "    for epoch in range(epochs):\n",
    "        train_avg_loss, train_avg_acc = train_step(model=model,\n",
    "                                           dataloader=train_dataloader,\n",
    "                                           loss_fn=loss_fn,\n",
    "                                           optimizer=optimizer)\n",
    "\n",
    "        val_avg_loss, val_avg_acc, val_avg_spec, y_true, y_pred = val_step(model=model,\n",
    "            dataloader=val_dataloader,\n",
    "            loss_fn=loss_fn)\n",
    "        \n",
    "        \n",
    "        # 4. Print out what's happening\n",
    "        print(\n",
    "            f\"Epoch: {epoch+1} | \"\n",
    "            f\"train_loss: {train_avg_loss:.4f} | \"\n",
    "            f\"train_acc: {train_avg_acc:.4f} | \"\n",
    "           # f\"train_spec: {train_avg_spec:.4f} \"\n",
    "            f\"val_loss: {val_avg_loss:.4f} | \"\n",
    "            f\"val_acc: {val_avg_acc:.4f} |\"\n",
    "            f\"val_spec: {val_avg_spec:.4f} \"\n",
    "        )\n",
    "        \n",
    "        \n",
    "\n",
    "        # 5. Update results dictionary\n",
    "        results[\"train_loss\"].append(train_avg_loss)\n",
    "        results[\"train_acc\"].append(train_avg_acc)\n",
    "     #   results[\"train_spec\"].append(train_avg_spec)\n",
    "        results[\"val_loss\"].append(val_avg_loss)\n",
    "        results[\"val_acc\"].append(val_avg_acc)\n",
    "        results[\"val_spec\"].append(val_avg_spec)\n",
    "\n",
    "    # 6. Return the filled results at the end of the epochs\n",
    "    return results"
   ]
  },
  {
   "cell_type": "code",
   "execution_count": 21,
   "metadata": {},
   "outputs": [
    {
     "name": "stdout",
     "output_type": "stream",
     "text": [
      "tensor([ 1.0000, 66.5922])\n"
     ]
    }
   ],
   "source": [
    "weight = torch.FloatTensor([1.0, total_duration_nonseizure/total_duration_seizure])\n",
    "print(weight)"
   ]
  },
  {
   "cell_type": "code",
   "execution_count": 31,
   "metadata": {},
   "outputs": [
    {
     "data": {
      "text/plain": [
       "tensor([1.0613e-05, 7.0671e-04])"
      ]
     },
     "execution_count": 31,
     "metadata": {},
     "output_type": "execute_result"
    }
   ],
   "source": [
    "weight = torch.FloatTensor([1/total_duration_nonseizure, 1/total_duration_seizure])\n",
    "weight"
   ]
  },
  {
   "cell_type": "code",
   "execution_count": 74,
   "metadata": {},
   "outputs": [
    {
     "name": "stdout",
     "output_type": "stream",
     "text": [
      "Fold 1\n",
      "Epoch: 1 | train_loss: 0.4651 | train_acc: 0.9965 | val_loss: 0.4627 | val_acc: 0.9962 |val_spec: 1.0000 \n",
      "Epoch: 2 | train_loss: 0.4542 | train_acc: 0.9964 | val_loss: 0.4763 | val_acc: 0.9962 |val_spec: 1.0000 \n",
      "Epoch: 3 | train_loss: 0.4569 | train_acc: 0.9965 | val_loss: 0.4642 | val_acc: 0.9962 |val_spec: 1.0000 \n",
      "Epoch: 4 | train_loss: 0.4546 | train_acc: 0.9965 | val_loss: 0.4718 | val_acc: 0.9962 |val_spec: 1.0000 \n",
      "Epoch: 5 | train_loss: 0.4555 | train_acc: 0.9965 | val_loss: 0.4688 | val_acc: 0.9962 |val_spec: 1.0000 \n",
      "Total training time: 85.846 seconds\n",
      "Fold 2\n",
      "Epoch: 1 | train_loss: 0.4600 | train_acc: 0.9771 | val_loss: 0.4668 | val_acc: 0.9960 |val_spec: 1.0000 \n",
      "Epoch: 2 | train_loss: 0.4531 | train_acc: 0.9965 | val_loss: 0.4712 | val_acc: 0.9960 |val_spec: 1.0000 \n",
      "Epoch: 3 | train_loss: 0.4541 | train_acc: 0.9965 | val_loss: 0.4743 | val_acc: 0.9960 |val_spec: 1.0000 \n",
      "Epoch: 4 | train_loss: 0.4546 | train_acc: 0.9965 | val_loss: 0.4728 | val_acc: 0.9960 |val_spec: 1.0000 \n",
      "Epoch: 5 | train_loss: 0.4546 | train_acc: 0.9965 | val_loss: 0.4788 | val_acc: 0.9960 |val_spec: 1.0000 \n",
      "Total training time: 88.122 seconds\n",
      "Fold 3\n",
      "Epoch: 1 | train_loss: 0.4690 | train_acc: 0.9808 | val_loss: 0.4476 | val_acc: 0.9967 |val_spec: 1.0000 \n",
      "Epoch: 2 | train_loss: 0.4585 | train_acc: 0.9963 | val_loss: 0.4414 | val_acc: 0.9967 |val_spec: 1.0000 \n",
      "Epoch: 3 | train_loss: 0.4665 | train_acc: 0.9963 | val_loss: 0.4399 | val_acc: 0.9967 |val_spec: 1.0000 \n",
      "Epoch: 4 | train_loss: 0.4656 | train_acc: 0.9963 | val_loss: 0.4429 | val_acc: 0.9967 |val_spec: 1.0000 \n",
      "Epoch: 5 | train_loss: 0.4634 | train_acc: 0.9963 | val_loss: 0.4491 | val_acc: 0.9967 |val_spec: 1.0000 \n",
      "Total training time: 86.573 seconds\n",
      "Fold 4\n",
      "Epoch: 1 | train_loss: 0.4661 | train_acc: 0.9829 | val_loss: 0.4529 | val_acc: 0.9966 |val_spec: 1.0000 \n",
      "Epoch: 2 | train_loss: 0.4585 | train_acc: 0.9963 | val_loss: 0.4514 | val_acc: 0.9966 |val_spec: 1.0000 \n",
      "Epoch: 3 | train_loss: 0.4502 | train_acc: 0.9963 | val_loss: 0.4315 | val_acc: 0.9966 |val_spec: 1.0000 \n",
      "Epoch: 4 | train_loss: 0.4508 | train_acc: 0.9793 | val_loss: 0.4516 | val_acc: 0.9966 |val_spec: 1.0000 \n",
      "Epoch: 5 | train_loss: 0.4606 | train_acc: 0.9963 | val_loss: 0.4546 | val_acc: 0.9966 |val_spec: 1.0000 \n",
      "Total training time: 85.484 seconds\n"
     ]
    }
   ],
   "source": [
    "from sklearn.model_selection import KFold\n",
    "from torch.utils.data import Dataset, DataLoader,TensorDataset,random_split,SubsetRandomSampler, ConcatDataset\n",
    "k=4\n",
    "splits=KFold(n_splits=k,shuffle=True,random_state=42)\n",
    "batch_size = 64\n",
    "NUM_EPOCHS = 5\n",
    "foldperf={}\n",
    "\n",
    "for fold, (train_idx,val_idx) in enumerate(splits.split(np.arange(len(dataset)))):\n",
    "\n",
    "    print('Fold {}'.format(fold + 1))\n",
    "\n",
    "    train_sampler = SubsetRandomSampler(train_idx)\n",
    "    val_sampler = SubsetRandomSampler(val_idx)\n",
    "    train_dataloader = DataLoader(dataset, batch_size=batch_size, sampler=train_sampler)\n",
    "    val_dataloader = DataLoader(dataset, batch_size=batch_size, sampler=val_sampler)\n",
    "    \n",
    "    model = CNN(1024).to(device)\n",
    "    #weight = torch.FloatTensor([1.0,23.0])\n",
    "    weight = torch.FloatTensor([1.0000, 47818/346])    #1.0000, 47818/346])\n",
    "    #weight = torch.FloatTensor([1.0, total_duration_nonseizure/total_duration_seizure])\n",
    "    #weight = torch.FloatTensor([total_duration_seizure/total_duration, total_duration_nonseizure/total_duration])\n",
    "    #weight = torch.FloatTensor([1/total_duration_nonseizure, 1/total_duration_seizure])\n",
    "    #weight = weight.type(torch.LongTensor)\n",
    "    weight = weight.to(device)\n",
    "    # Setup loss function and optimizer\n",
    "    #loss_fn = nn.BCELoss(weight = weight)\n",
    "    loss_fn = nn.CrossEntropyLoss(weight = weight)\n",
    "    optimizer = torch.optim.Adam(params=model.parameters(), lr=0.001) ########FROM 0.001 TO 0.01 DUE TO NAN LOSS VANISHING GRADIENTS#####\n",
    "    #, betas=(0.9, 0.999))\n",
    "\n",
    "    # Start the timer\n",
    "    from timeit import default_timer as timer \n",
    "    start_time = timer()\n",
    "\n",
    "    # Train model_0 \n",
    "    model_results = train(model=model, \n",
    "                        train_dataloader=train_dataloader,\n",
    "                        val_dataloader=val_dataloader,\n",
    "                        optimizer=optimizer,\n",
    "                        loss_fn=loss_fn, \n",
    "                        epochs=NUM_EPOCHS)\n",
    "\n",
    "# End the timer and print out how long it took\n",
    "    end_time = timer()\n",
    "    print(f\"Total training time: {end_time-start_time:.3f} seconds\")\n",
    "\n",
    "    foldperf['fold{}'.format(fold+1)] = model_results  \n",
    "\n",
    "#torch.save(model,'k_cross_CNN2D_4_5.pt')    \n"
   ]
  },
  {
   "cell_type": "code",
   "execution_count": null,
   "metadata": {},
   "outputs": [],
   "source": [
    "test_dataloader = DataLoader(dataset=test_dataset, # use custom created test Dataset\n",
    "                                    #sampler = sampler,\n",
    "                                    batch_size=32, \n",
    "                                    num_workers=4, \n",
    "                                    shuffle=False)\n",
    "\n",
    "test_loss, test_acc, test_spec = val_step(model=model,\n",
    "            dataloader=test_dataloader,\n",
    "            loss_fn=loss_fn)\n",
    "        \n",
    "        # 4. Print out what's happening\n",
    "print(\n",
    "      f\"test_loss: {test_loss:.4f} | \"\n",
    "      f\"test_acc: {test_acc:.4f} | \"\n",
    "      f\"test_spec: {test_spec:.4f} \")"
   ]
  },
  {
   "cell_type": "code",
   "execution_count": 62,
   "metadata": {},
   "outputs": [],
   "source": [
    "from sklearn.metrics import confusion_matrix, accuracy_score, f1_score\n",
    "\n",
    "'''\n",
    "TP : the number of segments that are correctly identified as ictal (x_true == x_pred == 1)\n",
    "TN : the number of EEG segments that are correctly classified as non-ictal (x_true == x_pred == 0)\n",
    "FP : the number of EEG segments that are incorrectly classified as ictal (x_true == 0 && x_pred == 1)\n",
    "FN : the segments that are incorrectly classified as non-ictal (x_true == 1 && x_pred == 0)\n",
    "'''\n",
    "def classificationPerformanceIndexes (true_arr, pred_arr):\n",
    "    (tn, fp, fn, tp) = confusion_matrix(true_arr, pred_arr, labels=[0, 1]).ravel()\n",
    "    acc = accuracy_score(true_arr, pred_arr)                           # Accuracy\n",
    "    snv = tp/(tp + fn)                                                 # Sensitivity or True Positive Rate (TPR)\n",
    "    spc = tn/(tn + fp)                                                 # Specificity or True Negative Rate (TNR)\n",
    "    ppv = tp/(tp + fp)                                                 # Precision or Positive Predictive Value (PPV)\n",
    "    f1 = f1_score(true_arr, pred_arr)                                  # F1 score\n",
    "    #mcc = matthews_corrcoef(true_arr, pred_arr)                        # Matthews Correlation Coefficient\n",
    "    #kappa = cohen_kappa_score(true_arr, pred_arr)                      # Cohen’s Kappa    \n",
    "    return acc, snv, spc, ppv, f1"
   ]
  },
  {
   "cell_type": "code",
   "execution_count": 47,
   "metadata": {},
   "outputs": [],
   "source": [
    "def printClassificationPerformanceIndexes(acc, snv, spc, ppv, f1):\n",
    "    #print('Method:', method)\n",
    "    print('Accuracy:', acc)\n",
    "    print('Sensitivity/Recall:', snv)\n",
    "    print('Specificity:', spc)\n",
    "    print('Precision:', ppv)\n",
    "    print('F1 Score:', f1)\n",
    "    #print('Matthews Correlation Coefficient:', mcc)\n",
    "    #print('Cohen’s Kappa:', kappa)"
   ]
  },
  {
   "cell_type": "code",
   "execution_count": 63,
   "metadata": {},
   "outputs": [
    {
     "name": "stdout",
     "output_type": "stream",
     "text": [
      "Accuracy: 1.0\n",
      "Sensitivity/Recall: nan\n",
      "Specificity: 1.0\n",
      "Precision: nan\n",
      "F1 Score: 0.0\n"
     ]
    }
   ],
   "source": [
    "a= [0, 0, 0,0]\n",
    "b = [0,0,0,0]\n",
    "acc, snv, spc, ppv, f1 = classificationPerformanceIndexes(a, b)\n",
    "printClassificationPerformanceIndexes(acc, snv, spc, ppv, f1)"
   ]
  },
  {
   "cell_type": "code",
   "execution_count": 75,
   "metadata": {},
   "outputs": [
    {
     "data": {
      "image/png": "[encoded data removed]",
      "text/plain": [
       "<Figure size 1500x700 with 2 Axes>"
      ]
     },
     "metadata": {},
     "output_type": "display_data"
    }
   ],
   "source": [
    "def plot_loss_curves(results):\n",
    "  #: Dict[str, List[float]]\n",
    "    \"\"\"Plots training curves of a results dictionary.\n",
    "\n",
    "    Args:\n",
    "        results (dict): dictionary containing list of values, e.g.\n",
    "            {\"train_loss\": [...],\n",
    "             \"train_acc\": [...],\n",
    "             \"test_loss\": [...],\n",
    "             \"test_acc\": [...]}\n",
    "    \"\"\"\n",
    "    \n",
    "    # Get the loss values of the results dictionary (training and test)\n",
    "    losses = results['train_loss']\n",
    "    losses_array= [loss for loss in losses]\n",
    "    #loss.detach().numpy()\n",
    "    #print(losses)\n",
    "    val_losses = results['val_loss']\n",
    "    #val_losses_array= [loss.detach().numpy() for loss in val_losses]\n",
    "    val_losses_array= [loss for loss in val_losses]\n",
    "\n",
    "    # Get the accuracy values of the results dictionary (training and test)\n",
    "    accuracy = results['train_acc']\n",
    "    #print(accuracy)\n",
    "    val_accuracy = results['val_acc']\n",
    "\n",
    "    # Get the specificity of the results dictionary (training and test)\n",
    "    #specificity = results['train_spec']\n",
    "    #specificity_array= [spec.cpu().numpy() for spec in specificity]\n",
    "    #print(specificity_array)\n",
    "    val_specificity = results['val_spec']\n",
    "    val_specificity_array = [spec for spec in val_specificity]\n",
    "    #val_specificity_array = [spec for spec in val_specificity]\n",
    "\n",
    "    # Figure out how many epochs there were\n",
    "    epochs = range(len(results['train_loss']))\n",
    "    #print(type(epochs))\n",
    "    # Setup a plot \n",
    "    plt.figure(figsize=(15, 7))\n",
    "\n",
    "    # Plot loss\n",
    "    plt.subplot(1, 3, 1)\n",
    "    plt.plot(epochs, losses_array, label='train_loss')\n",
    "    plt.plot(epochs, val_losses_array, label='val_loss')\n",
    "    plt.title('Loss')\n",
    "    plt.xlabel('Epochs')\n",
    "    plt.legend()\n",
    "\n",
    "    # Plot accuracy\n",
    "    plt.subplot(1, 3, 2)\n",
    "    plt.plot(epochs, accuracy, label='train_accuracy')\n",
    "    plt.plot(epochs, val_accuracy, label='val_accuracy')\n",
    "    plt.title('Accuracy')\n",
    "    plt.xlabel('Epochs')\n",
    "    plt.legend()\n",
    "\n",
    "    # Plot specificity\n",
    "    # plt.subplot(1, 3, 3)\n",
    "    # plt.plot(epochs, specificity_array, label='train_specificity')\n",
    "    # plt.plot(epochs, val_specificity_array, label='val_specificity')\n",
    "    # plt.title('Specificity')\n",
    "    # plt.xlabel('Epochs')\n",
    "    # plt.legend()\n",
    "\n",
    "plot_loss_curves(model_results)\n",
    "plt.savefig('model_results_with_class_weights_1_2_3_4_5fold.png')\n"
   ]
  },
  {
   "cell_type": "code",
   "execution_count": null,
   "metadata": {},
   "outputs": [],
   "source": [
    "# Set random seeds\n",
    "torch.manual_seed(42) \n",
    "torch.cuda.manual_seed(42)\n",
    "\n",
    "\n",
    "# Set number of epochs\n",
    "NUM_EPOCHS = 20\n",
    "\n",
    "# Recreate an instance of TinyVGG\n",
    "model = CNN(1024).to(device)\n",
    "weight = torch.FloatTensor([1.0,23.0])\n",
    "#weight = weight.type(torch.LongTensor)\n",
    "weight = weight.to(device)\n",
    "# Setup loss function and optimizer\n",
    "#loss_fn = nn.BCELoss(weight = weight)\n",
    "loss_fn = nn.CrossEntropyLoss(weight = weight)\n",
    "optimizer = torch.optim.Adam(params=model.parameters(), lr=0.001)\n",
    "#, betas=(0.9, 0.999))\n",
    "\n",
    "# Start the timer\n",
    "from timeit import default_timer as timer \n",
    "start_time = timer()\n",
    "\n",
    "# Train model_0 \n",
    "model_results = train(model=model, \n",
    "                        train_dataloader=train_dataloader,\n",
    "                        val_dataloader=val_dataloader,\n",
    "                        optimizer=optimizer,\n",
    "                        loss_fn=loss_fn, \n",
    "                        epochs=NUM_EPOCHS)\n",
    "\n",
    "# End the timer and print out how long it took\n",
    "end_time = timer()\n",
    "print(f\"Total training time: {end_time-start_time:.3f} seconds\")"
   ]
  },
  {
   "cell_type": "code",
   "execution_count": null,
   "metadata": {},
   "outputs": [],
   "source": []
  },
  {
   "cell_type": "code",
   "execution_count": null,
   "metadata": {},
   "outputs": [],
   "source": []
  },
  {
   "cell_type": "code",
   "execution_count": null,
   "metadata": {},
   "outputs": [],
   "source": []
  }
 ],
 "metadata": {
  "kernelspec": {
   "display_name": "Python 3.9.13 ('base')",
   "language": "python",
   "name": "python3"
  },
  "language_info": {
   "codemirror_mode": {
    "name": "ipython",
    "version": 3
   },
   "file_extension": ".py",
   "mimetype": "text/x-python",
   "name": "python",
   "nbconvert_exporter": "python",
   "pygments_lexer": "ipython3",
   "version": "3.9.13"
  },
  "orig_nbformat": 4,
  "vscode": {
   "interpreter": {
    "hash": "358db552dfe214f2c48020eb7daba081d1eb143fc51d32ee7a11605d9b3ad321"
   }
  }
 },
 "nbformat": 4,
 "nbformat_minor": 2
}
