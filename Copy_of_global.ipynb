{
  "cells": [
    {
      "cell_type": "markdown",
      "metadata": {
        "id": "view-in-github",
        "colab_type": "text"
      },
      "source": [
        "<a href=\"https://colab.research.google.com/github/upasana-crypto/seizure/blob/main/Copy_of_global.ipynb\" target=\"_parent\"><img src=\"https://colab.research.google.com/assets/colab-badge.svg\" alt=\"Open In Colab\"/></a>"
      ]
    },
    {
      "cell_type": "code",
      "source": [],
      "metadata": {
        "id": "Cf2pd7rPtj5E"
      },
      "execution_count": null,
      "outputs": []
    },
    {
      "cell_type": "code",
      "source": [
        "from google.colab import drive\n",
        "drive.mount('/content/drive/')"
      ],
      "metadata": {
        "colab": {
          "base_uri": "https://localhost:8080/"
        },
        "id": "iFnTIcHbtnnd",
        "outputId": "8f74efb2-a654-4ee6-92c6-9b378979c3b7"
      },
      "execution_count": null,
      "outputs": [
        {
          "output_type": "stream",
          "name": "stdout",
          "text": [
            "Mounted at /content/drive/\n"
          ]
        }
      ]
    },
    {
      "cell_type": "code",
      "execution_count": 9,
      "metadata": {
        "id": "Ie73Jo1g4Lr4",
        "colab": {
          "base_uri": "https://localhost:8080/"
        },
        "outputId": "fc18fc45-40f7-4d2d-d1b6-868bf154aa2a"
      },
      "outputs": [
        {
          "output_type": "stream",
          "name": "stdout",
          "text": [
            "Looking in indexes: https://pypi.org/simple, https://us-python.pkg.dev/colab-wheels/public/simple/\n",
            "Collecting pyedflib\n",
            "  Downloading pyEDFlib-0.1.30-cp38-cp38-manylinux_2_17_x86_64.manylinux2014_x86_64.whl (2.4 MB)\n",
            "\u001b[K     |████████████████████████████████| 2.4 MB 2.7 MB/s \n",
            "\u001b[?25hRequirement already satisfied: numpy>=1.9.1 in /usr/local/lib/python3.8/dist-packages (from pyedflib) (1.21.6)\n",
            "Installing collected packages: pyedflib\n",
            "Successfully installed pyedflib-0.1.30\n"
          ]
        }
      ],
      "source": [
        "try: \n",
        "    import pyedflib\n",
        "except:\n",
        "    !pip install pyedflib"
      ]
    },
    {
      "cell_type": "code",
      "execution_count": 10,
      "metadata": {
        "id": "GtWbDGkN4Lr7"
      },
      "outputs": [],
      "source": [
        "import pyedflib\n",
        "import numpy as np\n",
        "from scipy import signal\n",
        "import matplotlib.pyplot as plt\n",
        "import os\n",
        "import warnings \n",
        "import random\n",
        "import collections\n",
        "from numpy.random import seed\n",
        "import torch\n",
        "import torch.utils as utils\n",
        "import torch.utils.data as data\n",
        "from os import path\n",
        "import pandas as pd"
      ]
    },
    {
      "cell_type": "code",
      "execution_count": null,
      "metadata": {
        "id": "wIChhQKp4Lr8",
        "outputId": "1c8a9725-36aa-4813-e74d-10c1ddfc4793",
        "colab": {
          "base_uri": "https://localhost:8080/",
          "height": 36
        }
      },
      "outputs": [
        {
          "output_type": "execute_result",
          "data": {
            "text/plain": [
              "'cuda'"
            ],
            "application/vnd.google.colaboratory.intrinsic+json": {
              "type": "string"
            }
          },
          "metadata": {},
          "execution_count": 6
        }
      ],
      "source": [
        "# Setup device-agnostic code\n",
        "device = \"cuda\" if torch.cuda.is_available() else \"cpu\"\n",
        "device"
      ]
    },
    {
      "cell_type": "code",
      "source": [
        "from google.colab import drive\n",
        "drive.mount('/content/drive')"
      ],
      "metadata": {
        "colab": {
          "base_uri": "https://localhost:8080/"
        },
        "id": "Tn9qbzQA3cg7",
        "outputId": "f414f1b9-84f9-475d-86a0-8efefa51511b"
      },
      "execution_count": 2,
      "outputs": [
        {
          "output_type": "stream",
          "name": "stdout",
          "text": [
            "Mounted at /content/drive\n"
          ]
        }
      ]
    },
    {
      "cell_type": "code",
      "execution_count": 11,
      "metadata": {
        "id": "LnjtCs1V4Lr9"
      },
      "outputs": [],
      "source": [
        "warnings.filterwarnings(\"ignore\")\n",
        "pathDataSet = '/content/drive/MyDrive/upsi-seizure/data/CHB-MIT/'\n",
        "processed_data_path = '/content/drive/MyDrive/upsi-seizure/data/CHB-MIT_filtered/'\n",
        "channels = ['FP1-F7', 'F7-T7','T7-P7', 'P7-O1', 'FP1-F3', 'F3-C3', 'C3-P3', 'P3-O1', 'FP2-F4', 'F4-C4', 'C4-P4', 'P4-O2', 'FP2-F8', 'F8-T8', 'T8-P8', 'P8-O2', 'FZ-CZ', 'CZ-PZ','P7-T7','T7-FT9','FT9-FT10','FT10-T8']\n",
        "patients = [\"10\" ]#, \"07\", \"08\"]\n",
        "            #, \"09\", \"10\"]"
      ]
    },
    {
      "cell_type": "code",
      "execution_count": 12,
      "metadata": {
        "id": "OfgMQAXc4Lr9"
      },
      "outputs": [],
      "source": [
        "def loadSummaryPatient(index):\n",
        "  f = open(pathDataSet+'chb'+patients[index]+'/chb'+patients[index]+'-summary.txt', 'r') \n",
        "  parent = pathDataSet+'chb'+patients[index]+'/'\n",
        "  return f, parent"
      ]
    },
    {
      "cell_type": "code",
      "execution_count": 13,
      "metadata": {
        "id": "dndrlyTh4Lr-"
      },
      "outputs": [],
      "source": [
        "def readEdfFile(pathToFile, channels):\n",
        "    f = pyedflib.EdfReader(pathToFile)\n",
        "    n = f.signals_in_file\n",
        "    #print(n)\n",
        "    signal_labels = f.getSignalLabels()\n",
        "    sigbufs = np.zeros((f.getNSamples()[0],n))\n",
        "    for i in np.arange(n): \n",
        "        sigbufs[:,i] = f.readSignal(i)\n",
        "    #sigbufs[:, n]= 0.0\n",
        "    df =  pd.DataFrame(data = sigbufs, columns = signal_labels)\n",
        "    #print(df.shape)\n",
        "    df = df.loc[:, channels]\n",
        "    #print(df.shape)\n",
        "    df = df.loc[:, ~df.columns.duplicated()]\n",
        "    #print(df.shape)\n",
        "    f._close()\n",
        "    del f\n",
        "    data = df.values\n",
        "    #data_numpy = data.to_numpy()\n",
        "    return np.transpose(data)"
      ]
    },
    {
      "cell_type": "code",
      "execution_count": 14,
      "metadata": {
        "id": "h_5eQY2w4Lr_"
      },
      "outputs": [],
      "source": [
        "import numpy as np\n",
        "from scipy.signal import butter, sosfilt, sosfreqz\n",
        "def butter_bandpass(lowcut, highcut, fs, order=5):\n",
        "        nyq = 0.5 * fs\n",
        "        low = lowcut / nyq\n",
        "        high = highcut / nyq\n",
        "        sos = butter(order, [low, high], analog=False, btype='band', output='sos')\n",
        "        return sos\n",
        "def butter_bandpass_filter(data, lowcut, highcut, fs, order=5):\n",
        "        sos = butter_bandpass(lowcut, highcut, fs, order=order)\n",
        "        y = sosfilt(sos, data)\n",
        "        return y\n",
        "lowcut = 0.5\n",
        "highcut = 50           #30\n",
        "fs = 256\n",
        "# x_filter = butter_bandpass_filter(features ,lowcut , highcut , fs , order = 5)\n",
        "# mean1 = np.mean(x_filter) \n",
        "# std = np.std(x_filter)\n",
        "# x_filter_normalized = (x_filter - mean1)/ std"
      ]
    },
    {
      "cell_type": "code",
      "execution_count": 15,
      "metadata": {
        "id": "QHFzvnZt4LsA"
      },
      "outputs": [],
      "source": [
        "def seizureNumpyMatrixGenerate(secSt, secEn, name_F, parent, index):\n",
        "  file1 = pyedflib.EdfReader(parent+name_F)\n",
        "  n = file1.signals_in_file\n",
        "  rate =256\n",
        "  col = file1.getNSamples()[0]\n",
        "  # print(n)\n",
        "  #signal_labels = file1.getSignalLabels()\n",
        "  #signal_headers = file1.getSignalHeaders()\n",
        "  #rate = signal_headers[0]['sample_rate']\n",
        "  dur = file1.getFileDuration()\n",
        "  #print(type(dur))\n",
        "  #print(f'Duration of this trial {dur}')\n",
        "  file1._close()\n",
        "  del file1\n",
        "  x = np.zeros((n, col))\n",
        "  #for i in range(n):\n",
        "    #x[i,:] = file1.readSignal(i)\n",
        "  x = readEdfFile(parent+name_F, channels)\n",
        "    # print(x)\n",
        "    #label = file1.getLabel(i)\n",
        " \n",
        " \n",
        "  #x_filter = butter_bandpass_filter(x ,lowcut , highcut , fs , order = 5)\n",
        "  #a = os.getcwd()\n",
        "  folder_path= processed_data_path + 'chb'+ patients[index] + '/'\n",
        "  if os.path.isdir(processed_data_path) is not True:\n",
        "    os.makedirs(processed_data_path)\n",
        "  subfolder_path = folder_path + name_F.split('.')[0] + '/'\n",
        "  if os.path.isdir(subfolder_path) is not True:\n",
        "    os.makedirs(subfolder_path)\n",
        "  else:\n",
        "    print('folder already exists') \n",
        "    #print(subfolder_path)\n",
        "  picnum = int(dur*rate/256)\n",
        "  #print(picnum)\n",
        "  num_seizure = 0\n",
        "  num_nonseizure = 0\n",
        "  for i in range(picnum):\n",
        "    img = x[:,i*256:(i+1)*256]\n",
        "    x_filter = butter_bandpass_filter(img ,lowcut , highcut , fs , order = 5)\n",
        "    #img = (img - np.min(img))/(np.max(img) - np.min(img))\n",
        "    #Img = Image.fromarray(np.uint8(img))\n",
        "    # print(len(secSt))\n",
        "    if len(secSt) ==0:\n",
        "        name = 'nonseizure'\n",
        "        num_nonseizure +=1\n",
        "    elif len(secSt) == 1:\n",
        "      if secSt[0] <= i+1 <= secEn[0]: #window size is 1sec\n",
        "          name = 'seizure'\n",
        "          num_seizure+=1\n",
        "      else:\n",
        "          name = 'nonseizure'\n",
        "          num_nonseizure +=1\n",
        "      #print('1 seizure interval present')\n",
        "    elif len(secSt) == 2:\n",
        "      if secSt[0] <= i+1 <= secEn[0] or secSt[1] <= i+1 <= secEn[1]: #window size is 1sec\n",
        "          name = 'seizure'\n",
        "          num_seizure+=1\n",
        "      else:\n",
        "          name = 'nonseizure' \n",
        "          num_nonseizure +=1\n",
        "      #print('2 seizure intervals present')\n",
        "    elif len(secSt) == 3:\n",
        "      if secSt[0] <= i+1 <= secEn[0] or secSt[1] <= i+1 <= secEn[1] or secSt[2] <= i+1 <= secEn[2]: #window size is 1sec\n",
        "          name = 'seizure'\n",
        "          num_seizure+=1\n",
        "      else:\n",
        "          name = 'nonseizure'\n",
        "          num_nonseizure +=1\n",
        "      #print('3 seizure intervals present')\n",
        "    else: \n",
        "      if secSt[0] <= i+1 <= secEn[0] or secSt[1] <= i+1 <= secEn[1] or secSt[2] <= i+1 <= secEn[2] or secSt[3] <= i+1 <= secEn[3]:\n",
        "          name = 'seizure'\n",
        "          num_seizure+=1\n",
        "      else:\n",
        "          name = 'nonseizure'\n",
        "          num_nonseizure +=1\n",
        "      #print('4 seizure intervals present')\n",
        "        \n",
        "\n",
        "    if i+1 < 10:\n",
        "        filename = 'time_'+name+'_0000'+ str(i+1)\n",
        "    elif 10 <= i+1 < 100:\n",
        "        filename = 'time_'+name+'_000'+ str(i+1)\n",
        "    elif 100 <= i+1 < 1000:\n",
        "        filename = 'time_'+name+'_00'+ str(i+1)\n",
        "    elif 1000 <= i+1 < 10000:\n",
        "        filename = 'time_'+name+'_0'+ str(i+1)\n",
        "    else:\n",
        "        filename = 'time_'+name+'_'+ str(i+1)\n",
        "    if path.exists(subfolder_path+ filename+'.npy'):\n",
        "      continue\n",
        "    # else:\n",
        "    #   np.save(subfolder_path + filename+'.npy', x_filter)\n",
        "        # print('-')\n",
        "      # continue\n",
        "      \n",
        "  \n",
        "\n",
        "\n",
        "  return (num_seizure, num_nonseizure, num_seizure+num_nonseizure, dur)"
      ]
    },
    {
      "cell_type": "code",
      "execution_count": 16,
      "metadata": {
        "id": "FADe4fH04LsB"
      },
      "outputs": [],
      "source": [
        "def createDataset():\n",
        "    \n",
        "    seizure_trials = {}\n",
        "    total_duration = {}\n",
        "    total_seizure = []\n",
        "    total_nonseizure = []\n",
        "    durations = []\n",
        "    num =0\n",
        "    print(\"START \\n\")\n",
        "    for indexPatient in range(0, len(patients)):\n",
        "        seizure_num_per_patient = []\n",
        "        nonseizure_num_per_patient = []\n",
        "        values = []\n",
        "        key = 'chb'+patients[indexPatient]\n",
        "        #print(indexPatient)\n",
        "        f, parent = loadSummaryPatient(indexPatient)\n",
        "        line=f.readline()\n",
        "        #print(' i was here')\n",
        "        \n",
        "        while (line):\n",
        "            data=line.split(':')\n",
        "            #print(data)\n",
        "            if (data[0]==\"File Name\"):\n",
        "                name_F=data[1].strip()\n",
        "                \n",
        "                #print(name_F)\n",
        "                fileSt=f.readline().split(': ')[1]\n",
        "                # Sthr=fileSt.split(':')[0]\n",
        "                # #print(Sthr)\n",
        "                # Stmin=fileSt.split(':')[1]\n",
        "                # #print(Stmin)\n",
        "                # Stsec=fileSt.split(':')[2]\n",
        "                # #print(Stsec)\n",
        "                fileEn=f.readline().split(': ')[1]\n",
        "                # Enhr=fileEn.split(':')[0]\n",
        "                # #print(Enhr)\n",
        "                # Enmin=fileSt.split(':')[1]\n",
        "                # #print(Enmin)\n",
        "                # Ensec=fileSt.split(':')[2]\n",
        "                # #print(Ensec)\n",
        "                # trial_duration = ((int(Enhr) - int(Sthr))*3600 + (int(Enmin) - int(Stmin))*60 + (int(Ensec) - int(Stsec)))\n",
        "                \n",
        "                # print(trial_duration)\n",
        "                for i in range(1):\n",
        "                    line=f.readline()\n",
        "                secSt = []\n",
        "                secEn = []\n",
        "                # if num<2:\n",
        "                #     if int(line.split(': ')[1]) == 0:\n",
        "                #         secStnonseizure = []\n",
        "                #         secEnnonseizure = []\n",
        "                #         num+=1\n",
        "                #         value = name_F\n",
        "                #         print(name_F)\n",
        "                #         values.append(value)\n",
        "                #         key1 = name_F\n",
        "                #         seizure_num_per_trial, nonseizure_num_per_trial, total_samples, dur = seizureNumpyMatrixGenerate(secStnonseizure, secEnnonseizure, name_F, parent, indexPatient)   # creates numpy matrices for 1 s windows\n",
        "                #         durations.append(dur)\n",
        "                #         total_duration[key1]= dur\n",
        "                #         #type(dur)\n",
        "                #         print(f'No. of seizure samples : {seizure_num_per_trial}, No. of non-seizure samples : {nonseizure_num_per_trial}, Total no. of samples : {seizure_num_per_trial + nonseizure_num_per_trial}')\n",
        "                #         #seizure_num_per_trial.append(num_seizure)\n",
        "                #         #print(seizure_num_per_trial)\n",
        "                #         #nonseizure_num_per_trial.append(num_nonseizure)\n",
        "                #         #print(nonseizure_num_per_trial)\n",
        "                #         seizure_num_per_patient.append(seizure_num_per_trial)\n",
        "                #         nonseizure_num_per_patient.append(nonseizure_num_per_trial) \n",
        "                \n",
        "                for j in range(0, int(line.split(': ')[1])):\n",
        "                    if j==0:\n",
        "                        print(f'trial : {name_F}')\n",
        "                        value = name_F\n",
        "                        values.append(value)\n",
        "                        key1 = name_F            \n",
        "                    secSt.append(int(f.readline().split(': ')[1].split(' ')[0]))\n",
        "                    #print(f'Start second of seizure {secSt}')\n",
        "                    secEn.append(int(f.readline().split(': ')[1].split(' ')[0]))\n",
        "                    #print(f'Start second of seizure {secEn}')\n",
        "                if int(line.split(': ')[1]) != 0:\n",
        "                    seizure_num_per_trial, nonseizure_num_per_trial, total_samples, dur = seizureNumpyMatrixGenerate(secSt, secEn, name_F, parent, indexPatient)   # creates numpy matrices for 1 s windows\n",
        "                    durations.append(dur)\n",
        "                    total_duration[key1]= dur\n",
        "                    #type(dur)\n",
        "                    print(f'No. of seizure samples : {seizure_num_per_trial}, No. of non-seizure samples : {nonseizure_num_per_trial}, Total no. of samples : {seizure_num_per_trial + nonseizure_num_per_trial}')\n",
        "                    #seizure_num_per_trial.append(num_seizure)\n",
        "                    #print(seizure_num_per_trial)\n",
        "                    #nonseizure_num_per_trial.append(num_nonseizure)\n",
        "                    #print(nonseizure_num_per_trial)\n",
        "                    seizure_num_per_patient.append(seizure_num_per_trial)\n",
        "                    nonseizure_num_per_patient.append(nonseizure_num_per_trial)\n",
        "            seizure_trials[key] = values,durations\n",
        "            #print(durations)\n",
        "            #duration_per_patient[key] = durations\n",
        "            line=f.readline()\n",
        "        f.close()\n",
        "        \n",
        "        # print(seizure_num_per_patient)\n",
        "        # print(nonseizure_num_per_patient)\n",
        "        # total_seizure.append(np.sum(seizure_num_per_patient))\n",
        "        # print(total_seizure)\n",
        "        # total_nonseizure.append(np.sum(nonseizure_num_per_patient))\n",
        "        # print(total_nonseizure)\n",
        "\n",
        "    print(\"END \\n\")\n",
        "    return seizure_trials, total_duration, np.sum(total_seizure), np.sum(total_nonseizure)\n",
        "#, duration_per_patient"
      ]
    },
    {
      "cell_type": "code",
      "execution_count": 17,
      "metadata": {
        "id": "CWsVmOBS4LsC",
        "outputId": "4ce499ab-155e-4aac-dff4-61644caed308",
        "colab": {
          "base_uri": "https://localhost:8080/"
        }
      },
      "outputs": [
        {
          "output_type": "stream",
          "name": "stdout",
          "text": [
            "START \n",
            "\n",
            "trial : chb10_12.edf\n",
            "folder already exists\n",
            "No. of seizure samples : 36, No. of non-seizure samples : 7164, Total no. of samples : 7200\n",
            "trial : chb10_20.edf\n",
            "folder already exists\n",
            "No. of seizure samples : 71, No. of non-seizure samples : 7141, Total no. of samples : 7212\n",
            "trial : chb10_27.edf\n",
            "folder already exists\n",
            "No. of seizure samples : 66, No. of non-seizure samples : 7152, Total no. of samples : 7218\n",
            "trial : chb10_30.edf\n",
            "folder already exists\n",
            "No. of seizure samples : 59, No. of non-seizure samples : 7154, Total no. of samples : 7213\n",
            "trial : chb10_31.edf\n",
            "folder already exists\n",
            "No. of seizure samples : 77, No. of non-seizure samples : 7144, Total no. of samples : 7221\n",
            "trial : chb10_38.edf\n",
            "folder already exists\n",
            "No. of seizure samples : 90, No. of non-seizure samples : 7110, Total no. of samples : 7200\n",
            "trial : chb10_89.edf\n",
            "folder already exists\n",
            "No. of seizure samples : 55, No. of non-seizure samples : 7145, Total no. of samples : 7200\n",
            "END \n",
            "\n"
          ]
        }
      ],
      "source": [
        "seizure_trials, total_duration, total_duration_seizure, total_duration_nonseizure = createDataset()"
      ]
    },
    {
      "cell_type": "markdown",
      "source": [
        "## Lying around code"
      ],
      "metadata": {
        "id": "u5h6YABzBeV_"
      }
    },
    {
      "cell_type": "code",
      "execution_count": null,
      "metadata": {
        "id": "9UMg5ukN4LsC",
        "outputId": "f1bd07ce-3c20-4335-e80d-c1eb799f5205",
        "colab": {
          "base_uri": "https://localhost:8080/"
        }
      },
      "outputs": [
        {
          "output_type": "stream",
          "name": "stdout",
          "text": [
            "['chb10_12.edf', 'chb10_20.edf', 'chb10_27.edf', 'chb10_30.edf', 'chb10_31.edf', 'chb10_38.edf', 'chb10_89.edf'] {'chb10_12.edf': 7200, 'chb10_20.edf': 7212, 'chb10_27.edf': 7218, 'chb10_30.edf': 7213, 'chb10_31.edf': 7221, 'chb10_38.edf': 7200, 'chb10_89.edf': 7200}\n"
          ]
        }
      ],
      "source": [
        "print(seizure_trials['chb10'][0], total_duration)"
      ]
    },
    {
      "cell_type": "code",
      "execution_count": null,
      "metadata": {
        "id": "QSFsZyF94LsD"
      },
      "outputs": [],
      "source": [
        "seizure_trials = {'chb01': (['chb01_03.edf', 'chb01_26.edf'], [3600, 2325])}\n",
        "total_duration = {'chb01_03.edf' : 3600, 'chb01_26.edf' : 2325}"
      ]
    },
    {
      "cell_type": "code",
      "execution_count": null,
      "metadata": {
        "id": "ZoOZ8xvf4LsD"
      },
      "outputs": [],
      "source": [
        "seizure_trials = {'chb03': ([ 'chb03_01.edf', 'chb03_36.edf'],[3600, 3600])}\n",
        "total_duration = {'chb03_01.edf': 3600, 'chb03_36.edf': 3600}"
      ]
    },
    {
      "cell_type": "markdown",
      "source": [
        "## Print trials"
      ],
      "metadata": {
        "id": "JidjfCzXBlUN"
      }
    },
    {
      "cell_type": "code",
      "execution_count": null,
      "metadata": {
        "id": "umb7Rv3_4LsD",
        "outputId": "2079c2cc-0585-4f90-e450-8102099b7e53",
        "colab": {
          "base_uri": "https://localhost:8080/"
        }
      },
      "outputs": [
        {
          "output_type": "stream",
          "name": "stdout",
          "text": [
            "{'chb10': (['chb10_12.edf', 'chb10_20.edf', 'chb10_27.edf', 'chb10_30.edf', 'chb10_31.edf', 'chb10_38.edf', 'chb10_89.edf'], [7200, 7212, 7218, 7213, 7221, 7200, 7200])} {'chb10_12.edf': 7200, 'chb10_20.edf': 7212, 'chb10_27.edf': 7218, 'chb10_30.edf': 7213, 'chb10_31.edf': 7221, 'chb10_38.edf': 7200, 'chb10_89.edf': 7200}\n"
          ]
        }
      ],
      "source": [
        "print(seizure_trials, total_duration)"
      ]
    },
    {
      "cell_type": "code",
      "execution_count": 19,
      "metadata": {
        "id": "l8jybBRd4LsE"
      },
      "outputs": [],
      "source": [
        "def last_5chars(x): #function to sort the numbers in filename so that they can be grouped sequentially\n",
        "  #print(x[-4])\n",
        "  return(x[-9:-3])"
      ]
    },
    {
      "cell_type": "markdown",
      "source": [
        "## normal"
      ],
      "metadata": {
        "id": "XUqGN2In62V7"
      }
    },
    {
      "cell_type": "code",
      "execution_count": null,
      "metadata": {
        "id": "vtzm8_P04LsE"
      },
      "outputs": [],
      "source": [
        "def create_feature_matrix_old(seizure_trials, seizure_trial_duration, folder_path, window_size, total_duration):\n",
        "  feature_size = np.sum((np.array(seizure_trial_duration)/window_size).astype(int))\n",
        "  label_size = np.sum((np.array(seizure_trial_duration)/window_size).astype(int))\n",
        "  features = np.zeros((feature_size,22,256*window_size))\n",
        "  print(features.shape)\n",
        "  labels = np.zeros(label_size,dtype=int)\n",
        "  print(labels.shape)\n",
        "  i = 0 #the feature index\n",
        "  group_train = []\n",
        "  group_test = []\n",
        "  for trial in seizure_trials:\n",
        "      print(trial)\n",
        "      name = sorted(os.listdir(folder_path + trial.split('.')[0]), key= last_5chars)\n",
        "      #print(name)\n",
        "      #print(name[952])\n",
        "      #for window in (range(0, int(total_duration/len(seizure_trials)), window_size)):\n",
        "      #for window in (range(1, int(len(name)/window_size)*window_size, window_size)):\n",
        "      for window in (range(0, int(total_duration[trial]/window_size)*window_size, window_size)):       ##########CHECK IF THE LAST NUMBER MAKES SENSE###############\n",
        "          #print(window)\n",
        "          seizure = 0\n",
        "          non_seizure = 0\n",
        "          feature_prep = np.zeros((22,256*window_size))\n",
        "          for j in range(window_size):\n",
        "              if '_seizure_' in name[(window)+j]:\n",
        "                  #print(name[window+j])\n",
        "                  seizure+=1\n",
        "                  #print('seizure no.', seizure)\n",
        "                  #print('hi')\n",
        "                  feature_prep[0:23,j*256:((j+1)*256)] = np.array(np.load(folder_path + trial.split('.')[0]+'/'+ name[(window)+j]))[0:23,0:256]\n",
        "              elif '_nonseizure_' in name[(window)+j]:\n",
        "                  #print(name[window+j])\n",
        "                  non_seizure+=1\n",
        "                  #print('nonseizure no.', non_seizure)\n",
        "                  #print('nohi')\n",
        "                  feature_prep[0:23,j*256:((j+1)*256)] = np.array(np.load(folder_path + trial.split('.')[0]+'/'+ name[(window)+j]))[0:23,0:256]\n",
        "                  #print(feature_prep.shape)\n",
        "          #print(feature_prep.shape)\n",
        "          #feature_prep_normalized = (feature_prep - np.min(feature_prep)) / (np.max(feature_prep) -np.min(feature_prep))\n",
        "          #print('seizure no.', seizure)\n",
        "          #print('nonseizure no.', non_seizure)\n",
        "          if seizure > non_seizure:\n",
        "              #print('label should be 1')\n",
        "              # features[i] = feature_prep\n",
        "              labels[i] = 1\n",
        "              #print(features[i])\n",
        "              #print(labels[i])\n",
        "          else:\n",
        "              #print('label should be 0')\n",
        "              # features[i] = feature_prep\n",
        "              labels[i] = 0\n",
        "              #print(features[i])\n",
        "              #print(labels[i])\n",
        "          #print('================================')\n",
        "          i = i+1\n",
        "          group_train.append()\n",
        "      print('finishing one trial')\n",
        "         # print(features)\n",
        "         # print(features.shape)\n",
        "      \n",
        "   #       print(i)\n",
        "                  \n",
        "\n",
        "  #print(i)\n",
        "    #print(features)\n",
        "    #print(labels)\n",
        "    #print(np.expand_dims(np.array(features), axis=3).shape)\n",
        "    #print(labels.shape)\n",
        "  if len(seizure_trials)>=2:\n",
        "    with open('window_'+ str(window_size)+'/patient_specific/'+ str(7)+'/features_train_'+trial.split('_')[0]+'.npy', 'wb') as f:  #\n",
        "      np.save(f, features)\n",
        "    f.close\n",
        "    \n",
        "    with open('window_'+ str(window_size)+'/patient_specific/'+ str(7) +'/labels_train_'+trial.split('_')[0]+'.npy', 'wb') as f: #\n",
        "      np.save(f, labels)\n",
        "    f.close\n",
        "  else:\n",
        "    with open('window_'+ str(window_size)+'/patient_specific/'+str(7) +'/features_test_'+trial.split('_')[0]+'.npy', 'wb') as f:  #\n",
        "      np.save(f, features)\n",
        "    f.close\n",
        "    \n",
        "    with open('window_'+ str(window_size)+'/patient_specific/'+ str(7)+'/labels_test_'+trial.split('_')[0]+'.npy', 'wb') as f: #\n",
        "      np.save(f, labels)\n",
        "    f.close\n",
        "  #dataloader = utils.data.DataLoader(dataset)\n",
        "    #dataset = np.stack((features,labels), axis = 0)\n",
        "  #print(dataset.shape)\n",
        "\n",
        "  return \n"
      ]
    },
    {
      "cell_type": "markdown",
      "metadata": {
        "id": "3xR2PhaK4LsF"
      },
      "source": [
        "## for image like folder"
      ]
    },
    {
      "cell_type": "code",
      "execution_count": 47,
      "metadata": {
        "id": "0jMQjHAu4LsG"
      },
      "outputs": [],
      "source": [
        "def create_feature_matrix(seizure_trials, seizure_trial_duration,folder_path, window_size, total_duration, train):\n",
        "  # feature_size = np.sum((np.array(seizure_trial_duration)/window_size).astype(int))\n",
        "  # label_size = np.sum((np.array(seizure_trial_duration)/window_size).astype(int))\n",
        "  # features = np.zeros((feature_size,22,256*window_size))\n",
        "  features_train_df = pd.DataFrame(columns = ['Data', 'Label']) \n",
        "  features_test_df = pd.DataFrame(columns = ['Data', 'Label']) \n",
        "  #print(features.shape)\n",
        "  # labels = np.zeros(label_size,dtype=int)\n",
        "  # print(labels.shape)\n",
        "  i = 0 #the feature index\n",
        "  group_train = []\n",
        "  group_test = []\n",
        "  for trial in seizure_trials:\n",
        "      #print(trial)\n",
        "      name = sorted(os.listdir(folder_path + trial.split('.')[0]), key= last_5chars)\n",
        "      #print(name)\n",
        "      #print(name[952])\n",
        "      #for window in (range(0, int(total_duration/len(seizure_trials)), window_size)):\n",
        "      #for window in (range(1, int(len(name)/window_size)*window_size, window_size)):\n",
        "      for window in (range(0, int(total_duration[trial]/window_size)*window_size, window_size)):       ##########CHECK IF THE LAST NUMBER MAKES SENSE###############\n",
        "          #print(window)\n",
        "          seizure = 0\n",
        "          non_seizure = 0\n",
        "          feature_prep = np.zeros((22,256*window_size))\n",
        "          for j in range(window_size):\n",
        "              if '_seizure_' in name[(window)+j]:\n",
        "                  #print(name[window+j])\n",
        "                  seizure+=1\n",
        "                  #print('seizure no.', seizure)\n",
        "                  #print('hi')\n",
        "                  feature_prep[0:23,j*256:((j+1)*256)] = np.array(np.load(folder_path + trial.split('.')[0]+'/'+ name[(window)+j]))[0:23,0:256]\n",
        "              elif '_nonseizure_' in name[(window)+j]:\n",
        "                  #print(name[window+j])\n",
        "                  non_seizure+=1\n",
        "                  #print('nonseizure no.', non_seizure)\n",
        "                  #print('nohi')\n",
        "                  feature_prep[0:23,j*256:((j+1)*256)] = np.array(np.load(folder_path + trial.split('.')[0]+'/'+ name[(window)+j]))[0:23,0:256]\n",
        "                  #print(feature_prep.shape)\n",
        "          #print(feature_prep.shape)\n",
        "          #feature_prep_normalized = (feature_prep - np.min(feature_prep)) / (np.max(feature_prep) -np.min(feature_prep))\n",
        "          #print('seizure no.', seizure)\n",
        "          #print('nonseizure no.', non_seizure)\n",
        "          if seizure > non_seizure:\n",
        "              #print('label should be 1')\n",
        "              # features[i] = feature_prep\n",
        "              label = 1\n",
        "              #print(features[i])\n",
        "              #print(labels[i])\n",
        "          else:\n",
        "              #print('label should be 0')\n",
        "              # features[i] = feature_prep\n",
        "              label = 0\n",
        "              #print(features[i])\n",
        "              #print(labels[i])\n",
        "          #print('================================')7\n",
        "          dest_dir = '/content/drive/MyDrive/upsi-seizure/data/window_size_'+str(window_size)+'/'+str(trial.split('.')[0].split('_')[0])\n",
        "         # print(features)\n",
        "         # print(features.shape)\n",
        "          if len(seizure_trials)>=2:\n",
        "            if os.path.isdir(dest_dir+'/train') is not True:\n",
        "                os.makedirs(dest_dir+ '/train')\n",
        "            if label == 0:\n",
        "              features_train_df = features_train_df.append({'Data': 'nonseizure_'+ str(i)+'.npy', 'Label': label}, ignore_index = True)\n",
        "              # with open(dest_dir +'/train/nonseizure_'+ str(i)+'.npy', 'wb') as f:    #######1st and last trials are used for testing#######\n",
        "              #   np.save(f, feature_prep)\n",
        "              # f.close\n",
        "            else:\n",
        "              features_train_df = features_train_df.append({'Data': 'seizure_'+ str(i)+'.npy', 'Label': label}, ignore_index = True)\n",
        "              # with open(dest_dir+'/train/seizure_'+ str(i)+'.npy', 'wb') as f:    #######1st and last trials are used for testing#######\n",
        "              #   np.save(f, feature_prep)\n",
        "              # f.close\n",
        "            group_train.append(trial.split('.')[0])\n",
        "          else:\n",
        "            if os.path.isdir(dest_dir +'/test') is not True:\n",
        "              os.makedirs(dest_dir+'/test')\n",
        "            if label == 0:\n",
        "              features_test_df = features_test_df.append({'Data': 'nonseizure_'+ str(i)+'.npy', 'Label': label}, ignore_index = True)\n",
        "              # with open(dest_dir+'/test/nonseizure_'+ str(i)+'.npy', 'wb') as f:    #######1st and last trials are used for testing#######\n",
        "              #   np.save(f, feature_prep)\n",
        "              # f.close\n",
        "            else:\n",
        "              features_test_df = features_test_df.append({'Data': 'seizure_'+ str(i)+'.npy', 'Label': label}, ignore_index = True)\n",
        "              # with open(dest_dir+'/test/seizure_'+ str(i)+'.npy', 'wb') as f:    #######1st and last trials are used for testing#######\n",
        "              #   np.save(f, feature_prep)\n",
        "              # f.close\n",
        "            group_test.append(trial.split('.')[0])\n",
        "              \n",
        "          i = i+1\n",
        "  if train is True:\n",
        "    features_train_df.to_csv(dest_dir+ '/feature_train.csv',index = False)\n",
        "  else:\n",
        "    print('hi')\n",
        "    features_test_df.to_csv(dest_dir+'/feature_test.csv',index = False)\n",
        "  #dataloader = utils.data.DataLoader(dataset)\n",
        "    #dataset = np.stack((features,labels), axis = 0)\n",
        "  #print(dataset.shape)\n",
        "\n",
        "  return group_train, group_test\n"
      ]
    },
    {
      "cell_type": "code",
      "source": [
        "trial = 'chb07_01'\n",
        "trial.split('.')[0].split('_')[0]"
      ],
      "metadata": {
        "colab": {
          "base_uri": "https://localhost:8080/",
          "height": 36
        },
        "id": "BpTecC8HAG9F",
        "outputId": "e2241c25-f096-475d-a511-ff41035d028c"
      },
      "execution_count": null,
      "outputs": [
        {
          "output_type": "execute_result",
          "data": {
            "text/plain": [
              "'chb07'"
            ],
            "application/vnd.google.colaboratory.intrinsic+json": {
              "type": "string"
            }
          },
          "metadata": {},
          "execution_count": 2
        }
      ]
    },
    {
      "cell_type": "markdown",
      "source": [
        "## Train and Test csv and data folder generation\n"
      ],
      "metadata": {
        "id": "v1mnTyGdBJ86"
      }
    },
    {
      "cell_type": "code",
      "source": [
        "a = []\n",
        "for i in (total_duration):\n",
        "  key, value in total_\n",
        "  a.append(total_duration[i])"
      ],
      "metadata": {
        "colab": {
          "base_uri": "https://localhost:8080/",
          "height": 200
        },
        "id": "i811_frUCdtE",
        "outputId": "ce79ab3f-1053-48e8-d418-ba60eeb6b394"
      },
      "execution_count": null,
      "outputs": [
        {
          "output_type": "error",
          "ename": "KeyError",
          "evalue": "ignored",
          "traceback": [
            "\u001b[0;31m---------------------------------------------------------------------------\u001b[0m",
            "\u001b[0;31mKeyError\u001b[0m                                  Traceback (most recent call last)",
            "\u001b[0;32m<ipython-input-20-9dfaca57275c>\u001b[0m in \u001b[0;36m<module>\u001b[0;34m\u001b[0m\n\u001b[1;32m      1\u001b[0m \u001b[0ma\u001b[0m \u001b[0;34m=\u001b[0m \u001b[0;34m[\u001b[0m\u001b[0;34m]\u001b[0m\u001b[0;34m\u001b[0m\u001b[0;34m\u001b[0m\u001b[0m\n\u001b[1;32m      2\u001b[0m \u001b[0;32mfor\u001b[0m \u001b[0mi\u001b[0m \u001b[0;32min\u001b[0m \u001b[0mrange\u001b[0m\u001b[0;34m(\u001b[0m\u001b[0mlen\u001b[0m\u001b[0;34m(\u001b[0m\u001b[0mtotal_duration\u001b[0m\u001b[0;34m)\u001b[0m\u001b[0;34m-\u001b[0m\u001b[0;36m2\u001b[0m\u001b[0;34m)\u001b[0m\u001b[0;34m:\u001b[0m\u001b[0;34m\u001b[0m\u001b[0;34m\u001b[0m\u001b[0m\n\u001b[0;32m----> 3\u001b[0;31m   \u001b[0ma\u001b[0m\u001b[0;34m.\u001b[0m\u001b[0mappend\u001b[0m\u001b[0;34m(\u001b[0m\u001b[0mtotal_duration\u001b[0m\u001b[0;34m[\u001b[0m\u001b[0mi\u001b[0m\u001b[0;34m]\u001b[0m\u001b[0;34m)\u001b[0m\u001b[0;34m\u001b[0m\u001b[0;34m\u001b[0m\u001b[0m\n\u001b[0m",
            "\u001b[0;31mKeyError\u001b[0m: 0"
          ]
        }
      ]
    },
    {
      "cell_type": "code",
      "source": [
        "seizure_trials_train = seizure_trials['chb10'][0][0:len(seizure_trials['chb10'][0])-1]\n",
        "print(seizure_trials_train)\n",
        "              \n",
        "window_size = [1,2,4,8,10, 20]\n",
        "total_duration_train = {'chb10_12.edf': 7200, 'chb10_20.edf': 7212, 'chb10_27.edf': 7218, 'chb10_30.edf': 7213, 'chb10_31.edf': 7221, 'chb10_38.edf': 7200}\n",
        "\n",
        "seizure_trial_duration = [7200,7212,7218,7213,7221,7200]\n",
        "folder_path= processed_data_path + 'chb'+ patients[0] + '/'\n",
        "group_train,_ = create_feature_matrix(seizure_trials_train, seizure_trial_duration, folder_path, window_size[4], total_duration_train, train= True)\n"
      ],
      "metadata": {
        "colab": {
          "base_uri": "https://localhost:8080/"
        },
        "id": "EHs3-od6BI6Q",
        "outputId": "d46da717-2a58-452a-818f-4d6966d197b7"
      },
      "execution_count": 42,
      "outputs": [
        {
          "output_type": "stream",
          "name": "stdout",
          "text": [
            "['chb10_12.edf', 'chb10_20.edf', 'chb10_27.edf', 'chb10_30.edf', 'chb10_31.edf', 'chb10_38.edf']\n"
          ]
        }
      ]
    },
    {
      "cell_type": "code",
      "source": [
        "total_duration_train = {item:total_duration.get(item)for item in total_duration.keys()}\n",
        "total_duration_train"
      ],
      "metadata": {
        "colab": {
          "base_uri": "https://localhost:8080/"
        },
        "id": "xawf1g9ZHCSI",
        "outputId": "b7187192-48a3-4202-f3c2-2e9cd9e1f231"
      },
      "execution_count": null,
      "outputs": [
        {
          "output_type": "execute_result",
          "data": {
            "text/plain": [
              "{'chb10_12.edf': 7200,\n",
              " 'chb10_20.edf': 7212,\n",
              " 'chb10_27.edf': 7218,\n",
              " 'chb10_30.edf': 7213,\n",
              " 'chb10_31.edf': 7221,\n",
              " 'chb10_38.edf': 7200,\n",
              " 'chb10_89.edf': 7200}"
            ]
          },
          "metadata": {},
          "execution_count": 26
        }
      ]
    },
    {
      "cell_type": "code",
      "source": [
        "seizure_trials_test = seizure_trials['chb10'][0][len(seizure_trials['chb10'][0])-1:len(seizure_trials['chb10'][0])]\n",
        "print(seizure_trials_test)                \n",
        "window_size = [1,2,4,8,10, 20]\n",
        "#index = 0\n",
        "# total_duration_train = {item:total_duration.get(item)for item in total_duration.keys()}\n",
        "total_duration_test = {\n",
        "\n",
        " 'chb10_89.edf': 7200\n",
        "}\n",
        "\n",
        "seizure_trial_duration_test = [7200]\n",
        "folder_path= processed_data_path + 'chb'+ patients[0] + '/'\n",
        "\n",
        "_,group_test = create_feature_matrix(seizure_trials_test, seizure_trial_duration_test, folder_path, window_size[3], total_duration_test, train = False)"
      ],
      "metadata": {
        "colab": {
          "base_uri": "https://localhost:8080/"
        },
        "id": "53MHoLuwGyiW",
        "outputId": "fe269161-19c7-404c-90bc-a5ee32f4567e"
      },
      "execution_count": 48,
      "outputs": [
        {
          "output_type": "stream",
          "name": "stdout",
          "text": [
            "['chb10_89.edf']\n",
            "hi\n"
          ]
        }
      ]
    },
    {
      "cell_type": "code",
      "source": [
        "len(group_test)"
      ],
      "metadata": {
        "colab": {
          "base_uri": "https://localhost:8080/"
        },
        "id": "d1Vl7tv-Rj_Y",
        "outputId": "5e1951c7-5ede-43e8-da7e-77ce5c8194e5"
      },
      "execution_count": 61,
      "outputs": [
        {
          "output_type": "execute_result",
          "data": {
            "text/plain": [
              "900"
            ]
          },
          "metadata": {},
          "execution_count": 61
        }
      ]
    },
    {
      "cell_type": "code",
      "source": [
        "train_df = pd.DataFrame(group_train)\n",
        "train_df.to_csv('/content/drive/MyDrive/upsi-seizure/data/window_size_10/chb10/train_group.csv', index = False)\n"
      ],
      "metadata": {
        "id": "p2fejOMqJ_iY"
      },
      "execution_count": 43,
      "outputs": []
    },
    {
      "cell_type": "code",
      "source": [
        "test_df = pd.DataFrame(group_test)\n",
        "test_df.to_csv('/content/drive/MyDrive/upsi-seizure/data/window_size_8/chb10/test_group.csv', index = False)"
      ],
      "metadata": {
        "id": "sPMd7lphmzku"
      },
      "execution_count": 49,
      "outputs": []
    },
    {
      "cell_type": "code",
      "source": [
        "import pandas as pd\n",
        "h = pd.read_csv('/content/drive/MyDrive/upsi-seizure/data/window_size_10/chb10/feature_test.csv')\n",
        "len(h)"
      ],
      "metadata": {
        "colab": {
          "base_uri": "https://localhost:8080/"
        },
        "id": "Aqw4GyAKRWGO",
        "outputId": "fe93184a-a44d-4462-c4d5-d97306513073"
      },
      "execution_count": 30,
      "outputs": [
        {
          "output_type": "execute_result",
          "data": {
            "text/plain": [
              "1"
            ]
          },
          "metadata": {},
          "execution_count": 30
        }
      ]
    },
    {
      "cell_type": "markdown",
      "metadata": {
        "id": "ebmYRXMw4LsG"
      },
      "source": [
        "## end\n"
      ]
    },
    {
      "cell_type": "code",
      "execution_count": null,
      "metadata": {
        "id": "cjc9BO3m4LsH",
        "outputId": "ac188b33-e47a-4b7d-8f9d-d9f0f4f7bc3a"
      },
      "outputs": [
        {
          "name": "stdout",
          "output_type": "stream",
          "text": [
            "file count: 6300\n"
          ]
        }
      ],
      "source": [
        "dir_path = 'window_size_4/chb01/train'\n",
        "count =0\n",
        "for path in os.scandir(dir_path):\n",
        "    if path.is_file():\n",
        "        count += 1\n",
        "print('file count:', count)"
      ]
    },
    {
      "cell_type": "code",
      "execution_count": null,
      "metadata": {
        "id": "C-CZP0Ic4LsH",
        "outputId": "6d3197b0-2ead-4abc-fa3a-17e68d5f8230"
      },
      "outputs": [
        {
          "name": "stdout",
          "output_type": "stream",
          "text": [
            "['chb04_05.edf', 'chb04_08.edf', 'chb04_28.edf']\n",
            "['chb05_06.edf', 'chb05_13.edf', 'chb05_16.edf', 'chb05_17.edf', 'chb05_22.edf']\n"
          ]
        }
      ],
      "source": [
        "seizure_trials_train = seizure_trials                 \n",
        "for index in range(len(seizure_trials)):\n",
        "#total_duration = 3600*len(seizure_trials_train)\n",
        "    key_value_pair = list(seizure_trials_train.items())[index]\n",
        "    print(key_value_pair[1])"
      ]
    },
    {
      "cell_type": "code",
      "execution_count": null,
      "metadata": {
        "id": "QOLADnmm4LsI",
        "outputId": "88d6fb39-581f-45b4-b2e5-87e3ceee35c2"
      },
      "outputs": [
        {
          "data": {
            "text/plain": [
              "{'chb07_01.edf': 14411,\n",
              " 'chb07_02.edf': 14400,\n",
              " 'chb07_12.edf': 14400,\n",
              " 'chb07_13.edf': 3726,\n",
              " 'chb07_19.edf': 14411}"
            ]
          },
          "execution_count": 14,
          "metadata": {},
          "output_type": "execute_result"
        }
      ],
      "source": [
        "total_duration_train = {item:total_duration.get(item)for item in total_duration.keys()}\n",
        "total_duration_train"
      ]
    },
    {
      "cell_type": "code",
      "execution_count": null,
      "metadata": {
        "id": "0j48iH9k4LsJ",
        "outputId": "f100ca71-d359-44cf-b483-ba4ec102c87e"
      },
      "outputs": [
        {
          "data": {
            "text/plain": [
              "{'chb07': (['chb07_01.edf',\n",
              "   'chb07_02.edf',\n",
              "   'chb07_12.edf',\n",
              "   'chb07_13.edf',\n",
              "   'chb07_19.edf'],\n",
              "  [14411, 14400, 14400, 3726, 14411])}"
            ]
          },
          "execution_count": 13,
          "metadata": {},
          "output_type": "execute_result"
        }
      ],
      "source": [
        "seizure_trials"
      ]
    },
    {
      "cell_type": "code",
      "execution_count": null,
      "metadata": {
        "id": "5oSxHlRO4LsJ"
      },
      "outputs": [],
      "source": [
        "({'chb01': (['chb01_03.edf',\n",
        "    'chb01_04.edf',\n",
        "    'chb01_15.edf',\n",
        "    'chb01_16.edf',\n",
        "    'chb01_18.edf',\n",
        "    'chb01_21.edf',\n",
        "    'chb01_26.edf'],\n",
        "   [3600, 3600, 3600, 3600, 3600, 3600, 2325])}"
      ]
    },
    {
      "cell_type": "code",
      "execution_count": null,
      "metadata": {
        "id": "ef0dgbhj4LsK",
        "outputId": "b9468543-a45c-4c2b-ef49-9f09398538ed"
      },
      "outputs": [
        {
          "name": "stdout",
          "output_type": "stream",
          "text": [
            "['chb01_03.edf', 'chb01_04.edf', 'chb01_15.edf', 'chb01_16.edf', 'chb01_18.edf']\n"
          ]
        },
        {
          "ename": "PermissionError",
          "evalue": "[Errno 13] Permission denied: 'window_size_4/chb01/train/nonseizure_0.npy'",
          "output_type": "error",
          "traceback": [
            "\u001b[1;31m---------------------------------------------------------------------------\u001b[0m",
            "\u001b[1;31mPermissionError\u001b[0m                           Traceback (most recent call last)",
            "Cell \u001b[1;32mIn [15], line 32\u001b[0m\n\u001b[0;32m     26\u001b[0m folder_path\u001b[39m=\u001b[39m processed_data_path \u001b[39m+\u001b[39m \u001b[39m'\u001b[39m\u001b[39mchb\u001b[39m\u001b[39m'\u001b[39m\u001b[39m+\u001b[39m patients[\u001b[39m0\u001b[39m] \u001b[39m+\u001b[39m \u001b[39m'\u001b[39m\u001b[39m/\u001b[39m\u001b[39m'\u001b[39m\n\u001b[0;32m     27\u001b[0m \u001b[39m#     key_value_pair = list(seizure_trials_train)[index]\u001b[39;00m\n\u001b[0;32m     28\u001b[0m \u001b[39m#     print(key_value_pair)\u001b[39;00m\n\u001b[0;32m     29\u001b[0m     \u001b[39m# print(key_value_pair[1][1])\u001b[39;00m\n\u001b[0;32m     30\u001b[0m     \u001b[39m# blah = np.sum((np.array(key_value_pair[1][1])/4).astype(int))\u001b[39;00m\n\u001b[0;32m     31\u001b[0m     \u001b[39m# print(blah)\u001b[39;00m\n\u001b[1;32m---> 32\u001b[0m group1 \u001b[39m=\u001b[39m create_feature_matrix(seizure_trials_train, seizure_trial_duration, folder_path, window_size[\u001b[39m2\u001b[39;49m], total_duration_train)\n",
            "Cell \u001b[1;32mIn [9], line 60\u001b[0m, in \u001b[0;36mcreate_feature_matrix\u001b[1;34m(seizure_trials, seizure_trial_duration, folder_path, window_size, total_duration)\u001b[0m\n\u001b[0;32m     58\u001b[0m \u001b[39mif\u001b[39;00m label \u001b[39m==\u001b[39m \u001b[39m0\u001b[39m:\n\u001b[0;32m     59\u001b[0m   features_df \u001b[39m=\u001b[39m features_df\u001b[39m.\u001b[39mappend({\u001b[39m'\u001b[39m\u001b[39mData\u001b[39m\u001b[39m'\u001b[39m: \u001b[39m'\u001b[39m\u001b[39mnonseizure_\u001b[39m\u001b[39m'\u001b[39m\u001b[39m+\u001b[39m \u001b[39mstr\u001b[39m(i)\u001b[39m+\u001b[39m\u001b[39m'\u001b[39m\u001b[39m.npy\u001b[39m\u001b[39m'\u001b[39m, \u001b[39m'\u001b[39m\u001b[39mLabel\u001b[39m\u001b[39m'\u001b[39m: label}, ignore_index \u001b[39m=\u001b[39m \u001b[39mTrue\u001b[39;00m)\n\u001b[1;32m---> 60\u001b[0m   \u001b[39mwith\u001b[39;00m \u001b[39mopen\u001b[39;49m(\u001b[39m'\u001b[39;49m\u001b[39mwindow_size_4/chb01/train/nonseizure_\u001b[39;49m\u001b[39m'\u001b[39;49m\u001b[39m+\u001b[39;49m \u001b[39mstr\u001b[39;49m(i)\u001b[39m+\u001b[39;49m\u001b[39m'\u001b[39;49m\u001b[39m.npy\u001b[39;49m\u001b[39m'\u001b[39;49m, \u001b[39m'\u001b[39;49m\u001b[39mwb\u001b[39;49m\u001b[39m'\u001b[39;49m) \u001b[39mas\u001b[39;00m f:    \u001b[39m#######1st and last trials are used for testing#######\u001b[39;00m\n\u001b[0;32m     61\u001b[0m     np\u001b[39m.\u001b[39msave(f, feature_prep)\n\u001b[0;32m     62\u001b[0m   f\u001b[39m.\u001b[39mclose\n",
            "File \u001b[1;32mc:\\Users\\TAACHUP2\\Miniconda3\\lib\\site-packages\\IPython\\core\\interactiveshell.py:282\u001b[0m, in \u001b[0;36m_modified_open\u001b[1;34m(file, *args, **kwargs)\u001b[0m\n\u001b[0;32m    275\u001b[0m \u001b[39mif\u001b[39;00m file \u001b[39min\u001b[39;00m {\u001b[39m0\u001b[39m, \u001b[39m1\u001b[39m, \u001b[39m2\u001b[39m}:\n\u001b[0;32m    276\u001b[0m     \u001b[39mraise\u001b[39;00m \u001b[39mValueError\u001b[39;00m(\n\u001b[0;32m    277\u001b[0m         \u001b[39mf\u001b[39m\u001b[39m\"\u001b[39m\u001b[39mIPython won\u001b[39m\u001b[39m'\u001b[39m\u001b[39mt let you open fd=\u001b[39m\u001b[39m{\u001b[39;00mfile\u001b[39m}\u001b[39;00m\u001b[39m by default \u001b[39m\u001b[39m\"\u001b[39m\n\u001b[0;32m    278\u001b[0m         \u001b[39m\"\u001b[39m\u001b[39mas it is likely to crash IPython. If you know what you are doing, \u001b[39m\u001b[39m\"\u001b[39m\n\u001b[0;32m    279\u001b[0m         \u001b[39m\"\u001b[39m\u001b[39myou can use builtins\u001b[39m\u001b[39m'\u001b[39m\u001b[39m open.\u001b[39m\u001b[39m\"\u001b[39m\n\u001b[0;32m    280\u001b[0m     )\n\u001b[1;32m--> 282\u001b[0m \u001b[39mreturn\u001b[39;00m io_open(file, \u001b[39m*\u001b[39margs, \u001b[39m*\u001b[39m\u001b[39m*\u001b[39mkwargs)\n",
            "\u001b[1;31mPermissionError\u001b[0m: [Errno 13] Permission denied: 'window_size_4/chb01/train/nonseizure_0.npy'"
          ]
        }
      ],
      "source": []
    },
    {
      "cell_type": "code",
      "execution_count": null,
      "metadata": {
        "id": "u3KvsY4a4LsK",
        "outputId": "9c2b4461-6d65-4136-a31e-27b4da736354"
      },
      "outputs": [
        {
          "name": "stdout",
          "output_type": "stream",
          "text": [
            "['chb07_19.edf']\n",
            "(3602, 22, 1024)\n",
            "(3602,)\n",
            "chb07_19.edf\n",
            "finishing one trial\n"
          ]
        }
      ],
      "source": []
    },
    {
      "cell_type": "code",
      "execution_count": null,
      "metadata": {
        "id": "CYcao7Iy4LsM"
      },
      "outputs": [],
      "source": [
        "group"
      ]
    },
    {
      "cell_type": "code",
      "execution_count": null,
      "metadata": {
        "id": "Dg2I_tZT4LsM"
      },
      "outputs": [],
      "source": [
        "features_train1 = np.load('features_train_chb0'+str(1)+'.npy')\n",
        "labels_train1 = np.load('labels_train_chb0'+str(1)+'.npy')\n",
        "c=0\n",
        "for i in range(len(labels_train1)):\n",
        "    if labels_train1 == 1:\n",
        "        c+=1\n",
        "print(c)\n",
        "img = np.zeros((22, 256*c))\n",
        "for j in range(len(labels_train1)):\n",
        "    if labels_train1 == 1:\n",
        "       img[:,j*256:(j+1)*256] = features_train1[j,:,:] \n",
        "print(img.shape)\n",
        "\n"
      ]
    },
    {
      "cell_type": "code",
      "execution_count": null,
      "metadata": {
        "id": "DK1ZcN_o4LsN",
        "outputId": "6ea8759d-6974-4fc0-ad40-0dacb7116025"
      },
      "outputs": [
        {
          "name": "stdout",
          "output_type": "stream",
          "text": [
            "chb08_13.edf\n"
          ]
        },
        {
          "ename": "IndexError",
          "evalue": "list index out of range",
          "output_type": "error",
          "traceback": [
            "\u001b[1;31m---------------------------------------------------------------------------\u001b[0m",
            "\u001b[1;31mIndexError\u001b[0m                                Traceback (most recent call last)",
            "Cell \u001b[1;32mIn [60], line 7\u001b[0m\n\u001b[0;32m      5\u001b[0m total_duration \u001b[39m=\u001b[39m \u001b[39m3600\u001b[39m\u001b[39m*\u001b[39m\u001b[39mlen\u001b[39m(seizure_trials_test)\n\u001b[0;32m      6\u001b[0m folder_path\u001b[39m=\u001b[39m processed_data_path \u001b[39m+\u001b[39m \u001b[39m'\u001b[39m\u001b[39mchb\u001b[39m\u001b[39m'\u001b[39m\u001b[39m+\u001b[39m patients[index] \u001b[39m+\u001b[39m \u001b[39m'\u001b[39m\u001b[39m/\u001b[39m\u001b[39m'\u001b[39m\n\u001b[1;32m----> 7\u001b[0m create_feature_matrix(seizure_trials, folder_path, window_size[\u001b[39m2\u001b[39;49m], total_duration)\n",
            "Cell \u001b[1;32mIn [45], line 15\u001b[0m, in \u001b[0;36mcreate_feature_matrix\u001b[1;34m(seizure_trials, folder_path, window_size, total_duration)\u001b[0m\n\u001b[0;32m     13\u001b[0m feature_prep \u001b[39m=\u001b[39m np\u001b[39m.\u001b[39mzeros((\u001b[39m23\u001b[39m,\u001b[39m256\u001b[39m\u001b[39m*\u001b[39mwindow_size))\n\u001b[0;32m     14\u001b[0m \u001b[39mfor\u001b[39;00m j \u001b[39min\u001b[39;00m \u001b[39mrange\u001b[39m(window_size):\n\u001b[1;32m---> 15\u001b[0m     \u001b[39mif\u001b[39;00m \u001b[39m'\u001b[39m\u001b[39m_seizure_\u001b[39m\u001b[39m'\u001b[39m \u001b[39min\u001b[39;00m name[window\u001b[39m+\u001b[39;49mj]:\n\u001b[0;32m     16\u001b[0m         \u001b[39m#print(name[window+j])\u001b[39;00m\n\u001b[0;32m     17\u001b[0m         seizure\u001b[39m+\u001b[39m\u001b[39m=\u001b[39m\u001b[39m1\u001b[39m\n\u001b[0;32m     18\u001b[0m         \u001b[39m#print('seizure no.', seizure)\u001b[39;00m\n\u001b[0;32m     19\u001b[0m         \u001b[39m#print('hi')\u001b[39;00m\n",
            "\u001b[1;31mIndexError\u001b[0m: list index out of range"
          ]
        }
      ],
      "source": [
        "seizure_trials_test = seizure_trials[-1]\n",
        "print(seizure_trials_test)\n",
        "window_size = [1,2,4,8,10]\n",
        "index = 0\n",
        "total_duration = 3600*len(seizure_trials_test)\n",
        "folder_path= processed_data_path + 'chb'+ patients[index] + '/'\n",
        "create_feature_matrix(seizure_trials, folder_path, window_size[2], total_duration)\n"
      ]
    },
    {
      "cell_type": "code",
      "execution_count": null,
      "metadata": {
        "id": "bvWtgkVO4LsO",
        "outputId": "429e0ff3-ec7f-4435-96b9-70a7168ecddb"
      },
      "outputs": [
        {
          "ename": "MemoryError",
          "evalue": "Unable to allocate 36.4 GiB for an array with shape (216944, 22, 1024) and data type float64",
          "output_type": "error",
          "traceback": [
            "\u001b[1;31m---------------------------------------------------------------------------\u001b[0m",
            "\u001b[1;31mMemoryError\u001b[0m                               Traceback (most recent call last)",
            "Cell \u001b[1;32mIn [88], line 33\u001b[0m\n\u001b[0;32m     30\u001b[0m labels_train6 \u001b[39m=\u001b[39m np\u001b[39m.\u001b[39mconcatenate((labels_train3,labels_train5), axis \u001b[39m=\u001b[39m \u001b[39m0\u001b[39m)\n\u001b[0;32m     31\u001b[0m \u001b[39m#features_train7 = np.concatenate((features_train3,features_train6), axis = 0)\u001b[39;00m\n\u001b[0;32m     32\u001b[0m \u001b[39m#labels_train7 = np.concatenate((labels_train3,labels_train6), axis = 0)\u001b[39;00m\n\u001b[1;32m---> 33\u001b[0m features_train8 \u001b[39m=\u001b[39m np\u001b[39m.\u001b[39;49mconcatenate((features_train6,features_train), axis \u001b[39m=\u001b[39;49m \u001b[39m0\u001b[39;49m)\n\u001b[0;32m     34\u001b[0m labels_train8 \u001b[39m=\u001b[39m np\u001b[39m.\u001b[39mconcatenate((labels_train6,labels_train), axis \u001b[39m=\u001b[39m \u001b[39m0\u001b[39m)\n\u001b[0;32m     35\u001b[0m \u001b[39m#print('features shape ', features_train.shape)\u001b[39;00m\n\u001b[0;32m     36\u001b[0m     \u001b[39m# print('feature 0', features[0])\u001b[39;00m\n",
            "File \u001b[1;32m<__array_function__ internals>:180\u001b[0m, in \u001b[0;36mconcatenate\u001b[1;34m(*args, **kwargs)\u001b[0m\n",
            "\u001b[1;31mMemoryError\u001b[0m: Unable to allocate 36.4 GiB for an array with shape (216944, 22, 1024) and data type float64"
          ]
        }
      ],
      "source": [
        "#for i in range(0, len(seizure_trials_train), 2):\n",
        "# features_train1 = np.load('features_train_chb0'+str(1)+'.npy')\n",
        "# labels_train1 = np.load('labels_train_chb0'+str(1)+'.npy')\n",
        "# features_train2 = np.load('features_train_chb0'+str(2)+'.npy')\n",
        "# labels_train2 = np.load('labels_train_chb0'+str(2)+'.npy')\n",
        "# features_train4 = np.load('features_train_chb0'+str(3)+'.npy')\n",
        "# labels_train4 = np.load('labels_train_chb0'+str(3)+'.npy')\n",
        "# features_train5 = np.load('features_train_chb0'+str(4)+'.npy')\n",
        "# labels_train5 = np.load('labels_train_chb0'+str(4)+'.npy')\n",
        "# features_train3 = np.concatenate((features_train1,features_train2), axis = 0)\n",
        "# labels_train3 = np.concatenate((labels_train1,labels_train2), axis = 0)\n",
        "# features_train6 = np.concatenate((features_train4,features_train5), axis = 0)\n",
        "# labels_train6 = np.concatenate((labels_train4,labels_train5), axis = 0)\n",
        "# features_train7 = np.concatenate((features_train3,features_train6), axis = 0)\n",
        "# labels_train7 = np.concatenate((labels_train3,labels_train6), axis = 0)\n",
        "features_train = np.load('features_train_4secs_1-4.npy')\n",
        "labels_train = np.load('labels_train_4secs_1-4.npy')\n",
        "  \n",
        "features_train1 = np.load('features_train_chb0'+str(5)+'.npy')\n",
        "labels_train1 = np.load('labels_train_chb0'+str(5)+'.npy')\n",
        "features_train2 = np.load('features_train_chb0'+str(6)+'.npy')\n",
        "labels_train2 = np.load('labels_train_chb0'+str(6)+'.npy')\n",
        "#features_train4 = np.load('features_train_chb0'+str(7)+'.npy')\n",
        "#labels_train4 = np.load('labels_train_chb0'+str(7)+'.npy')\n",
        "features_train5 = np.load('features_train_chb0'+str(8)+'.npy')\n",
        "labels_train5 = np.load('labels_train_chb0'+str(8)+'.npy')\n",
        "features_train3 = np.concatenate((features_train1,features_train2), axis = 0)\n",
        "labels_train3 = np.concatenate((labels_train1,labels_train2), axis = 0)\n",
        "features_train6 = np.concatenate((features_train3,features_train5), axis = 0)\n",
        "labels_train6 = np.concatenate((labels_train3,labels_train5), axis = 0)\n",
        "#features_train7 = np.concatenate((features_train3,features_train6), axis = 0)\n",
        "#labels_train7 = np.concatenate((labels_train3,labels_train6), axis = 0)\n",
        "features_train8 = np.concatenate((features_train6,features_train), axis = 0)\n",
        "labels_train8 = np.concatenate((labels_train6,labels_train), axis = 0)\n",
        "#print('features shape ', features_train.shape)\n",
        "    # print('feature 0', features[0])\n",
        "print('labels shape', labels_train8.shape)\n",
        "c=0\n",
        "for i in range(len(labels_train8)):\n",
        "  if labels_train8[i] ==1:\n",
        "    c +=1\n",
        "    #print(labels_train[i])\n",
        "print(c)\n",
        "\n",
        "feature_tensor = torch.Tensor(features_train8)   #################SET THE RIGHT FEATURE############\n",
        "feature_tensor = feature_tensor.unsqueeze(dim = 1)\n",
        "print('features tensorshape ', feature_tensor.shape)\n",
        "label_tensor = torch.Tensor(labels_train8) #################SET THE RIGHT LABEL#################\n",
        "\n",
        "dataset = utils.data.TensorDataset(feature_tensor, label_tensor)"
      ]
    },
    {
      "cell_type": "code",
      "execution_count": null,
      "metadata": {
        "id": "rkEgUmvf4LsQ",
        "outputId": "6566a18c-df5c-489c-f1af-bbc2cddd427e"
      },
      "outputs": [
        {
          "name": "stdout",
          "output_type": "stream",
          "text": [
            "(257380, 22, 1024)\n",
            "85990\n",
            "85991\n",
            "85992\n",
            "85993\n"
          ]
        }
      ],
      "source": [
        "c=0\n",
        "print(features_train8.shape)\n",
        "for i in range(len(features_train8)):\n",
        "    if np.isnan(np.min((features_train8[i,:,:]))):\n",
        "        print(i)\n",
        "#print(c)"
      ]
    },
    {
      "cell_type": "code",
      "execution_count": null,
      "metadata": {
        "id": "s9Ab6W8G4LsQ",
        "outputId": "df24676b-0296-424e-ddb3-bb6d2c685da9"
      },
      "outputs": [
        {
          "ename": "FileNotFoundError",
          "evalue": "[Errno 2] No such file or directory: 'features_train_4secs_1-4.npy'",
          "output_type": "error",
          "traceback": [
            "\u001b[1;31m---------------------------------------------------------------------------\u001b[0m",
            "\u001b[1;31mFileNotFoundError\u001b[0m                         Traceback (most recent call last)",
            "Cell \u001b[1;32mIn [79], line 1\u001b[0m\n\u001b[1;32m----> 1\u001b[0m features_test \u001b[39m=\u001b[39m np\u001b[39m.\u001b[39;49mload(\u001b[39m'\u001b[39;49m\u001b[39mfeatures_train_4secs_1-4.npy\u001b[39;49m\u001b[39m'\u001b[39;49m)\n\u001b[0;32m      2\u001b[0m labels_test \u001b[39m=\u001b[39m np\u001b[39m.\u001b[39mload(\u001b[39m'\u001b[39m\u001b[39mlabels_train_4secs_1-4.npy\u001b[39m\u001b[39m'\u001b[39m)\n",
            "File \u001b[1;32mc:\\Users\\TAACHUP2\\Miniconda3\\lib\\site-packages\\numpy\\lib\\npyio.py:390\u001b[0m, in \u001b[0;36mload\u001b[1;34m(file, mmap_mode, allow_pickle, fix_imports, encoding)\u001b[0m\n\u001b[0;32m    388\u001b[0m     own_fid \u001b[39m=\u001b[39m \u001b[39mFalse\u001b[39;00m\n\u001b[0;32m    389\u001b[0m \u001b[39melse\u001b[39;00m:\n\u001b[1;32m--> 390\u001b[0m     fid \u001b[39m=\u001b[39m stack\u001b[39m.\u001b[39menter_context(\u001b[39mopen\u001b[39;49m(os_fspath(file), \u001b[39m\"\u001b[39;49m\u001b[39mrb\u001b[39;49m\u001b[39m\"\u001b[39;49m))\n\u001b[0;32m    391\u001b[0m     own_fid \u001b[39m=\u001b[39m \u001b[39mTrue\u001b[39;00m\n\u001b[0;32m    393\u001b[0m \u001b[39m# Code to distinguish from NumPy binary files and pickles.\u001b[39;00m\n",
            "\u001b[1;31mFileNotFoundError\u001b[0m: [Errno 2] No such file or directory: 'features_train_4secs_1-4.npy'"
          ]
        }
      ],
      "source": [
        "features_test = np.load('features_train_4secs_1-4.npy')\n",
        "labels_test = np.load('labels_train_4secs_1-4.npy')\n"
      ]
    },
    {
      "cell_type": "code",
      "execution_count": null,
      "metadata": {
        "id": "11G0vaCp4LsR"
      },
      "outputs": [],
      "source": []
    },
    {
      "cell_type": "code",
      "execution_count": null,
      "metadata": {
        "id": "e1hSO7XQ4LsR"
      },
      "outputs": [],
      "source": []
    },
    {
      "cell_type": "code",
      "execution_count": null,
      "metadata": {
        "id": "CT2c2sJs4LsS"
      },
      "outputs": [],
      "source": [
        "feature_tensor = torch.Tensor(features_test)   #################SET THE RIGHT FEATURE############\n",
        "feature_tensor = feature_tensor.unsqueeze(dim = 1)\n",
        "print('features tensorshape ', feature_tensor.shape)\n",
        "label_tensor = torch.Tensor(labels_test) #################SET THE RIGHT LABEL#################\n",
        "\n",
        "\n",
        "dataset = utils.data.TensorDataset(feature_tensor, label_tensor)"
      ]
    },
    {
      "cell_type": "code",
      "execution_count": null,
      "metadata": {
        "id": "vFqZVm9d4LsS",
        "outputId": "e9c5c3f9-bdfb-4886-a312-09f49a04e695"
      },
      "outputs": [
        {
          "name": "stdout",
          "output_type": "stream",
          "text": [
            "features shape  (900, 23, 1024)\n",
            "labels shape (900,)\n",
            "features tensorshape  torch.Size([900, 1, 23, 1024])\n"
          ]
        }
      ],
      "source": [
        "features_test = np.load('features_test.npy')\n",
        "labels_test = np.load('labels_test.npy')\n",
        "\n",
        "print('features shape ', features_test.shape)\n",
        "    # print('feature 0', features[0])\n",
        "print('labels shape', labels_test.shape)\n",
        "  #for i in range(len(labels)):\n",
        "    #print(labels[i])\n",
        "\n",
        "feature_tensor = torch.Tensor(features_test)\n",
        "feature_tensor = feature_tensor.unsqueeze(dim = 1)\n",
        "print('features tensorshape ', feature_tensor.shape)\n",
        "label_tensor = torch.Tensor(labels_test)\n",
        "\n",
        "test_dataset = utils.data.TensorDataset(feature_tensor, label_tensor)"
      ]
    },
    {
      "cell_type": "code",
      "execution_count": null,
      "metadata": {
        "id": "2UNSCQmS4LsS"
      },
      "outputs": [],
      "source": [
        "train_size = int(0.7*len(dataset))\n",
        "val_size = int(0.3*len(dataset))\n",
        "#test_size = int(0.1*len(dataset))"
      ]
    },
    {
      "cell_type": "code",
      "execution_count": null,
      "metadata": {
        "id": "xDb9Q5iT4LsS"
      },
      "outputs": [],
      "source": [
        "#import numpy as np\n",
        "#dataset = np.load(path+'preprocessed_data')\n",
        "train_dataset, val_dataset = data.random_split(dataset,\n",
        "                                               [train_size, val_size], generator=torch.Generator().manual_seed(42))"
      ]
    },
    {
      "cell_type": "code",
      "execution_count": null,
      "metadata": {
        "id": "6sCCqIOS4LsT",
        "outputId": "127b92e7-99a4-4a58-cddb-5a62d18373f7"
      },
      "outputs": [
        {
          "data": {
            "text/plain": [
              "(16737, 7173)"
            ]
          },
          "execution_count": 84,
          "metadata": {},
          "output_type": "execute_result"
        }
      ],
      "source": [
        "len(train_dataset), len(val_dataset)#, len(test_dataset)"
      ]
    },
    {
      "cell_type": "code",
      "execution_count": null,
      "metadata": {
        "id": "pdYOeHWT4LsT",
        "outputId": "314ba0d1-486c-4223-8689-16cf7694f100"
      },
      "outputs": [
        {
          "ename": "RuntimeError",
          "evalue": "Boolean value of Tensor with more than one value is ambiguous",
          "output_type": "error",
          "traceback": [
            "\u001b[1;31m---------------------------------------------------------------------------\u001b[0m",
            "\u001b[1;31mRuntimeError\u001b[0m                              Traceback (most recent call last)",
            "Cell \u001b[1;32mIn [61], line 6\u001b[0m\n\u001b[0;32m      4\u001b[0m   img, label \u001b[39m=\u001b[39m train_dataset[i][\u001b[39m0\u001b[39m], train_dataset[i][\u001b[39m1\u001b[39m]\n\u001b[0;32m      5\u001b[0m   \u001b[39mfor\u001b[39;00m j \u001b[39min\u001b[39;00m \u001b[39mrange\u001b[39m(\u001b[39mlen\u001b[39m(img)):\n\u001b[1;32m----> 6\u001b[0m     \u001b[39mif\u001b[39;00m torch\u001b[39m.\u001b[39;49misnan(img[\u001b[39m0\u001b[39;49m:\u001b[39m23\u001b[39;49m,j]) \u001b[39m==\u001b[39;49m \u001b[39mTrue\u001b[39;49;00m:\n\u001b[0;32m      7\u001b[0m       \u001b[39m#c_train+=1\u001b[39;00m\n\u001b[0;32m      8\u001b[0m       \u001b[39mprint\u001b[39m(torch\u001b[39m.\u001b[39misnan(img[\u001b[39m0\u001b[39m:\u001b[39m23\u001b[39m,j]))\n\u001b[0;32m      9\u001b[0m   \u001b[39m#print(f\"Image tensor:\\n{img}\")\u001b[39;00m\n\u001b[0;32m     10\u001b[0m   \u001b[39m#print(f\"Image shape: {img.shape}\")\u001b[39;00m\n\u001b[0;32m     11\u001b[0m   \u001b[39m#print(f\"Image datatype: {img.dtype}\")\u001b[39;00m\n\u001b[1;32m   (...)\u001b[0m\n\u001b[0;32m     15\u001b[0m \u001b[39m#print(c_train)\u001b[39;00m\n\u001b[0;32m     16\u001b[0m   \u001b[39m#print(f\"Label datatype: {type(label)}\")\u001b[39;00m\n",
            "\u001b[1;31mRuntimeError\u001b[0m: Boolean value of Tensor with more than one value is ambiguous"
          ]
        }
      ],
      "source": [
        "c_train = 0\n",
        "train_dataset = dataset\n",
        "for i in range(len(train_dataset)):\n",
        "  img, label = train_dataset[i][0], train_dataset[i][1]\n",
        "  for j in range(len(img)):\n",
        "    if torch.isnan(img[0:23,j]) == True:\n",
        "      #c_train+=1\n",
        "      print(torch.isnan(img[0:23,j]))\n",
        "  #print(f\"Image tensor:\\n{img}\")\n",
        "  #print(f\"Image shape: {img.shape}\")\n",
        "  #print(f\"Image datatype: {img.dtype}\")\n",
        "  # if label == 1.0:\n",
        "  #   c_train +=1\n",
        "    #print(f\"Image label: {label}\")\n",
        "#print(c_train)\n",
        "  #print(f\"Label datatype: {type(label)}\")"
      ]
    },
    {
      "cell_type": "code",
      "execution_count": null,
      "metadata": {
        "id": "WUXVTt5S4LsU"
      },
      "outputs": [],
      "source": [
        "group"
      ]
    },
    {
      "cell_type": "code",
      "execution_count": null,
      "metadata": {
        "id": "i5mJHgKU4LsV",
        "outputId": "c33e4ce1-9737-4506-b0f4-49e8b6d3cfcd"
      },
      "outputs": [
        {
          "name": "stdout",
          "output_type": "stream",
          "text": [
            "0\n"
          ]
        }
      ],
      "source": [
        "c_val = 0\n",
        "for i in range(len(val_dataset)):\n",
        "  _, label = val_dataset[i][0], val_dataset[i][1]\n",
        "  #print(f\"Image tensor:\\n{img}\")\n",
        "  #print(f\"Image shape: {img.shape}\")\n",
        "  #print(f\"Image datatype: {img.dtype}\")\n",
        "  if label == 1.0:\n",
        "    #print(f\"Image label: {label}\")\n",
        "    c_val +=1\n",
        "  #print(f\"Label datatype: {type(label)}\")\n",
        "print(c_val)"
      ]
    },
    {
      "cell_type": "code",
      "execution_count": null,
      "metadata": {
        "id": "hTV7Syzg4LsV",
        "outputId": "fb37daee-373d-4751-bdb6-a2a65e515080"
      },
      "outputs": [
        {
          "name": "stdout",
          "output_type": "stream",
          "text": [
            "33\n"
          ]
        }
      ],
      "source": [
        "c_test = 0\n",
        "for i in range(len(test_dataset)):\n",
        "  _, label = test_dataset[i][0], test_dataset[i][1]\n",
        "  #print(f\"Image tensor:\\n{img}\")\n",
        "  #print(f\"Image shape: {img.shape}\")\n",
        "  #print(f\"Image datatype: {img.dtype}\")\n",
        "  if label == 1.0:\n",
        "    c_test +=1\n",
        "   # print(f\"Image label: {label}\")\n",
        "print(c_test)\n",
        "  #print(f\"Label datatype: {type(label)}\")"
      ]
    },
    {
      "cell_type": "markdown",
      "metadata": {
        "id": "VPv-7D2x4LsW"
      },
      "source": [
        "# Weighted Random Sampler\n"
      ]
    },
    {
      "cell_type": "code",
      "execution_count": null,
      "metadata": {
        "id": "6qgzrPDQ4LsW"
      },
      "outputs": [],
      "source": [
        "from torch.utils.data.sampler import WeightedRandomSampler\n",
        "class_samples_count = [13745, 655]\n",
        "weight = [1/ class_samples_count[0], 1/class_samples_count[1]]\n",
        "#weight[0] = float(1/13745)\n",
        "#weight[1] = float(1/655)\n",
        "#samples_weight = [1/13745, 1/655]\n",
        "#samples_weight = [1, 100]\n",
        "samples_weight = np.array([weight[t] for t in range(2)])\n",
        "\n",
        "samples_weight = torch.from_numpy(samples_weight)\n",
        "samples_weigth = samples_weight.double()\n",
        "#print(samples_weight)\n",
        "sampler_train = WeightedRandomSampler(weights = samples_weight, num_samples = len(train_dataset), replacement=True)\n",
        "\n",
        "sampler_val = WeightedRandomSampler(samples_weight, len(val_dataset), replacement=True)"
      ]
    },
    {
      "cell_type": "markdown",
      "metadata": {
        "id": "VIok47yA4LsX"
      },
      "source": [
        "# Dataloader\n"
      ]
    },
    {
      "cell_type": "markdown",
      "metadata": {
        "id": "Xre67CMt4LsX"
      },
      "source": [
        "# MyDataLoader\n"
      ]
    },
    {
      "cell_type": "code",
      "execution_count": null,
      "metadata": {
        "id": "FZQ6sL-R4LsX"
      },
      "outputs": [],
      "source": [
        "from torch.utils.data import DataLoader\n",
        "\n",
        "\n",
        "train_dataloader = DataLoader(dataset=train_dataset, # use custom created train Dataset\n",
        "                                     #sampler = sampler_train,\n",
        "                                     batch_size=32, # how many samples per batch?\n",
        "                                     num_workers=4, # how many subprocesses to use for data loading? (higher = more)\n",
        "                                     shuffle=True) # shuffle the data?\n",
        "\n",
        "val_dataloader = DataLoader(dataset=val_dataset, # use custom created test Dataset\n",
        "                                    #sampler = sampler_val,\n",
        "                                    batch_size=32, \n",
        "                                    num_workers=4, \n",
        "                                    shuffle=False) # don't usually need to shuffle testing data\n",
        "\n",
        "test_dataloader = DataLoader(dataset=test_dataset, # use custom created test Dataset\n",
        "                                    #sampler = sampler,\n",
        "                                    batch_size=32, \n",
        "                                    num_workers=4, \n",
        "                                    shuffle=False) # don't usually need to shuffle testing data\n",
        "\n",
        "\n",
        "train_dataloader, val_dataloader, test_dataloader\n",
        "\n",
        "# Get image and label from custom DataLoader\n",
        "\n",
        "# for i in range(len(train_dataloader)):\n",
        "#   img_custom_val, label_val = next(iter(train_dataloader))\n",
        "#   #print(img_custom_val.shape)\n",
        "#   if label_val.any == 1.0:\n",
        "#     print(label_val)\n"
      ]
    },
    {
      "cell_type": "markdown",
      "metadata": {
        "id": "8xdYPJFh4LsY"
      },
      "source": [
        "# 2D CNN\n"
      ]
    },
    {
      "cell_type": "code",
      "execution_count": null,
      "metadata": {
        "id": "oNiZOBlZ4LsY",
        "outputId": "1605686f-fbf2-4360-f4f7-f1f186d5d721"
      },
      "outputs": [
        {
          "name": "stdout",
          "output_type": "stream",
          "text": [
            "CNN(\n",
            "  (conv1): Conv2d(1, 4, kernel_size=(1, 8), stride=(1, 1), padding=same)\n",
            "  (pool1): MaxPool2d(kernel_size=(1, 8), stride=(1, 8), padding=0, dilation=1, ceil_mode=False)\n",
            "  (conv2): Conv2d(4, 16, kernel_size=(1, 16), stride=(1, 1), padding=same)\n",
            "  (pool2): MaxPool2d(kernel_size=(1, 4), stride=(1, 4), padding=0, dilation=1, ceil_mode=False)\n",
            "  (conv3): Conv2d(16, 16, kernel_size=(1, 8), stride=(1, 1), padding=same)\n",
            "  (pool3): MaxPool2d(kernel_size=(1, 4), stride=(1, 4), padding=0, dilation=1, ceil_mode=False)\n",
            "  (conv4): Conv2d(16, 16, kernel_size=(16, 1), stride=(1, 1), padding=same)\n",
            "  (pool4): MaxPool2d(kernel_size=(4, 1), stride=(4, 1), padding=0, dilation=1, ceil_mode=False)\n",
            "  (conv5): Conv2d(16, 16, kernel_size=(8, 1), stride=(1, 1), padding=same)\n",
            "  (pool5): MaxPool2d(kernel_size=(4, 1), stride=(4, 1), padding=0, dilation=1, ceil_mode=False)\n",
            "  (pool6): AdaptiveAvgPool2d(output_size=(1, 1))\n",
            "  (fcn): Linear(in_features=16, out_features=2, bias=True)\n",
            ")\n",
            "torch.Size([3, 2])\n"
          ]
        }
      ],
      "source": [
        "import torch\n",
        "import torch.nn as nn\n",
        "import torch.optim as optim\n",
        "import torch.nn.functional as F\n",
        "import numpy as np\n",
        "import matplotlib.pyplot as plt\n",
        "\n",
        "x = torch.randn(3,1,22,1024)\n",
        "#print(x.shape)\n",
        "\n",
        "class CNN(nn.Module):\n",
        "    def __init__(self):\n",
        "        super().__init__()\n",
        "        self.conv1 = nn.Conv2d(in_channels=1, out_channels=4, kernel_size=(1,8), stride = (1,1), padding = 'same')\n",
        "        self.pool1 = nn.MaxPool2d(kernel_size=(1,8), stride=(1,8))\n",
        "        self.conv2 = nn.Conv2d(in_channels=4, out_channels=16, kernel_size=(1,16), stride = (1,1), padding = 'same')\n",
        "        self.pool2 = nn.MaxPool2d(kernel_size=(1,4), stride=(1,4))\n",
        "        self.conv3 = nn.Conv2d(in_channels=16, out_channels=16, kernel_size=(1,8), stride = (1,1), padding = 'same')\n",
        "        self.pool3 = nn.MaxPool2d(kernel_size=(1,4), stride=(1,4))\n",
        "        self.conv4 = nn.Conv2d(in_channels=16, out_channels=16, kernel_size=(16,1), stride = (1,1), padding = 'same')\n",
        "        self.pool4 = nn.MaxPool2d(kernel_size=(4,1), stride=(4,1))\n",
        "        self.conv5 = nn.Conv2d(in_channels=16, out_channels=16, kernel_size=(8,1), stride = (1,1), padding = 'same')\n",
        "        self.pool5 = nn.MaxPool2d(kernel_size=(4,1), stride=(4,1))\n",
        "        self.pool6 = nn.AdaptiveAvgPool2d((1,1))    # /128 with 5 conv2d and /32 with 4\n",
        "        #self.flatten = nn.Flatten()\n",
        "        self.fcn = nn.Linear(16, 2)\n",
        "        #self.sigmoid=nn.Sigmoid()\n",
        "        #self.dropout = nn.Dropout(0.5)\n",
        "    \n",
        "    def forward(self,x):\n",
        "        x=F.relu(self.conv1(x))\n",
        "       # print('conv1 and relu', x.shape)\n",
        "        x= self.pool1(x)\n",
        "       ## print('pool1', x.shape)\n",
        "        x=F.relu(self.conv2(x))\n",
        "        #print('conv2 and relu',x.shape)\n",
        "        x= self.pool2(x)\n",
        "       # x = self.dropout(x)\n",
        "        #print('pool2', x.shape)\n",
        "        x=F.relu(self.conv3(x))\n",
        "        #print('conv3 and relu', x.shape)\n",
        "        x= self.pool3(x)\n",
        "        #x = self.dropout(x)\n",
        "       # print('pool3', x.shape)\n",
        "        x=F.relu(self.conv4(x))\n",
        "        #print('conv4 and relu', x.shape)\n",
        "        x= self.pool4(x)\n",
        "      #  x = self.dropout(x)\n",
        "        #print('pool4', x.shape)\n",
        "        x=F.relu(self.conv5(x))\n",
        "        #print('conv5 and relu', x.shape)\n",
        "        x= self.pool5(x)\n",
        "      #  x = self.dropout(x)\n",
        "        #print('pool5', x.shape)\n",
        "        x= self.pool6(x)\n",
        "        ##print('global avg pooling', x.shape)\n",
        "        x = torch.squeeze(x,2)\n",
        "        #print('1st squeezed x', x.shape)\n",
        "        x = torch.squeeze(x,2)\n",
        "        #x = self.dropout(x)\n",
        "        #print('2nd squeezed x', x.shape)\n",
        "        x= self.fcn(x)\n",
        "       # print('fcn', x.shape)\n",
        "        #x= self.sigmoid(x)\n",
        "        #print('final prediction', x.shape)\n",
        "        return x\n",
        "    \n",
        "torch.manual_seed(42)\n",
        "#model_1 = CNN(256).to(device)\n",
        "#model_2 = CNN(512).to(device)\n",
        "model = CNN()\n",
        "output = model(x)\n",
        "print(model)\n",
        "print(output.shape)"
      ]
    },
    {
      "cell_type": "code",
      "execution_count": null,
      "metadata": {
        "id": "8UlTk_3S4LsZ",
        "outputId": "e04d682b-4c6f-466d-82cb-c3eec037b8d6"
      },
      "outputs": [
        {
          "data": {
            "text/plain": [
              "==========================================================================================\n",
              "Layer (type:depth-idx)                   Output Shape              Param #\n",
              "==========================================================================================\n",
              "CNN                                      [3, 2]                    --\n",
              "├─Conv2d: 1-1                            [3, 4, 22, 1024]          36\n",
              "├─MaxPool2d: 1-2                         [3, 4, 22, 128]           --\n",
              "├─Conv2d: 1-3                            [3, 16, 22, 128]          1,040\n",
              "├─MaxPool2d: 1-4                         [3, 16, 22, 32]           --\n",
              "├─Conv2d: 1-5                            [3, 16, 22, 32]           2,064\n",
              "├─MaxPool2d: 1-6                         [3, 16, 22, 8]            --\n",
              "├─Conv2d: 1-7                            [3, 16, 22, 8]            4,112\n",
              "├─MaxPool2d: 1-8                         [3, 16, 5, 8]             --\n",
              "├─Conv2d: 1-9                            [3, 16, 5, 8]             2,064\n",
              "├─MaxPool2d: 1-10                        [3, 16, 1, 8]             --\n",
              "├─AdaptiveAvgPool2d: 1-11                [3, 16, 1, 1]             --\n",
              "├─Linear: 1-12                           [3, 2]                    34\n",
              "==========================================================================================\n",
              "Total params: 9,350\n",
              "Trainable params: 9,350\n",
              "Non-trainable params: 0\n",
              "Total mult-adds (M): 18.00\n",
              "==========================================================================================\n",
              "Input size (MB): 0.27\n",
              "Forward/backward pass size (MB): 3.60\n",
              "Params size (MB): 0.04\n",
              "Estimated Total Size (MB): 3.91\n",
              "=========================================================================================="
            ]
          },
          "execution_count": 8,
          "metadata": {},
          "output_type": "execute_result"
        }
      ],
      "source": [
        "from torchinfo import summary\n",
        "\n",
        "model = CNN()\n",
        "summary(model, input_size=(3, 1, 22, 1024))"
      ]
    },
    {
      "cell_type": "code",
      "execution_count": null,
      "metadata": {
        "id": "phY2HV8e4LsZ",
        "outputId": "1afa0e6c-2caa-488c-8c72-1419268b711b"
      },
      "outputs": [
        {
          "name": "stdout",
          "output_type": "stream",
          "text": [
            "Collecting torchmetrics\n",
            "  Downloading torchmetrics-0.10.3-py3-none-any.whl (529 kB)\n",
            "     -------------------------------------- 529.7/529.7 kB 4.8 MB/s eta 0:00:00\n",
            "Requirement already satisfied: numpy>=1.17.2 in c:\\users\\taachup2\\miniconda3\\lib\\site-packages (from torchmetrics) (1.23.4)\n",
            "Requirement already satisfied: packaging in c:\\users\\taachup2\\miniconda3\\lib\\site-packages (from torchmetrics) (21.3)\n",
            "Requirement already satisfied: torch>=1.3.1 in c:\\users\\taachup2\\miniconda3\\lib\\site-packages (from torchmetrics) (1.13.0)\n",
            "Requirement already satisfied: typing_extensions in c:\\users\\taachup2\\miniconda3\\lib\\site-packages (from torch>=1.3.1->torchmetrics) (4.4.0)\n",
            "Requirement already satisfied: pyparsing!=3.0.5,>=2.0.2 in c:\\users\\taachup2\\miniconda3\\lib\\site-packages (from packaging->torchmetrics) (3.0.9)\n",
            "Installing collected packages: torchmetrics\n",
            "Successfully installed torchmetrics-0.10.3\n"
          ]
        }
      ],
      "source": [
        "try: \n",
        "    import torchmetrics\n",
        "except:\n",
        "    !pip install torchmetrics \n",
        "    import torchmetrics"
      ]
    },
    {
      "cell_type": "code",
      "execution_count": null,
      "metadata": {
        "id": "jsmY5sxz4Lsa"
      },
      "outputs": [],
      "source": [
        "from sklearn.metrics import confusion_matrix, accuracy_score, f1_score\n",
        "from imblearn.metrics import sensitivity_score\n",
        "\n",
        "'''\n",
        "TP : the number of segments that are correctly identified as ictal (x_true == x_pred == 1)\n",
        "TN : the number of EEG segments that are correctly classified as non-ictal (x_true == x_pred == 0)\n",
        "FP : the number of EEG segments that are incorrectly classified as ictal (x_true == 0 && x_pred == 1)\n",
        "FN : the segments that are incorrectly classified as non-ictal (x_true == 1 && x_pred == 0)\n",
        "'''\n",
        "def classificationPerformanceIndexes (true_arr, pred_arr):\n",
        "    (tn, fp, fn, tp) = confusion_matrix(true_arr, pred_arr, labels=[0, 1]).ravel()\n",
        "    acc = accuracy_score(true_arr, pred_arr)                           # Accuracy\n",
        "    #print(acc)\n",
        "    #snv = tp/(tp + fn) \n",
        "    snv = sensitivity_score(true_arr,pred_arr, average = 'micro')       # Sensitivity or True Positive Rate (TPR)\n",
        "    #print(snv)\n",
        "    spc = tn/(tn + fp)                                                 # Specificity or True Negative Rate (TNR)\n",
        "    ppv = tp/(tp + fp)                                                 # Precision or Positive Predictive Value (PPV)\n",
        "    f1 = f1_score(true_arr, pred_arr)  \n",
        "    #print('tn,fp,fn,tp: ',tn,fp,fn,tp)     # F1 score\n",
        "    #print(f1)\n",
        "    #mcc = matthews_corrcoef(true_arr, pred_arr)                        # Matthews Correlation Coefficient\n",
        "    #kappa = cohen_kappa_score(true_arr, pred_arr)                      # Cohen’s Kappa    \n",
        "    return acc, snv, spc, ppv, f1"
      ]
    },
    {
      "cell_type": "code",
      "execution_count": null,
      "metadata": {
        "id": "W8QlqSkP4Lsa"
      },
      "outputs": [],
      "source": [
        "import torch\n",
        "import torchvision.transforms as T\n",
        "def train_step(train_mean, train_std, model: torch.nn.Module, \n",
        "               dataloader: torch.utils.data.DataLoader,  \n",
        "               optimizer: torch.optim.Optimizer, loss_fn: torch.nn.Module = nn.CrossEntropyLoss(weight=torch.FloatTensor([0.5082, 30.8219]))):\n",
        "\n",
        "    # Put model in train mode\n",
        "    model.train()\n",
        "    \n",
        "    # Setup train loss and train accuracy values\n",
        "    train_loss, train_acc, train_avg_loss, train_avg_acc , train_spec, train_snv, train_avg_spec, train_avg_snv = 0, 0, 0, 0, 0,0,0,0\n",
        "    acc, snv, spc, ppv, f1 = 0,0,0,0,0\n",
        "    # Loop through data loader data batches\n",
        "    for batch, (X_train, y_train) in enumerate(dataloader):\n",
        "        # Send data to target device\n",
        "        X_train = X_train.to(device)\n",
        "        #print(X_train.shape)\n",
        "        transform = T.Normalize(mean=(train_mean), std=(train_std))\n",
        "        X_train = transform(X_train)\n",
        "        X_train = torch.clamp(X_train, min=0, max=1)\n",
        "        y_train = y_train.type(torch.LongTensor) \n",
        "        y_train = y_train.to(device)\n",
        "        #print(y_train.shape)\n",
        "\n",
        "        # 1. Forward pass\n",
        "        y_logits_train = model(X_train)\n",
        "        #print(y_logits_train.shape)\n",
        "        #y_prob_train = torch.softmax(y_logits_train)\n",
        "        #print(y_logits_train.shape)\n",
        "\n",
        "        # 2. Calculate  and accumulate loss\n",
        "        loss = loss_fn(y_logits_train, y_train)\n",
        "        train_loss += loss.item() \n",
        "\n",
        "        # 3. Optimizer zero grad\n",
        "        optimizer.zero_grad()\n",
        "\n",
        "        # 4. Loss backward\n",
        "        loss.backward()\n",
        "\n",
        "        # 5. Optimizer step\n",
        "        optimizer.step()\n",
        "\n",
        "        # Calculate and accumulate accuracy metric across all batches\n",
        "        # y_pred_train = torch.round(y_prob_train)  #dim=1\n",
        "        # train_acc += (y_pred_train == y_train).sum().item()/len(y_train)\n",
        "        # if torch.any(y_pred_train) == 1.0:\n",
        "        #     print(y_pred_train)\n",
        "        # acc, snv, spc, ppv, f1 = classificationPerformanceIndexes(y_train.cpu().numpy(), y_pred_train.cpu().numpy())\n",
        "        # train_spec += spc \n",
        "        # train_snv += snv \n",
        "        # Calculate and accumulate specificity\n",
        "        # specificity = Specificity(average='micro', num_classes=2).to(device)\n",
        "        # train_spec += specificity(y_pred_train, y_train)\n",
        "\n",
        "    # Adjust metrics to get average loss and accuracy per batch \n",
        "    train_avg_loss = train_loss / len(dataloader)\n",
        "    train_avg_acc = train_acc / len(dataloader)\n",
        "    train_avg_spec = train_spec / len(dataloader)\n",
        "    train_avg_snv = train_snv / len(dataloader)\n",
        "    return train_avg_loss, train_avg_acc, train_avg_spec, train_avg_snv"
      ]
    },
    {
      "cell_type": "code",
      "execution_count": null,
      "metadata": {
        "id": "RwZHwOoQ4Lsb"
      },
      "outputs": [],
      "source": [
        "def val_step(train_mean, train_std, model: torch.nn.Module, \n",
        "              dataloader: torch.utils.data.DataLoader, \n",
        "              loss_fn: torch.nn.Module):\n",
        "\n",
        "    # Put model in eval mode\n",
        "    model.eval() \n",
        "    y_true = []\n",
        "    y_pred = []\n",
        "    # Setup test loss and test accuracy values\n",
        "    val_loss, val_acc, val_spec, val_snv, val_avg_loss, val_avg_acc, val_avg_spec, val_avg_snv = 0, 0, 0, 0, 0, 0, 0, 0\n",
        "    acc, snv, spc, ppv, f1 = 0,0,0,0,0\n",
        "    # for i in range(len(dataloader)):\n",
        "    #     _, label_val = next(iter(dataloader))\n",
        "    #     print(label_val)\n",
        "    #print(dataloader.shape)\n",
        "    # Turn on inference context manager\n",
        "    #c = 0\n",
        "    with torch.inference_mode():\n",
        "        # Loop through DataLoader batches\n",
        "        for batch, (X_val, y_val) in enumerate(dataloader):\n",
        "            # Send data to target device\n",
        "            X_val = X_val.to(device)\n",
        "            #print(type(y_val))\n",
        "            # if y_val.any() == 1:\n",
        "            #     #print(y_val)\n",
        "            #     c+=1\n",
        "            transform = T.Normalize(mean=(train_mean), std=(train_std))\n",
        "            X_val = transform(X_val)\n",
        "            X_val = torch.clamp(X_val, min=0, max=1)\n",
        "            #y_true.append(y_val.tolist())\n",
        "            #print('shape of x_val', X_val.shape)\n",
        "            y_val = y_val.type(torch.LongTensor) \n",
        "            y_val = y_val.to(device)\n",
        "            \n",
        "            # 1. Forward pass\n",
        "            y_logits_val = model(X_val)\n",
        "            #print('y_val shape',y_val.shape)\n",
        "            #print('y_val_logits shape', y_logits_val.shape)\n",
        "            # y_prob_val = torch.softmax(y_logits_val)\n",
        "            #print('y_val_softmax shape', y_prob_val.shape)\n",
        "            # 2. Calculate and accumulate loss\n",
        "            loss = loss_fn(y_logits_val, y_val)\n",
        "            val_loss += loss.item()\n",
        "            \n",
        "            # Calculate and accumulate accuracy\n",
        "            # y_pred_val = torch.round(y_prob_val)\n",
        "            # val_acc += ((y_pred_val == y_val).sum().item()/len(y_logits_val))\n",
        "            #y_pred.append(y_pred_val.cpu().tolist())\n",
        "            # if torch.any(y_pred_val) == 1.0:\n",
        "            #     print(y_pred_val)\n",
        "            # Calculate and accumulate specificity\n",
        "            #print(y_val)\n",
        "            #print(y_pred_val = 1)\n",
        "            # print(y_val)\n",
        "            # print(y_pred_val)\n",
        "            # acc, snv, spc, ppv, f1 = classificationPerformanceIndexes(y_val.cpu().numpy(), y_pred_val.cpu().numpy())\n",
        "            #printClassificationPerformanceIndexes(acc, snv, spc, ppv, f1)\n",
        "            # specificity = Specificity(average='micro', num_classes=2).to(device)\n",
        "            # val_spec += specificity(y_pred_val, y_val) \n",
        "            # val_spec += spc \n",
        "            # val_snv += snv \n",
        "    #print(c)        \n",
        "    # Adjust metrics to get average loss and accuracy per batch \n",
        "    val_avg_loss = val_loss / len(dataloader)\n",
        "    val_avg_acc = val_acc / len(dataloader)\n",
        "    val_avg_spec = val_spec / len(dataloader)\n",
        "    val_avg_snv = val_snv / len(dataloader)\n",
        "    return val_avg_loss, val_avg_acc, val_avg_spec, val_avg_snv"
      ]
    },
    {
      "cell_type": "code",
      "execution_count": null,
      "metadata": {
        "id": "9ZcVzVjh4Lsh",
        "outputId": "4b25401d-de68-4286-a12f-fd6259d67d68"
      },
      "outputs": [
        {
          "data": {
            "text/plain": [
              "(tensor([ 0.5082, 30.8219]), 4500)"
            ]
          },
          "execution_count": 11,
          "metadata": {},
          "output_type": "execute_result"
        }
      ],
      "source": [
        "import sklearn\n",
        "class_label= y\n",
        "class_weights=sklearn.utils.class_weight.compute_class_weight(class_weight = 'balanced',classes = np.unique(class_label),y = class_label)\n",
        "class_weights=torch.tensor(class_weights,dtype=torch.float)\n",
        "class_weights, len(class_label)"
      ]
    },
    {
      "cell_type": "code",
      "execution_count": null,
      "metadata": {
        "id": "B1-dtq5K4Lsi"
      },
      "outputs": [],
      "source": [
        "from tqdm.auto import tqdm\n",
        "import torch\n",
        "import torch.nn as nn\n",
        "# train_mean, train_std, model: torch.nn.Module, \n",
        "#           train_dataloader: torch.utils.data.DataLoader, \n",
        "#           val_dataloader: torch.utils.data.DataLoader, \n",
        "#           optimizer: torch.optim.Optimizer,\n",
        "#           loss_fn: torch.nn.Module = nn.CrossEntropyLoss(),  #weight=torch.FloatTensor([0.5082, 30.8219])),  #[ 1.0000, 47818/346])),    1.000, 257380/835    1.0000, 216944/754   #weight=torch.FloatTensor([ 0.7500, 1.5000])),weight=torch.FloatTensor([0.5009, 276.8906])\n",
        "#           epochs: int = 10\n",
        "# 1. Take in various parameters required for training and test steps\n",
        "def train(train_mean,train_std,model,train_dataloader,val_dataloader, optimizer, loss_fn, epochs):\n",
        "    \n",
        "    # 2. Create empty results dictionary\n",
        "    results = {\"train_loss\": [],\n",
        "        \"train_acc\": [],\n",
        "        \"train_spec\": [],\n",
        "        \"train_snv\": [],\n",
        "        \"val_loss\": [],\n",
        "        \"val_acc\": [],\n",
        "        \"val_spec\": [],\n",
        "        \"val_snv\": []\n",
        "    }\n",
        "    \n",
        "    # 3. Loop through training and testing steps for a number of epochs\n",
        "    for epoch in range(epochs):\n",
        "        train_avg_loss, train_avg_acc, train_avg_spec, train_avg_snv = train_step(train_mean, train_std, model=model,\n",
        "                                           dataloader=train_dataloader,\n",
        "                                           optimizer=optimizer, loss_fn=loss_fn)\n",
        "\n",
        "        val_avg_loss, val_avg_acc, val_avg_spec, val_avg_snv = val_step(train_mean, train_std, model=model,\n",
        "            dataloader=val_dataloader,\n",
        "            loss_fn=loss_fn)\n",
        "        \n",
        "        \n",
        "        # 4. Print out what's happening\n",
        "        print(\n",
        "            f\"Epoch: {epoch+1} | \"\n",
        "            f\"train_loss: {train_avg_loss:.4f} | \"\n",
        "            f\"train_acc: {train_avg_acc:.4f} | \"\n",
        "            f\"train_spec: {train_avg_spec:.4f} \"\n",
        "            f\"train_snv: {train_avg_snv:.4f} \"\n",
        "            f\"val_loss: {val_avg_loss:.4f} | \"\n",
        "            f\"val_acc: {val_avg_acc:.4f} |\"\n",
        "            f\"val_spec: {val_avg_spec:.4f} |\"\n",
        "            f\"val_snv: {val_avg_snv:.4f} |\"\n",
        "        )\n",
        "        \n",
        "        \n",
        "\n",
        "        # 5. Update results dictionary\n",
        "        results[\"train_loss\"].append(train_avg_loss)\n",
        "        results[\"train_acc\"].append(train_avg_acc)\n",
        "        results[\"train_spec\"].append(train_avg_spec)\n",
        "        results[\"train_snv\"].append(train_avg_snv)\n",
        "        results[\"val_loss\"].append(val_avg_loss)\n",
        "        results[\"val_acc\"].append(val_avg_acc)\n",
        "        results[\"val_spec\"].append(val_avg_spec)\n",
        "        results[\"val_snv\"].append(val_avg_snv)\n",
        "\n",
        "    # 6. Return the filled results at the end of the epochs\n",
        "    return results"
      ]
    },
    {
      "cell_type": "code",
      "execution_count": null,
      "metadata": {
        "id": "Tf2t9gOr4Lsi"
      },
      "outputs": [],
      "source": [
        "def plot_loss_curves(results):\n",
        "  #: Dict[str, List[float]]\n",
        "    \"\"\"Plots training curves of a results dictionary.\n",
        "\n",
        "    Args:\n",
        "        results (dict): dictionary containing list of values, e.g.\n",
        "            {\"train_loss\": [...],\n",
        "             \"train_acc\": [...],\n",
        "             \"test_loss\": [...],\n",
        "             \"test_acc\": [...]}\n",
        "    \"\"\"\n",
        "    \n",
        "    # Get the loss values of the results dictionary (training and test)\n",
        "    losses = results['train_loss']\n",
        "    losses_array= [loss for loss in losses]\n",
        "    #loss.detach().numpy()\n",
        "    #print(losses)\n",
        "    val_losses = results['val_loss']\n",
        "    #val_losses_array= [loss.detach().numpy() for loss in val_losses]\n",
        "    val_losses_array= [loss for loss in val_losses]\n",
        "\n",
        "    # Get the accuracy values of the results dictionary (training and test)\n",
        "    accuracy = results['train_acc']\n",
        "    #print(accuracy)\n",
        "    val_accuracy = results['val_acc']\n",
        "\n",
        "    # Get the specificity of the results dictionary (training and test)\n",
        "    specificity = results['train_spec']\n",
        "    specificity_array= [spec for spec in specificity]\n",
        "    #print(specificity_array)\n",
        "    val_specificity = results['val_spec']\n",
        "    val_specificity_array = [spec for spec in val_specificity]\n",
        "    #val_specificity_array = [spec for spec in val_specificity]\n",
        "\n",
        "    sensitivity = results['train_snv']\n",
        "    sensitivity_array = [snv for snv in sensitivity]\n",
        "    val_sensitivity = results['val_snv']\n",
        "    val_sensitivity_array = [snv for snv in val_sensitivity]\n",
        "    \n",
        "    # Figure out how many epochs there were\n",
        "    epochs = range(len(results['train_loss']))\n",
        "    #print(type(epochs))\n",
        "    # Setup a plot \n",
        "    plt.figure(figsize=(15, 10))\n",
        "\n",
        "    # Plot loss\n",
        "    plt.subplot(2, 2, 1)\n",
        "    plt.plot(epochs, losses_array, label='train_loss')\n",
        "    plt.plot(epochs, val_losses_array, label='val_loss')\n",
        "    plt.title('Loss')\n",
        "    plt.xlabel('Epochs')\n",
        "    plt.legend()\n",
        "\n",
        "    # Plot accuracy\n",
        "    plt.subplot(2, 2, 2)\n",
        "    plt.plot(epochs, accuracy, label='train_accuracy')\n",
        "    plt.plot(epochs, val_accuracy, label='val_accuracy')\n",
        "    plt.title('Accuracy')\n",
        "    plt.xlabel('Epochs')\n",
        "    plt.legend()\n",
        "\n",
        "    # Plot specificity\n",
        "    plt.subplot(2, 2, 3)\n",
        "    plt.plot(epochs, specificity_array, label='train_specificity')\n",
        "    plt.plot(epochs, val_specificity_array, label='val_specificity')\n",
        "    plt.title('Specificity')\n",
        "    plt.xlabel('Epochs')\n",
        "    plt.legend()\n",
        "    \n",
        "        # Plot specificity\n",
        "    plt.subplot(2, 2, 4)\n",
        "    plt.plot(epochs, sensitivity_array, label='train_sensitivity')\n",
        "    plt.plot(epochs, val_sensitivity_array, label='val_sensitivity')\n",
        "    plt.title('Sensitivity')\n",
        "    plt.xlabel('Epochs')\n",
        "    plt.legend()\n",
        "\n",
        "    plt.show()\n",
        "    return\n",
        "# plot_loss_curves(model_results)\n",
        "#plt.savefig('pytorch_weights_1-4_2foldCV.png')\n"
      ]
    },
    {
      "cell_type": "code",
      "execution_count": null,
      "metadata": {
        "id": "zXtyPW574Lsj",
        "outputId": "dafac20e-8909-4218-a27e-8545d386ca49"
      },
      "outputs": [
        {
          "data": {
            "text/plain": [
              "tensor([1.0613e-05, 7.0671e-04])"
            ]
          },
          "execution_count": 31,
          "metadata": {},
          "output_type": "execute_result"
        }
      ],
      "source": [
        "weight = torch.FloatTensor([1/total_duration_nonseizure, 1/total_duration_seizure])\n",
        "weight"
      ]
    },
    {
      "cell_type": "code",
      "execution_count": null,
      "metadata": {
        "id": "hQ-vXt4G4Lsj",
        "outputId": "8b1b7048-544e-414a-c65c-2f4b189113e4"
      },
      "outputs": [
        {
          "data": {
            "text/plain": [
              "7"
            ]
          },
          "execution_count": 25,
          "metadata": {},
          "output_type": "execute_result"
        }
      ],
      "source": [
        "len(np.unique(group))"
      ]
    },
    {
      "cell_type": "code",
      "execution_count": null,
      "metadata": {
        "id": "meg784nj4Lsj"
      },
      "outputs": [],
      "source": [
        "def get_mean_and_std(dataloader):\n",
        "    channels_sum, channels_squared_sum, num_batches = 0, 0, 0\n",
        "    total_elements = len(dataloader)*22*1024\n",
        "    for data, _ in dataloader:\n",
        "        # Mean over batch, height and width, but not over the channels\n",
        "        channels_sum += torch.mean(data) #dim=[0,2,3]\n",
        "        channels_squared_sum += torch.mean(data**2) #dim=[0,2,3]\n",
        "        # num_batches += 1\n",
        "    \n",
        "    mean = channels_sum / total_elements\n",
        "\n",
        "    # std = sqrt(E[X^2] - (E[X])^2)\n",
        "    std = (channels_squared_sum / total_elements - mean ** 2) ** 0.5\n",
        "\n",
        "    return mean, std"
      ]
    },
    {
      "cell_type": "code",
      "execution_count": null,
      "metadata": {
        "id": "F5rAeZvS4Lsk",
        "outputId": "c5a8c0c2-f063-4e1d-fb1c-be9e9c0f5172"
      },
      "outputs": [
        {
          "name": "stdout",
          "output_type": "stream",
          "text": [
            "Counter({0: 4427, 1: 73})\n"
          ]
        },
        {
          "data": {
            "text/plain": [
              "((4500, 22, 1024), (4500,))"
            ]
          },
          "execution_count": 75,
          "metadata": {},
          "output_type": "execute_result"
        }
      ],
      "source": [
        "import numpy as np\n",
        "X = np.load('window_4/patient_specific/1/features_train_chb01.npy')\n",
        "y = np.load('window_4/patient_specific/1/labels_train_chb01.npy')\n",
        "from collections import Counter\n",
        "counter = Counter(y)\n",
        "print(counter)\n",
        "X.shape,y.shape\n"
      ]
    },
    {
      "cell_type": "code",
      "execution_count": null,
      "metadata": {
        "id": "aw96reNW4Lsk",
        "outputId": "261d60f8-955b-457d-e56e-116c3fac9a2c"
      },
      "outputs": [
        {
          "name": "stdout",
          "output_type": "stream",
          "text": [
            "(4500, 22528)\n"
          ]
        }
      ],
      "source": [
        "X = np.reshape(X,(X.shape[0],1024*22))\n",
        "print(X.shape)\n",
        "# summarize class distribution\n",
        "# transform the dataset\n",
        "from imblearn.over_sampling import SMOTE, ADASYN\n",
        "#oversample = SMOTE()\n",
        "ada = SMOTE(random_state=42)#0.01\n",
        "X, y = ada.fit_resample(X, y)\n",
        "# summarize the new class distribution\n"
      ]
    },
    {
      "cell_type": "code",
      "execution_count": null,
      "metadata": {
        "id": "Aj2S-Hg24Lsk"
      },
      "outputs": [],
      "source": [
        "over = RandomOverSampler(sampling_strategy=0.02)    #0.1\n",
        "#under = RandomUnderSampler(sampling_strategy=0.01)  #0.5\n",
        "# define pipeline\n",
        "X_resampled1, y_resampled1 = under.fit_resample(x_filter_normalized_reshaped, labels)\n",
        "#X_resampled1, y_resampled1 = under.fit_resample(x_filter_normalized_reshaped, labels)\n",
        "from collections import Counter\n",
        "print(sorted(Counter(y_resampled1).items()), len(y_resampled1))"
      ]
    },
    {
      "cell_type": "code",
      "execution_count": null,
      "metadata": {
        "id": "-lN0_xgf4Lsk",
        "outputId": "fd1a8cf8-88e0-4fe7-a994-4d904ed88c31"
      },
      "outputs": [
        {
          "name": "stdout",
          "output_type": "stream",
          "text": [
            "Counter({0: 4427, 1: 4427})\n"
          ]
        }
      ],
      "source": [
        "counter = Counter(y)\n",
        "print(counter)"
      ]
    },
    {
      "cell_type": "code",
      "execution_count": null,
      "metadata": {
        "id": "HjtkXnJG4Lsl",
        "outputId": "b454b436-b892-48b8-b201-613188e85da3"
      },
      "outputs": [
        {
          "name": "stdout",
          "output_type": "stream",
          "text": [
            "features tensorshape  torch.Size([4500, 1, 22, 1024])\n"
          ]
        }
      ],
      "source": [
        "# X = X.reshape(X.shape[0],22,1024)\n",
        "# print(X.shape)\n",
        "feature_tensor = torch.Tensor(X)\n",
        "feature_tensor = feature_tensor.unsqueeze(dim = 1)\n",
        "print('features tensorshape ', feature_tensor.shape)\n",
        "label_tensor = torch.Tensor(y)\n",
        "\n",
        "dataset = utils.data.TensorDataset(feature_tensor, label_tensor)"
      ]
    },
    {
      "cell_type": "code",
      "execution_count": null,
      "metadata": {
        "id": "xFtEHeuM4Lsl",
        "outputId": "d0d482fb-53c6-41be-c9a6-c758f1e6fa94"
      },
      "outputs": [
        {
          "data": {
            "text/plain": [
              "(6640, 22528)"
            ]
          },
          "execution_count": 136,
          "metadata": {},
          "output_type": "execute_result"
        }
      ],
      "source": [
        "X.shape"
      ]
    },
    {
      "cell_type": "code",
      "execution_count": null,
      "metadata": {
        "id": "0F0NXKKt4Lsl",
        "outputId": "c1ce8561-2c34-4109-8b1e-b69a4a63f960"
      },
      "outputs": [
        {
          "data": {
            "text/plain": [
              "((6640,), 4500)"
            ]
          },
          "execution_count": 135,
          "metadata": {},
          "output_type": "execute_result"
        }
      ],
      "source": [
        "y.shape, len(group)"
      ]
    },
    {
      "cell_type": "code",
      "execution_count": null,
      "metadata": {
        "id": "TzRmPpMd4Lsm",
        "outputId": "9c358e9d-c0ea-4bb4-c973-7a6e2ba0a435"
      },
      "outputs": [
        {
          "name": "stdout",
          "output_type": "stream",
          "text": [
            "Fold 1\n",
            "Epoch: 1 | train_loss: 0.1592 | train_acc: 0.0000 | train_spec: 0.0000 train_snv: 0.0000 val_loss: 0.0834 | val_acc: 0.0000 |val_spec: 0.0000 |val_snv: 0.0000 |\n",
            "Epoch: 2 | train_loss: 0.0832 | train_acc: 0.0000 | train_spec: 0.0000 train_snv: 0.0000 val_loss: 0.0807 | val_acc: 0.0000 |val_spec: 0.0000 |val_snv: 0.0000 |\n",
            "Epoch: 3 | train_loss: 0.0829 | train_acc: 0.0000 | train_spec: 0.0000 train_snv: 0.0000 val_loss: 0.0932 | val_acc: 0.0000 |val_spec: 0.0000 |val_snv: 0.0000 |\n",
            "Epoch: 4 | train_loss: 0.0842 | train_acc: 0.0000 | train_spec: 0.0000 train_snv: 0.0000 val_loss: 0.0801 | val_acc: 0.0000 |val_spec: 0.0000 |val_snv: 0.0000 |\n",
            "Epoch: 5 | train_loss: 0.0859 | train_acc: 0.0000 | train_spec: 0.0000 train_snv: 0.0000 val_loss: 0.0808 | val_acc: 0.0000 |val_spec: 0.0000 |val_snv: 0.0000 |\n",
            "Epoch: 6 | train_loss: 0.0827 | train_acc: 0.0000 | train_spec: 0.0000 train_snv: 0.0000 val_loss: 0.0793 | val_acc: 0.0000 |val_spec: 0.0000 |val_snv: 0.0000 |\n",
            "Epoch: 7 | train_loss: 0.0830 | train_acc: 0.0000 | train_spec: 0.0000 train_snv: 0.0000 val_loss: 0.0876 | val_acc: 0.0000 |val_spec: 0.0000 |val_snv: 0.0000 |\n",
            "Epoch: 8 | train_loss: 0.0800 | train_acc: 0.0000 | train_spec: 0.0000 train_snv: 0.0000 val_loss: 0.0774 | val_acc: 0.0000 |val_spec: 0.0000 |val_snv: 0.0000 |\n",
            "Epoch: 9 | train_loss: 0.0801 | train_acc: 0.0000 | train_spec: 0.0000 train_snv: 0.0000 val_loss: 0.0752 | val_acc: 0.0000 |val_spec: 0.0000 |val_snv: 0.0000 |\n",
            "Epoch: 10 | train_loss: 0.0789 | train_acc: 0.0000 | train_spec: 0.0000 train_snv: 0.0000 val_loss: 0.0728 | val_acc: 0.0000 |val_spec: 0.0000 |val_snv: 0.0000 |\n",
            "Epoch: 11 | train_loss: 0.0734 | train_acc: 0.0000 | train_spec: 0.0000 train_snv: 0.0000 val_loss: 0.0680 | val_acc: 0.0000 |val_spec: 0.0000 |val_snv: 0.0000 |\n",
            "Epoch: 12 | train_loss: 0.0658 | train_acc: 0.0000 | train_spec: 0.0000 train_snv: 0.0000 val_loss: 0.0738 | val_acc: 0.0000 |val_spec: 0.0000 |val_snv: 0.0000 |\n",
            "Epoch: 13 | train_loss: 0.0565 | train_acc: 0.0000 | train_spec: 0.0000 train_snv: 0.0000 val_loss: 0.0451 | val_acc: 0.0000 |val_spec: 0.0000 |val_snv: 0.0000 |\n",
            "Epoch: 14 | train_loss: 0.0474 | train_acc: 0.0000 | train_spec: 0.0000 train_snv: 0.0000 val_loss: 0.0381 | val_acc: 0.0000 |val_spec: 0.0000 |val_snv: 0.0000 |\n",
            "Epoch: 15 | train_loss: 0.0473 | train_acc: 0.0000 | train_spec: 0.0000 train_snv: 0.0000 val_loss: 0.0436 | val_acc: 0.0000 |val_spec: 0.0000 |val_snv: 0.0000 |\n",
            "Epoch: 16 | train_loss: 0.0404 | train_acc: 0.0000 | train_spec: 0.0000 train_snv: 0.0000 val_loss: 0.0348 | val_acc: 0.0000 |val_spec: 0.0000 |val_snv: 0.0000 |\n",
            "Epoch: 17 | train_loss: 0.0396 | train_acc: 0.0000 | train_spec: 0.0000 train_snv: 0.0000 val_loss: 0.0495 | val_acc: 0.0000 |val_spec: 0.0000 |val_snv: 0.0000 |\n",
            "Epoch: 18 | train_loss: 0.0389 | train_acc: 0.0000 | train_spec: 0.0000 train_snv: 0.0000 val_loss: 0.0323 | val_acc: 0.0000 |val_spec: 0.0000 |val_snv: 0.0000 |\n",
            "Epoch: 19 | train_loss: 0.0350 | train_acc: 0.0000 | train_spec: 0.0000 train_snv: 0.0000 val_loss: 0.0324 | val_acc: 0.0000 |val_spec: 0.0000 |val_snv: 0.0000 |\n",
            "Epoch: 20 | train_loss: 0.0352 | train_acc: 0.0000 | train_spec: 0.0000 train_snv: 0.0000 val_loss: 0.0348 | val_acc: 0.0000 |val_spec: 0.0000 |val_snv: 0.0000 |\n"
          ]
        },
        {
          "data": {
            "image/png": "[encoded data removed]",
            "text/plain": [
              "<Figure size 1500x1000 with 4 Axes>"
            ]
          },
          "metadata": {},
          "output_type": "display_data"
        },
        {
          "name": "stdout",
          "output_type": "stream",
          "text": [
            "avg_train_loss_per_epoch: 0.0690 | avg_train_acc_per_epoch: 0.0000 | avg_train_spec_per_epoch: 0.0000 | avg_train_snv_per_epoch: 0.0000 |avg_val_loss_per_epoch: 0.0631 | avg_val_acc_per_epoch: 0.0000 |avg_val_spec_per_epoch: 0.0000 |avg_val_snv_per_epoch: 0.0000 |\n",
            "Total training time: 16.306 seconds\n",
            "Fold 2\n",
            "Epoch: 1 | train_loss: 0.1606 | train_acc: 0.0000 | train_spec: 0.0000 train_snv: 0.0000 val_loss: 0.0805 | val_acc: 0.0000 |val_spec: 0.0000 |val_snv: 0.0000 |\n",
            "Epoch: 2 | train_loss: 0.0821 | train_acc: 0.0000 | train_spec: 0.0000 train_snv: 0.0000 val_loss: 0.0757 | val_acc: 0.0000 |val_spec: 0.0000 |val_snv: 0.0000 |\n",
            "Epoch: 3 | train_loss: 0.0800 | train_acc: 0.0000 | train_spec: 0.0000 train_snv: 0.0000 val_loss: 0.0779 | val_acc: 0.0000 |val_spec: 0.0000 |val_snv: 0.0000 |\n",
            "Epoch: 4 | train_loss: 0.0812 | train_acc: 0.0000 | train_spec: 0.0000 train_snv: 0.0000 val_loss: 0.0841 | val_acc: 0.0000 |val_spec: 0.0000 |val_snv: 0.0000 |\n",
            "Epoch: 5 | train_loss: 0.0785 | train_acc: 0.0000 | train_spec: 0.0000 train_snv: 0.0000 val_loss: 0.0732 | val_acc: 0.0000 |val_spec: 0.0000 |val_snv: 0.0000 |\n",
            "Epoch: 6 | train_loss: 0.0758 | train_acc: 0.0000 | train_spec: 0.0000 train_snv: 0.0000 val_loss: 0.0733 | val_acc: 0.0000 |val_spec: 0.0000 |val_snv: 0.0000 |\n",
            "Epoch: 7 | train_loss: 0.0761 | train_acc: 0.0000 | train_spec: 0.0000 train_snv: 0.0000 val_loss: 0.0697 | val_acc: 0.0000 |val_spec: 0.0000 |val_snv: 0.0000 |\n",
            "Epoch: 8 | train_loss: 0.0753 | train_acc: 0.0000 | train_spec: 0.0000 train_snv: 0.0000 val_loss: 0.0683 | val_acc: 0.0000 |val_spec: 0.0000 |val_snv: 0.0000 |\n",
            "Epoch: 9 | train_loss: 0.0726 | train_acc: 0.0000 | train_spec: 0.0000 train_snv: 0.0000 val_loss: 0.0651 | val_acc: 0.0000 |val_spec: 0.0000 |val_snv: 0.0000 |\n",
            "Epoch: 10 | train_loss: 0.0672 | train_acc: 0.0000 | train_spec: 0.0000 train_snv: 0.0000 val_loss: 0.0598 | val_acc: 0.0000 |val_spec: 0.0000 |val_snv: 0.0000 |\n",
            "Epoch: 11 | train_loss: 0.0585 | train_acc: 0.0000 | train_spec: 0.0000 train_snv: 0.0000 val_loss: 0.0484 | val_acc: 0.0000 |val_spec: 0.0000 |val_snv: 0.0000 |\n",
            "Epoch: 12 | train_loss: 0.0488 | train_acc: 0.0000 | train_spec: 0.0000 train_snv: 0.0000 val_loss: 0.0424 | val_acc: 0.0000 |val_spec: 0.0000 |val_snv: 0.0000 |\n",
            "Epoch: 13 | train_loss: 0.0469 | train_acc: 0.0000 | train_spec: 0.0000 train_snv: 0.0000 val_loss: 0.0446 | val_acc: 0.0000 |val_spec: 0.0000 |val_snv: 0.0000 |\n",
            "Epoch: 14 | train_loss: 0.0448 | train_acc: 0.0000 | train_spec: 0.0000 train_snv: 0.0000 val_loss: 0.0405 | val_acc: 0.0000 |val_spec: 0.0000 |val_snv: 0.0000 |\n",
            "Epoch: 15 | train_loss: 0.0407 | train_acc: 0.0000 | train_spec: 0.0000 train_snv: 0.0000 val_loss: 0.0463 | val_acc: 0.0000 |val_spec: 0.0000 |val_snv: 0.0000 |\n",
            "Epoch: 16 | train_loss: 0.0378 | train_acc: 0.0000 | train_spec: 0.0000 train_snv: 0.0000 val_loss: 0.0395 | val_acc: 0.0000 |val_spec: 0.0000 |val_snv: 0.0000 |\n",
            "Epoch: 17 | train_loss: 0.0402 | train_acc: 0.0000 | train_spec: 0.0000 train_snv: 0.0000 val_loss: 0.0360 | val_acc: 0.0000 |val_spec: 0.0000 |val_snv: 0.0000 |\n",
            "Epoch: 18 | train_loss: 0.0364 | train_acc: 0.0000 | train_spec: 0.0000 train_snv: 0.0000 val_loss: 0.0438 | val_acc: 0.0000 |val_spec: 0.0000 |val_snv: 0.0000 |\n",
            "Epoch: 19 | train_loss: 0.0369 | train_acc: 0.0000 | train_spec: 0.0000 train_snv: 0.0000 val_loss: 0.0327 | val_acc: 0.0000 |val_spec: 0.0000 |val_snv: 0.0000 |\n",
            "Epoch: 20 | train_loss: 0.0310 | train_acc: 0.0000 | train_spec: 0.0000 train_snv: 0.0000 val_loss: 0.0302 | val_acc: 0.0000 |val_spec: 0.0000 |val_snv: 0.0000 |\n"
          ]
        },
        {
          "data": {
            "image/png": "[encoded data removed]",
            "text/plain": [
              "<Figure size 1500x1000 with 4 Axes>"
            ]
          },
          "metadata": {},
          "output_type": "display_data"
        },
        {
          "name": "stdout",
          "output_type": "stream",
          "text": [
            "avg_train_loss_per_epoch: 0.0636 | avg_train_acc_per_epoch: 0.0000 | avg_train_spec_per_epoch: 0.0000 | avg_train_snv_per_epoch: 0.0000 |avg_val_loss_per_epoch: 0.0566 | avg_val_acc_per_epoch: 0.0000 |avg_val_spec_per_epoch: 0.0000 |avg_val_snv_per_epoch: 0.0000 |\n",
            "Total training time: 15.741 seconds\n",
            "Fold 3\n",
            "Epoch: 1 | train_loss: 0.1522 | train_acc: 0.0000 | train_spec: 0.0000 train_snv: 0.0000 val_loss: 0.0817 | val_acc: 0.0000 |val_spec: 0.0000 |val_snv: 0.0000 |\n",
            "Epoch: 2 | train_loss: 0.0834 | train_acc: 0.0000 | train_spec: 0.0000 train_snv: 0.0000 val_loss: 0.0892 | val_acc: 0.0000 |val_spec: 0.0000 |val_snv: 0.0000 |\n",
            "Epoch: 3 | train_loss: 0.0833 | train_acc: 0.0000 | train_spec: 0.0000 train_snv: 0.0000 val_loss: 0.0823 | val_acc: 0.0000 |val_spec: 0.0000 |val_snv: 0.0000 |\n",
            "Epoch: 4 | train_loss: 0.0791 | train_acc: 0.0000 | train_spec: 0.0000 train_snv: 0.0000 val_loss: 0.0800 | val_acc: 0.0000 |val_spec: 0.0000 |val_snv: 0.0000 |\n",
            "Epoch: 5 | train_loss: 0.0837 | train_acc: 0.0000 | train_spec: 0.0000 train_snv: 0.0000 val_loss: 0.0821 | val_acc: 0.0000 |val_spec: 0.0000 |val_snv: 0.0000 |\n",
            "Epoch: 6 | train_loss: 0.0814 | train_acc: 0.0000 | train_spec: 0.0000 train_snv: 0.0000 val_loss: 0.0821 | val_acc: 0.0000 |val_spec: 0.0000 |val_snv: 0.0000 |\n",
            "Epoch: 7 | train_loss: 0.0802 | train_acc: 0.0000 | train_spec: 0.0000 train_snv: 0.0000 val_loss: 0.0782 | val_acc: 0.0000 |val_spec: 0.0000 |val_snv: 0.0000 |\n",
            "Epoch: 8 | train_loss: 0.0816 | train_acc: 0.0000 | train_spec: 0.0000 train_snv: 0.0000 val_loss: 0.0772 | val_acc: 0.0000 |val_spec: 0.0000 |val_snv: 0.0000 |\n",
            "Epoch: 9 | train_loss: 0.0798 | train_acc: 0.0000 | train_spec: 0.0000 train_snv: 0.0000 val_loss: 0.0783 | val_acc: 0.0000 |val_spec: 0.0000 |val_snv: 0.0000 |\n",
            "Epoch: 10 | train_loss: 0.0737 | train_acc: 0.0000 | train_spec: 0.0000 train_snv: 0.0000 val_loss: 0.0731 | val_acc: 0.0000 |val_spec: 0.0000 |val_snv: 0.0000 |\n",
            "Epoch: 11 | train_loss: 0.0759 | train_acc: 0.0000 | train_spec: 0.0000 train_snv: 0.0000 val_loss: 0.0845 | val_acc: 0.0000 |val_spec: 0.0000 |val_snv: 0.0000 |\n",
            "Epoch: 12 | train_loss: 0.0694 | train_acc: 0.0000 | train_spec: 0.0000 train_snv: 0.0000 val_loss: 0.0610 | val_acc: 0.0000 |val_spec: 0.0000 |val_snv: 0.0000 |\n",
            "Epoch: 13 | train_loss: 0.0532 | train_acc: 0.0000 | train_spec: 0.0000 train_snv: 0.0000 val_loss: 0.0578 | val_acc: 0.0000 |val_spec: 0.0000 |val_snv: 0.0000 |\n",
            "Epoch: 14 | train_loss: 0.0378 | train_acc: 0.0000 | train_spec: 0.0000 train_snv: 0.0000 val_loss: 0.0447 | val_acc: 0.0000 |val_spec: 0.0000 |val_snv: 0.0000 |\n",
            "Epoch: 15 | train_loss: 0.0332 | train_acc: 0.0000 | train_spec: 0.0000 train_snv: 0.0000 val_loss: 0.0460 | val_acc: 0.0000 |val_spec: 0.0000 |val_snv: 0.0000 |\n",
            "Epoch: 16 | train_loss: 0.0352 | train_acc: 0.0000 | train_spec: 0.0000 train_snv: 0.0000 val_loss: 0.0464 | val_acc: 0.0000 |val_spec: 0.0000 |val_snv: 0.0000 |\n",
            "Epoch: 17 | train_loss: 0.0288 | train_acc: 0.0000 | train_spec: 0.0000 train_snv: 0.0000 val_loss: 0.0449 | val_acc: 0.0000 |val_spec: 0.0000 |val_snv: 0.0000 |\n",
            "Epoch: 18 | train_loss: 0.0265 | train_acc: 0.0000 | train_spec: 0.0000 train_snv: 0.0000 val_loss: 0.0405 | val_acc: 0.0000 |val_spec: 0.0000 |val_snv: 0.0000 |\n",
            "Epoch: 19 | train_loss: 0.0288 | train_acc: 0.0000 | train_spec: 0.0000 train_snv: 0.0000 val_loss: 0.0445 | val_acc: 0.0000 |val_spec: 0.0000 |val_snv: 0.0000 |\n",
            "Epoch: 20 | train_loss: 0.0269 | train_acc: 0.0000 | train_spec: 0.0000 train_snv: 0.0000 val_loss: 0.0513 | val_acc: 0.0000 |val_spec: 0.0000 |val_snv: 0.0000 |\n"
          ]
        },
        {
          "data": {
            "image/png": "[encoded data removed]",
            "text/plain": [
              "<Figure size 1500x1000 with 4 Axes>"
            ]
          },
          "metadata": {},
          "output_type": "display_data"
        },
        {
          "name": "stdout",
          "output_type": "stream",
          "text": [
            "avg_train_loss_per_epoch: 0.0647 | avg_train_acc_per_epoch: 0.0000 | avg_train_spec_per_epoch: 0.0000 | avg_train_snv_per_epoch: 0.0000 |avg_val_loss_per_epoch: 0.0663 | avg_val_acc_per_epoch: 0.0000 |avg_val_spec_per_epoch: 0.0000 |avg_val_snv_per_epoch: 0.0000 |\n",
            "Total training time: 15.902 seconds\n",
            "avg_train_loss: 0.0658 | avg_train_acc: 0.0000 | avg_train_spec: 0.0000 | avg_train_snv: 0.0000 |avg_val_loss: 0.0620 | avg_val_acc: 0.0000 |avg_val_spec: 0.0000 |avg_val_snv: 0.0000 |\n"
          ]
        }
      ],
      "source": [
        "from sklearn.model_selection import KFold, StratifiedKFold, RepeatedStratifiedKFold, StratifiedGroupKFold\n",
        "from torch.utils.data import Dataset, DataLoader,TensorDataset,random_split,SubsetRandomSampler, ConcatDataset, Subset\n",
        "import torch.nn as nn \n",
        "k= 3   #len(np.unique(group))\n",
        "window_size = 4\n",
        "# splits=KFold(n_splits=k,shuffle=True,random_state=42)\n",
        "splits=StratifiedKFold(n_splits=k,shuffle=True, random_state=42)\n",
        "batch_size = 32\n",
        "NUM_EPOCHS = 20\n",
        "avg_train_loss_all_folds = []\n",
        "avg_train_acc_all_folds = []\n",
        "avg_train_spec_all_folds = []\n",
        "avg_train_snv_all_folds = []\n",
        "avg_val_loss_all_folds = []\n",
        "avg_val_acc_all_folds = []\n",
        "avg_val_spec_all_folds = []\n",
        "avg_val_snv_all_folds = []\n",
        "foldperf={}\n",
        "result_for_weight_list = []\n",
        "y_true_all_folds = []\n",
        "y_pred_all_folds = []\n",
        "k_fold_snv = []   # every fold gives an  averahe of all the epochs and avg of that will be the final value #########\n",
        "#weight_list = [[1.0000, 95290/346], [0.5018, 138.2023], [1/95290, 1/346]]\n",
        "\n",
        "for fold, (train_idx,val_idx) in enumerate(splits.split(X , y)):   #enumerate(splits.split(feature_tensor, label_tensor))  :  (splits.split(np.arange(len(dataset)))\n",
        "    #print(len(train_idx), len(val_idx))\n",
        "    print('Fold {}'.format(fold + 1))\n",
        "    my_subset = Subset(dataset, train_idx)\n",
        "    # validation_dataset = X[val_idx], y[val_idx]\n",
        "    #print(len(dataset), len(my_subset))\n",
        "    train_dataloader = DataLoader(my_subset, batch_size=batch_size, shuffle = True )\n",
        "    train_mean, train_std = get_mean_and_std(train_dataloader)\n",
        "    \n",
        "\n",
        "    # val_dataloader = DataLoader(validation_dataset, batch_size=batch_size,  shuffle= True)\n",
        "    #print(len(train_dataloader))#,len(val_dataloader))\n",
        "    my_subset_val = Subset(dataset, val_idx)\n",
        "\n",
        "    val_dataloader = DataLoader(my_subset_val, batch_size=batch_size, shuffle = True )\n",
        "    # for i in range(len(train_dataloader)):\n",
        "    \n",
        "    # for i in range(len(train_dataloader)):\n",
        "    #     _,y = next(iter(train_dataloader))\n",
        "    #     if y.any() == 1:\n",
        "    #         for l in range(len(y)):\n",
        "    #             if l == 1:\n",
        "    #                 c1+=1\n",
        "    #             else:\n",
        "    #                 c0+=1\n",
        "    #     else:\n",
        "    #         for l in range(len(y)):\n",
        "    #             c0+=1\n",
        "  \n",
        "    # print('Ratio of 0 class count to 1 in training set in this epoch:', c0/c1)\n",
        "    # for i in range(len(val_dataloader)):\n",
        "    #     _,y = next(iter(val_dataloader))\n",
        "    #     if y.any() == 1:\n",
        "    #         for l in range(len(y)):\n",
        "    #             if l == 1:\n",
        "    #                 c1_val+=1\n",
        "    #             else:\n",
        "    #                 c0_val+=1\n",
        "    #     else:\n",
        "    #         for l in range(len(y)):\n",
        "    #             c0_val+=1\n",
        "    # print('Ratio of 0 class count to 1 in validation set in this epoch:', c0_val/c1_val)\n",
        "    \n",
        "    model_3 = CNN().to(device)\n",
        "\n",
        "    weight = torch.FloatTensor([0.5082, 30.8219])    #1.0000, 47818/346])  1.0000, 216944/754    1.0000, 47818/346   1/47472, 1/346weight=torch.FloatTensor([ 0.7500, 1.5000])\n",
        "\n",
        "    weight = weight.to(device)\n",
        "    # Setup loss function and optimizer\n",
        "    #loss_fn = nn.BCELoss(weight = weight)\n",
        "    loss_fn = nn.CrossEntropyLoss()#weight = weight\n",
        "    optimizer = torch.optim.Adam(params=model_3.parameters(), lr=1e-3) ########FROM 0.001 TO 0.01 DUE TO NAN LOSS VANISHING GRADIENTS#####, weight_decay=0.1)\n",
        "    #, betas=(0.9, 0.999))\n",
        "\n",
        "    # Start the timer\n",
        "    from timeit import default_timer as timer \n",
        "    start_time = timer()\n",
        "\n",
        "\n",
        "    # Train model_0 \n",
        "    model_results = train(train_mean, train_std, model=model_3, \n",
        "                        train_dataloader=train_dataloader,\n",
        "                        val_dataloader=val_dataloader,\n",
        "                        optimizer=optimizer, \n",
        "                        loss_fn=loss_fn, \n",
        "                        epochs=NUM_EPOCHS)\n",
        "    # for i in y_pred:\n",
        "    #     print(type(i))\n",
        "    # y_true_all_folds.append(y_true)\n",
        "    # y_pred_all_folds.append(y_pred)\n",
        "    plot_loss_curves(model_results)\n",
        "    \n",
        "    avg_train_loss_per_fold = np.mean(model_results[\"train_loss\"])\n",
        "    avg_train_acc_per_fold = np.mean(model_results[\"train_acc\"])\n",
        "    avg_train_spec_per_fold = np.mean(model_results[\"train_spec\"])\n",
        "    avg_train_snv_per_fold = np.mean(model_results[\"train_snv\"])\n",
        "    avg_val_loss_per_fold = np.mean(model_results[\"val_loss\"])\n",
        "    avg_val_acc_per_fold = np.mean(model_results[\"val_acc\"])\n",
        "    avg_val_spec_per_fold = np.mean(model_results[\"val_spec\"])\n",
        "    avg_val_snv_per_fold = np.mean(model_results[\"val_snv\"])\n",
        "    \n",
        "    print(\n",
        "            f\"avg_train_loss_per_epoch: {avg_train_loss_per_fold:.4f} | \"\n",
        "            f\"avg_train_acc_per_epoch: {avg_train_acc_per_fold:.4f} | \"\n",
        "            f\"avg_train_spec_per_epoch: {avg_train_spec_per_fold:.4f} | \"\n",
        "            f\"avg_train_snv_per_epoch: {avg_train_snv_per_fold:.4f} |\"\n",
        "            f\"avg_val_loss_per_epoch: {avg_val_loss_per_fold:.4f} | \"\n",
        "            f\"avg_val_acc_per_epoch: {avg_val_acc_per_fold:.4f} |\"\n",
        "            f\"avg_val_spec_per_epoch: {avg_val_spec_per_fold:.4f} |\"\n",
        "            f\"avg_val_snv_per_epoch: {avg_val_snv_per_fold:.4f} |\"\n",
        "        )\n",
        "\n",
        "\n",
        "    \n",
        "\n",
        "    # print(cv_results.mean(), cv_results.std())\n",
        "# End the timer and print out how long it took\n",
        "    end_time = timer()\n",
        "    print(f\"Total training time: {end_time-start_time:.3f} seconds\")\n",
        "\n",
        "    foldperf['fold{}'.format(fold+1)] =  avg_train_loss_per_fold, avg_train_acc_per_fold,avg_train_spec_per_fold,avg_train_snv_per_fold,avg_val_loss_per_fold,avg_val_acc_per_fold, avg_val_spec_per_fold,avg_val_snv_per_fold\n",
        "    \n",
        "    avg_train_loss_all_folds.append(avg_train_loss_per_fold)\n",
        "    avg_train_acc_all_folds.append(avg_train_acc_per_fold)\n",
        "    avg_train_spec_all_folds.append(avg_train_spec_per_fold)\n",
        "    avg_train_snv_all_folds.append(avg_train_snv_per_fold)\n",
        "    avg_val_loss_all_folds.append(avg_val_loss_per_fold)\n",
        "    avg_val_acc_all_folds.append(avg_val_acc_per_fold)\n",
        "    avg_val_spec_all_folds.append(avg_val_spec_per_fold)\n",
        "    avg_val_snv_all_folds.append(avg_val_snv_per_fold)\n",
        "    \n",
        "    #model_3.reset_parameters()\n",
        "    \n",
        "    #result_for_weight_list.append([foldperf])\n",
        "# y_true_df = pd.DataFrame(y_true_all_folds) \n",
        "# y_pred_df = pd.DataFrame(y_pred_all_folds)\n",
        "# y_true_df.to_csv('y_true.csv')\n",
        "# y_pred_df.to_csv('y_pred.csv') \n",
        "print(\n",
        "    f\"avg_train_loss: {np.mean(avg_train_loss_all_folds):.4f} | \"\n",
        "    f\"avg_train_acc: {np.mean(avg_train_acc_all_folds):.4f} | \"\n",
        "    f\"avg_train_spec: {np.mean(avg_train_spec_all_folds):.4f} | \"\n",
        "    f\"avg_train_snv: {np.mean(avg_train_snv_all_folds):.4f} |\"\n",
        "    f\"avg_val_loss: {np.mean(avg_val_loss_all_folds):.4f} | \"\n",
        "    f\"avg_val_acc: {np.mean(avg_val_acc_all_folds):.4f} |\"\n",
        "    f\"avg_val_spec: {np.mean(avg_val_spec_all_folds):.4f} |\"\n",
        "    f\"avg_val_snv: {np.mean(avg_val_snv_all_folds):.4f} |\"\n",
        ")\n",
        "\n",
        "torch.save(model_3,'5fold_2DCNN_filtered_50hz_normalized_infoldlr-3_nosampler_0-1_nogroup_pat1_9knetwork_class_weights.pt') \n",
        "# torch.save({\n",
        "#             'model_state_dict': model_3.state_dict(),\n",
        "#             'optimizer_state_dict': optimizer.state_dict(),\n",
        "#             #'loss': LOSS,\n",
        "#             }, '3fold_2DCNN_filtered_up0.1down0.3_classweights_lr-2.pt')   \n"
      ]
    },
    {
      "cell_type": "code",
      "execution_count": null,
      "metadata": {
        "id": "gDPRe8_D4Lsn",
        "outputId": "37ee5071-da41-4e08-e388-2c662594110c"
      },
      "outputs": [
        {
          "data": {
            "text/plain": [
              "(tensor(-4.0579e-07), tensor(0.2315))"
            ]
          },
          "execution_count": 60,
          "metadata": {},
          "output_type": "execute_result"
        }
      ],
      "source": [
        "train_mean,train_std"
      ]
    },
    {
      "cell_type": "code",
      "execution_count": null,
      "metadata": {
        "id": "_zDVmiZM4Lsn"
      },
      "outputs": [],
      "source": [
        "test_dataloader = DataLoader(dataset=test_dataset, # use custom created test Dataset\n",
        "                                    #sampler = sampler,\n",
        "                                    batch_size=32, \n",
        "                                    num_workers=4, \n",
        "                                    shuffle=False)\n",
        "\n",
        "test_loss, test_acc, test_spec = val_step(model=model,\n",
        "            dataloader=test_dataloader,\n",
        "            loss_fn=loss_fn)\n",
        "        \n",
        "        # 4. Print out what's happening\n",
        "print(\n",
        "      f\"test_loss: {test_loss:.4f} | \"\n",
        "      f\"test_acc: {test_acc:.4f} | \"\n",
        "      f\"test_spec: {test_spec:.4f} \")"
      ]
    },
    {
      "cell_type": "code",
      "execution_count": null,
      "metadata": {
        "id": "aSeAXARD4Lso"
      },
      "outputs": [],
      "source": [
        "from sklearn.metrics import confusion_matrix, accuracy_score, f1_score\n",
        "\n",
        "'''\n",
        "TP : the number of segments that are correctly identified as ictal (x_true == x_pred == 1)\n",
        "TN : the number of EEG segments that are correctly classified as non-ictal (x_true == x_pred == 0)\n",
        "FP : the number of EEG segments that are incorrectly classified as ictal (x_true == 0 && x_pred == 1)\n",
        "FN : the segments that are incorrectly classified as non-ictal (x_true == 1 && x_pred == 0)\n",
        "'''\n",
        "def classificationPerformanceIndexes (true_arr, pred_arr):\n",
        "    (tn, fp, fn, tp) = confusion_matrix(true_arr, pred_arr, labels=[0, 1]).ravel()\n",
        "    acc = accuracy_score(true_arr, pred_arr)                           # Accuracy\n",
        "    snv = tp/(tp + fn)                                                 # Sensitivity or True Positive Rate (TPR)\n",
        "    spc = tn/(tn + fp)                                                 # Specificity or True Negative Rate (TNR)\n",
        "    ppv = tp/(tp + fp)                                                 # Precision or Positive Predictive Value (PPV)\n",
        "    f1 = f1_score(true_arr, pred_arr)                                  # F1 score\n",
        "    #mcc = matthews_corrcoef(true_arr, pred_arr)                        # Matthews Correlation Coefficient\n",
        "    #kappa = cohen_kappa_score(true_arr, pred_arr)                      # Cohen’s Kappa    \n",
        "    return acc, snv, spc, ppv, f1"
      ]
    },
    {
      "cell_type": "code",
      "execution_count": null,
      "metadata": {
        "id": "EzmVbvva4Lso"
      },
      "outputs": [],
      "source": [
        "def printClassificationPerformanceIndexes(acc, snv, spc, ppv, f1):\n",
        "    #print('Method:', method)\n",
        "    print('Accuracy:', acc)\n",
        "    print('Sensitivity/Recall:', snv)\n",
        "    print('Specificity:', spc)\n",
        "    print('Precision:', ppv)\n",
        "    print('F1 Score:', f1)\n",
        "    #print('Matthews Correlation Coefficient:', mcc)\n",
        "    #print('Cohen’s Kappa:', kappa)"
      ]
    },
    {
      "cell_type": "code",
      "execution_count": null,
      "metadata": {
        "id": "kSbIWXek4Lso",
        "outputId": "bf907c4d-cbcd-48f7-87f7-03baa9e37381"
      },
      "outputs": [
        {
          "name": "stdout",
          "output_type": "stream",
          "text": [
            "Accuracy: 1.0\n",
            "Sensitivity/Recall: 1.0\n",
            "Specificity: 1.0\n",
            "Precision: nan\n",
            "F1 Score: 0.0\n"
          ]
        }
      ],
      "source": [
        "a= [0, 0, 0,0]\n",
        "b = [0,0,0,0]\n",
        "acc, snv, spc, ppv, f1 = classificationPerformanceIndexes(a, b)\n",
        "printClassificationPerformanceIndexes(acc, snv, spc, ppv, f1)"
      ]
    },
    {
      "cell_type": "code",
      "execution_count": null,
      "metadata": {
        "id": "9IWO7iKt4Lso",
        "outputId": "a9162d60-bc1f-495f-8112-185ff8fc2a92"
      },
      "outputs": [
        {
          "data": {
            "image/png": "[encoded data removed]",
            "text/plain": [
              "<Figure size 1500x700 with 2 Axes>"
            ]
          },
          "metadata": {},
          "output_type": "display_data"
        }
      ],
      "source": [
        "def plot_loss_curves(results):\n",
        "  #: Dict[str, List[float]]\n",
        "    \"\"\"Plots training curves of a results dictionary.\n",
        "\n",
        "    Args:\n",
        "        results (dict): dictionary containing list of values, e.g.\n",
        "            {\"train_loss\": [...],\n",
        "             \"train_acc\": [...],\n",
        "             \"test_loss\": [...],\n",
        "             \"test_acc\": [...]}\n",
        "    \"\"\"\n",
        "    \n",
        "    # Get the loss values of the results dictionary (training and test)\n",
        "    losses = results['train_loss']\n",
        "    losses_array= [loss for loss in losses]\n",
        "    #loss.detach().numpy()\n",
        "    #print(losses)\n",
        "    val_losses = results['val_loss']\n",
        "    #val_losses_array= [loss.detach().numpy() for loss in val_losses]\n",
        "    val_losses_array= [loss for loss in val_losses]\n",
        "\n",
        "    # Get the accuracy values of the results dictionary (training and test)\n",
        "    accuracy = results['train_acc']\n",
        "    #print(accuracy)\n",
        "    val_accuracy = results['val_acc']\n",
        "\n",
        "    # Get the specificity of the results dictionary (training and test)\n",
        "    #specificity = results['train_spec']\n",
        "    #specificity_array= [spec.cpu().numpy() for spec in specificity]\n",
        "    #print(specificity_array)\n",
        "    val_specificity = results['val_spec']\n",
        "    val_specificity_array = [spec for spec in val_specificity]\n",
        "    #val_specificity_array = [spec for spec in val_specificity]\n",
        "\n",
        "    # Figure out how many epochs there were\n",
        "    epochs = range(len(results['train_loss']))\n",
        "    #print(type(epochs))\n",
        "    # Setup a plot \n",
        "    plt.figure(figsize=(15, 7))\n",
        "\n",
        "    # Plot loss\n",
        "    plt.subplot(1, 3, 1)\n",
        "    plt.plot(epochs, losses_array, label='train_loss')\n",
        "    plt.plot(epochs, val_losses_array, label='val_loss')\n",
        "    plt.title('Loss')\n",
        "    plt.xlabel('Epochs')\n",
        "    plt.legend()\n",
        "\n",
        "    # Plot accuracy\n",
        "    plt.subplot(1, 3, 2)\n",
        "    plt.plot(epochs, accuracy, label='train_accuracy')\n",
        "    plt.plot(epochs, val_accuracy, label='val_accuracy')\n",
        "    plt.title('Accuracy')\n",
        "    plt.xlabel('Epochs')\n",
        "    plt.legend()\n",
        "\n",
        "    # Plot specificity\n",
        "    # plt.subplot(1, 3, 3)\n",
        "    # plt.plot(epochs, specificity_array, label='train_specificity')\n",
        "    # plt.plot(epochs, val_specificity_array, label='val_specificity')\n",
        "    # plt.title('Specificity')\n",
        "    # plt.xlabel('Epochs')\n",
        "    # plt.legend()\n",
        "\n",
        "plot_loss_curves(model_results)\n",
        "plt.savefig('model_results_with_class_weights_1_2_3_4_5fold.png')\n"
      ]
    },
    {
      "cell_type": "code",
      "execution_count": null,
      "metadata": {
        "id": "jw04PIpC4Lsp"
      },
      "outputs": [],
      "source": [
        "# Set random seeds\n",
        "torch.manual_seed(42) \n",
        "torch.cuda.manual_seed(42)\n",
        "\n",
        "\n",
        "# Set number of epochs\n",
        "NUM_EPOCHS = 20\n",
        "\n",
        "# Recreate an instance of TinyVGG\n",
        "model = CNN(1024).to(device)\n",
        "weight = torch.FloatTensor([1.0,23.0])\n",
        "#weight = weight.type(torch.LongTensor)\n",
        "weight = weight.to(device)\n",
        "# Setup loss function and optimizer\n",
        "#loss_fn = nn.BCELoss(weight = weight)\n",
        "loss_fn = nn.CrossEntropyLoss(weight = weight)\n",
        "optimizer = torch.optim.Adam(params=model.parameters(), lr=0.001)\n",
        "#, betas=(0.9, 0.999))\n",
        "\n",
        "# Start the timer\n",
        "from timeit import default_timer as timer \n",
        "start_time = timer()\n",
        "\n",
        "# Train model_0 \n",
        "model_results = train(model=model, \n",
        "                        train_dataloader=train_dataloader,\n",
        "                        val_dataloader=val_dataloader,\n",
        "                        optimizer=optimizer,\n",
        "                        loss_fn=loss_fn, \n",
        "                        epochs=NUM_EPOCHS)\n",
        "\n",
        "# End the timer and print out how long it took\n",
        "end_time = timer()\n",
        "print(f\"Total training time: {end_time-start_time:.3f} seconds\")"
      ]
    },
    {
      "cell_type": "code",
      "execution_count": null,
      "metadata": {
        "id": "9eHMRpSi4Lsq",
        "outputId": "7985dfd3-cf37-485d-bd1c-68796a1513d9"
      },
      "outputs": [
        {
          "data": {
            "text/plain": [
              "((1481, 22, 1024), (1481,))"
            ]
          },
          "execution_count": 69,
          "metadata": {},
          "output_type": "execute_result"
        }
      ],
      "source": [
        "inputs.shape,labels_test.shape"
      ]
    },
    {
      "cell_type": "code",
      "execution_count": null,
      "metadata": {
        "id": "KzXA06LF4Lsq",
        "outputId": "e9d0e4f5-a46b-40fa-96e7-375a304c29e3"
      },
      "outputs": [
        {
          "name": "stderr",
          "output_type": "stream",
          "text": [
            "c:\\Users\\TAACHUP2\\Miniconda3\\lib\\site-packages\\tqdm\\auto.py:22: TqdmWarning: IProgress not found. Please update jupyter and ipywidgets. See https://ipywidgets.readthedocs.io/en/stable/user_install.html\n",
            "  from .autonotebook import tqdm as notebook_tqdm\n"
          ]
        },
        {
          "ename": "AttributeError",
          "evalue": "Can't get attribute 'CNN' on <module '__main__'>",
          "output_type": "error",
          "traceback": [
            "\u001b[1;31m---------------------------------------------------------------------------\u001b[0m",
            "\u001b[1;31mAttributeError\u001b[0m                            Traceback (most recent call last)",
            "Cell \u001b[1;32mIn [2], line 2\u001b[0m\n\u001b[0;32m      1\u001b[0m \u001b[39mimport\u001b[39;00m \u001b[39mtorch\u001b[39;00m\n\u001b[1;32m----> 2\u001b[0m model_1 \u001b[39m=\u001b[39m torch\u001b[39m.\u001b[39;49mload(\u001b[39m'\u001b[39;49m\u001b[39m5fold_2DCNN_filtered_50hz_normalized_infoldlr-3_nosampler_0-1_nogroup_pat1_9knetwork_class_weights.pt\u001b[39;49m\u001b[39m'\u001b[39;49m)\n\u001b[0;32m      3\u001b[0m model_1\u001b[39m.\u001b[39meval()\n\u001b[0;32m      4\u001b[0m inputs \u001b[39m=\u001b[39m np\u001b[39m.\u001b[39mload(\u001b[39m'\u001b[39m\u001b[39mwindow_4/patient_specific/1/features_test_chb01.npy\u001b[39m\u001b[39m'\u001b[39m)\n",
            "File \u001b[1;32mc:\\Users\\TAACHUP2\\Miniconda3\\lib\\site-packages\\torch\\serialization.py:789\u001b[0m, in \u001b[0;36mload\u001b[1;34m(f, map_location, pickle_module, weights_only, **pickle_load_args)\u001b[0m\n\u001b[0;32m    787\u001b[0m             \u001b[39mexcept\u001b[39;00m \u001b[39mRuntimeError\u001b[39;00m \u001b[39mas\u001b[39;00m e:\n\u001b[0;32m    788\u001b[0m                 \u001b[39mraise\u001b[39;00m pickle\u001b[39m.\u001b[39mUnpicklingError(UNSAFE_MESSAGE \u001b[39m+\u001b[39m \u001b[39mstr\u001b[39m(e)) \u001b[39mfrom\u001b[39;00m \u001b[39mNone\u001b[39m\n\u001b[1;32m--> 789\u001b[0m         \u001b[39mreturn\u001b[39;00m _load(opened_zipfile, map_location, pickle_module, \u001b[39m*\u001b[39m\u001b[39m*\u001b[39mpickle_load_args)\n\u001b[0;32m    790\u001b[0m \u001b[39mif\u001b[39;00m weights_only:\n\u001b[0;32m    791\u001b[0m     \u001b[39mtry\u001b[39;00m:\n",
            "File \u001b[1;32mc:\\Users\\TAACHUP2\\Miniconda3\\lib\\site-packages\\torch\\serialization.py:1131\u001b[0m, in \u001b[0;36m_load\u001b[1;34m(zip_file, map_location, pickle_module, pickle_file, **pickle_load_args)\u001b[0m\n\u001b[0;32m   1129\u001b[0m unpickler \u001b[39m=\u001b[39m UnpicklerWrapper(data_file, \u001b[39m*\u001b[39m\u001b[39m*\u001b[39mpickle_load_args)\n\u001b[0;32m   1130\u001b[0m unpickler\u001b[39m.\u001b[39mpersistent_load \u001b[39m=\u001b[39m persistent_load\n\u001b[1;32m-> 1131\u001b[0m result \u001b[39m=\u001b[39m unpickler\u001b[39m.\u001b[39;49mload()\n\u001b[0;32m   1133\u001b[0m torch\u001b[39m.\u001b[39m_utils\u001b[39m.\u001b[39m_validate_loaded_sparse_tensors()\n\u001b[0;32m   1135\u001b[0m \u001b[39mreturn\u001b[39;00m result\n",
            "File \u001b[1;32mc:\\Users\\TAACHUP2\\Miniconda3\\lib\\site-packages\\torch\\serialization.py:1124\u001b[0m, in \u001b[0;36m_load.<locals>.UnpicklerWrapper.find_class\u001b[1;34m(self, mod_name, name)\u001b[0m\n\u001b[0;32m   1122\u001b[0m         \u001b[39mpass\u001b[39;00m\n\u001b[0;32m   1123\u001b[0m mod_name \u001b[39m=\u001b[39m load_module_mapping\u001b[39m.\u001b[39mget(mod_name, mod_name)\n\u001b[1;32m-> 1124\u001b[0m \u001b[39mreturn\u001b[39;00m \u001b[39msuper\u001b[39;49m()\u001b[39m.\u001b[39;49mfind_class(mod_name, name)\n",
            "\u001b[1;31mAttributeError\u001b[0m: Can't get attribute 'CNN' on <module '__main__'>"
          ]
        }
      ],
      "source": [
        "import torch\n",
        "model_1 = torch.load('5fold_2DCNN_filtered_50hz_normalized_infoldlr-3_nosampler_0-1_nogroup_pat1_9knetwork_class_weights.pt')\n",
        "model_1.eval()\n",
        "inputs = np.load('window_4/patient_specific/1/features_test_chb01.npy')\n",
        "print(inputs.shape)\n",
        "labels_test = np.load('window_4/patient_specific/1/labels_test_chb01.npy')\n",
        "for i in range(len(labels_test)):\n",
        "    if labels_test[i] == 1:\n",
        "        print(labels_test[i])\n",
        "\n",
        "feature_tensor_test = torch.Tensor(inputs)\n",
        "feature_tensor_test = feature_tensor_test.unsqueeze(dim = 1)\n",
        "print('features tensorshape ', feature_tensor_test.shape)\n",
        "label_tensor_test = torch.Tensor(labels_test)\n",
        "y_predictions = []\n",
        "test_dataset = torch.utils.data.TensorDataset(feature_tensor_test, label_tensor_test)\n",
        "test_dataloader = DataLoader(test_dataset, batch_size=32)\n",
        "for batch, (X_test, y_test) in enumerate(test_dataloader):\n",
        "            X_test = X_test.to(device)\n",
        "            transform = T.Normalize(mean=(train_mean), std=(train_std))\n",
        "            X_test = transform(X_test)\n",
        "            X_test = torch.clamp(X_test, min=0,max=1)\n",
        "            y_logits_test = model_1(X_test)\n",
        "            #print('y_val shape',y_val.shape)\n",
        "            #print('y_val_logits shape', y_logits_val.shape)\n",
        "            #y_prob_test = torch.softmax(y_logits_test, dim=1)\n",
        "            y_pred_test = torch.argmax(torch.softmax(y_logits_test, dim=1), dim=1)\n",
        "            y_predictions.append(y_pred_test.cpu().tolist())\n",
        "for j in range(len(y_predictions)):\n",
        "    if np.any(y_predictions[j]) == 1:\n",
        "        print(y_predictions[j])"
      ]
    },
    {
      "cell_type": "code",
      "execution_count": null,
      "metadata": {
        "id": "DuNI-GuA4Lsq"
      },
      "outputs": [],
      "source": [
        "def flatten(l):\n",
        "    return [item for sublist in l for item in sublist]"
      ]
    },
    {
      "cell_type": "code",
      "execution_count": null,
      "metadata": {
        "id": "tOCsL2Xv4Lsr",
        "outputId": "4b8e584c-ac5d-4f0b-c310-d64512b1813b"
      },
      "outputs": [
        {
          "data": {
            "text/plain": [
              "[Text(0.5, 0, 'Predicted'), Text(0, 0.5, 'True')]"
            ]
          },
          "execution_count": 29,
          "metadata": {},
          "output_type": "execute_result"
        },
        {
          "data": {
            "image/png": "[encoded data removed]",
            "text/plain": [
              "<Figure size 640x480 with 2 Axes>"
            ]
          },
          "metadata": {},
          "output_type": "display_data"
        },
        {
          "data": {
            "image/png": "[encoded data removed]",
            "text/plain": [
              "<Figure size 640x480 with 2 Axes>"
            ]
          },
          "metadata": {},
          "output_type": "display_data"
        }
      ],
      "source": [
        "from sklearn.metrics import confusion_matrix, ConfusionMatrixDisplay\n",
        "#cm = confusion_matrix(labels_test, flatten(y_predictions))    #, normalize='all'cm, display_labels=['non-seizure','seizure']\n",
        "cmd = ConfusionMatrixDisplay.from_predictions(labels_test, flatten(y_predictions), display_labels=['non-seizure','seizure'], cmap = 'BuGn')\n",
        "cmd.plot()\n",
        "cmd.ax_.set(xlabel='Predicted', ylabel='True')"
      ]
    },
    {
      "cell_type": "code",
      "execution_count": null,
      "metadata": {
        "id": "EfxMJkxj4Lsr",
        "outputId": "870cd8ad-e970-45b4-b3c8-d2bc2d18602b"
      },
      "outputs": [
        {
          "ename": "NameError",
          "evalue": "name 'flatten' is not defined",
          "output_type": "error",
          "traceback": [
            "\u001b[1;31m---------------------------------------------------------------------------\u001b[0m",
            "\u001b[1;31mNameError\u001b[0m                                 Traceback (most recent call last)",
            "Cell \u001b[1;32mIn [27], line 1\u001b[0m\n\u001b[1;32m----> 1\u001b[0m acc, snv, spc, ppv, f1\u001b[39m=\u001b[39m classificationPerformanceIndexes(labels_test, flatten(y_predictions))\n\u001b[0;32m      2\u001b[0m printClassificationPerformanceIndexes(acc, snv, spc, ppv, f1)\n",
            "\u001b[1;31mNameError\u001b[0m: name 'flatten' is not defined"
          ]
        }
      ],
      "source": [
        "acc, snv, spc, ppv, f1= classificationPerformanceIndexes(labels_test, flatten(y_predictions))\n",
        "printClassificationPerformanceIndexes(acc, snv, spc, ppv, f1)"
      ]
    },
    {
      "cell_type": "code",
      "execution_count": null,
      "metadata": {
        "id": "3mOsJ0724Lsr",
        "outputId": "f1133833-12c6-4146-e9c9-bcba994b5967"
      },
      "outputs": [
        {
          "name": "stdout",
          "output_type": "stream",
          "text": [
            "Counter({0: 90, 1: 10})\n"
          ]
        }
      ],
      "source": [
        "from sklearn.datasets import make_classification\n",
        "\n",
        "x, y1 = make_classification(n_classes=2,\n",
        "weights=[0.9,0.1 ], random_state=10)\n",
        "counter = Counter(y1)\n",
        "print(counter)\n",
        "# x = torch.Tensor(x)\n",
        "# y1 = torch.Tensor(y1)"
      ]
    },
    {
      "cell_type": "code",
      "execution_count": null,
      "metadata": {
        "id": "tgRRUGJS4Lss",
        "outputId": "0d64c1cc-5925-4efe-93e2-9568cd4f5df3"
      },
      "outputs": [
        {
          "name": "stdout",
          "output_type": "stream",
          "text": [
            "tensor([0.5556, 5.0000])\n"
          ]
        }
      ],
      "source": [
        "class_weights=sklearn.utils.class_weight.compute_class_weight(class_weight='balanced',classes = np.unique(y1),y =y1)\n",
        "class_weights=torch.tensor(class_weights,dtype=torch.float)\n",
        "print(class_weights)\n"
      ]
    },
    {
      "cell_type": "code",
      "execution_count": null,
      "metadata": {
        "id": "EaluhmId4Lss",
        "outputId": "7ae007c8-c3d2-421e-bcce-c79476ba594b"
      },
      "outputs": [
        {
          "ename": "RuntimeError",
          "evalue": "weight tensor should be defined either for all 20 classes or no classes but got weight tensor of shape: [2]",
          "output_type": "error",
          "traceback": [
            "\u001b[1;31m---------------------------------------------------------------------------\u001b[0m",
            "\u001b[1;31mRuntimeError\u001b[0m                              Traceback (most recent call last)",
            "Cell \u001b[1;32mIn [60], line 4\u001b[0m\n\u001b[0;32m      2\u001b[0m y1 \u001b[39m=\u001b[39m torch\u001b[39m.\u001b[39mTensor(y1)\n\u001b[0;32m      3\u001b[0m criterion_weighted \u001b[39m=\u001b[39m nn\u001b[39m.\u001b[39mCrossEntropyLoss(weight\u001b[39m=\u001b[39mclass_weights,reduction\u001b[39m=\u001b[39m\u001b[39m'\u001b[39m\u001b[39mmean\u001b[39m\u001b[39m'\u001b[39m)\n\u001b[1;32m----> 4\u001b[0m loss_weighted \u001b[39m=\u001b[39m criterion_weighted(x, y1)\n",
            "File \u001b[1;32mc:\\Users\\TAACHUP2\\Miniconda3\\lib\\site-packages\\torch\\nn\\modules\\module.py:1190\u001b[0m, in \u001b[0;36mModule._call_impl\u001b[1;34m(self, *input, **kwargs)\u001b[0m\n\u001b[0;32m   1186\u001b[0m \u001b[39m# If we don't have any hooks, we want to skip the rest of the logic in\u001b[39;00m\n\u001b[0;32m   1187\u001b[0m \u001b[39m# this function, and just call forward.\u001b[39;00m\n\u001b[0;32m   1188\u001b[0m \u001b[39mif\u001b[39;00m \u001b[39mnot\u001b[39;00m (\u001b[39mself\u001b[39m\u001b[39m.\u001b[39m_backward_hooks \u001b[39mor\u001b[39;00m \u001b[39mself\u001b[39m\u001b[39m.\u001b[39m_forward_hooks \u001b[39mor\u001b[39;00m \u001b[39mself\u001b[39m\u001b[39m.\u001b[39m_forward_pre_hooks \u001b[39mor\u001b[39;00m _global_backward_hooks\n\u001b[0;32m   1189\u001b[0m         \u001b[39mor\u001b[39;00m _global_forward_hooks \u001b[39mor\u001b[39;00m _global_forward_pre_hooks):\n\u001b[1;32m-> 1190\u001b[0m     \u001b[39mreturn\u001b[39;00m forward_call(\u001b[39m*\u001b[39m\u001b[39minput\u001b[39m, \u001b[39m*\u001b[39m\u001b[39m*\u001b[39mkwargs)\n\u001b[0;32m   1191\u001b[0m \u001b[39m# Do not call functions when jit is used\u001b[39;00m\n\u001b[0;32m   1192\u001b[0m full_backward_hooks, non_full_backward_hooks \u001b[39m=\u001b[39m [], []\n",
            "File \u001b[1;32mc:\\Users\\TAACHUP2\\Miniconda3\\lib\\site-packages\\torch\\nn\\modules\\loss.py:1174\u001b[0m, in \u001b[0;36mCrossEntropyLoss.forward\u001b[1;34m(self, input, target)\u001b[0m\n\u001b[0;32m   1173\u001b[0m \u001b[39mdef\u001b[39;00m \u001b[39mforward\u001b[39m(\u001b[39mself\u001b[39m, \u001b[39minput\u001b[39m: Tensor, target: Tensor) \u001b[39m-\u001b[39m\u001b[39m>\u001b[39m Tensor:\n\u001b[1;32m-> 1174\u001b[0m     \u001b[39mreturn\u001b[39;00m F\u001b[39m.\u001b[39;49mcross_entropy(\u001b[39minput\u001b[39;49m, target, weight\u001b[39m=\u001b[39;49m\u001b[39mself\u001b[39;49m\u001b[39m.\u001b[39;49mweight,\n\u001b[0;32m   1175\u001b[0m                            ignore_index\u001b[39m=\u001b[39;49m\u001b[39mself\u001b[39;49m\u001b[39m.\u001b[39;49mignore_index, reduction\u001b[39m=\u001b[39;49m\u001b[39mself\u001b[39;49m\u001b[39m.\u001b[39;49mreduction,\n\u001b[0;32m   1176\u001b[0m                            label_smoothing\u001b[39m=\u001b[39;49m\u001b[39mself\u001b[39;49m\u001b[39m.\u001b[39;49mlabel_smoothing)\n",
            "File \u001b[1;32mc:\\Users\\TAACHUP2\\Miniconda3\\lib\\site-packages\\torch\\nn\\functional.py:3026\u001b[0m, in \u001b[0;36mcross_entropy\u001b[1;34m(input, target, weight, size_average, ignore_index, reduce, reduction, label_smoothing)\u001b[0m\n\u001b[0;32m   3024\u001b[0m \u001b[39mif\u001b[39;00m size_average \u001b[39mis\u001b[39;00m \u001b[39mnot\u001b[39;00m \u001b[39mNone\u001b[39;00m \u001b[39mor\u001b[39;00m reduce \u001b[39mis\u001b[39;00m \u001b[39mnot\u001b[39;00m \u001b[39mNone\u001b[39;00m:\n\u001b[0;32m   3025\u001b[0m     reduction \u001b[39m=\u001b[39m _Reduction\u001b[39m.\u001b[39mlegacy_get_string(size_average, reduce)\n\u001b[1;32m-> 3026\u001b[0m \u001b[39mreturn\u001b[39;00m torch\u001b[39m.\u001b[39;49m_C\u001b[39m.\u001b[39;49m_nn\u001b[39m.\u001b[39;49mcross_entropy_loss(\u001b[39minput\u001b[39;49m, target, weight, _Reduction\u001b[39m.\u001b[39;49mget_enum(reduction), ignore_index, label_smoothing)\n",
            "\u001b[1;31mRuntimeError\u001b[0m: weight tensor should be defined either for all 20 classes or no classes but got weight tensor of shape: [2]"
          ]
        }
      ],
      "source": [
        "x = torch.Tensor(x)\n",
        "y1 = torch.Tensor(y1)\n",
        "criterion_weighted = nn.CrossEntropyLoss(weight=class_weights,reduction='mean')\n",
        "loss_weighted = criterion_weighted(x, y1)"
      ]
    }
  ],
  "metadata": {
    "kernelspec": {
      "display_name": "Python 3.9.13 ('base')",
      "language": "python",
      "name": "python3"
    },
    "language_info": {
      "codemirror_mode": {
        "name": "ipython",
        "version": 3
      },
      "file_extension": ".py",
      "mimetype": "text/x-python",
      "name": "python",
      "nbconvert_exporter": "python",
      "pygments_lexer": "ipython3",
      "version": "3.9.13"
    },
    "orig_nbformat": 4,
    "vscode": {
      "interpreter": {
        "hash": "358db552dfe214f2c48020eb7daba081d1eb143fc51d32ee7a11605d9b3ad321"
      }
    },
    "colab": {
      "provenance": [],
      "machine_shape": "hm",
      "include_colab_link": true
    },
    "accelerator": "GPU",
    "gpuClass": "standard"
  },
  "nbformat": 4,
  "nbformat_minor": 0
}