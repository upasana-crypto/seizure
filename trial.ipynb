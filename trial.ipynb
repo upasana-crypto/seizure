{
 "cells": [
  {
   "cell_type": "code",
   "execution_count": 12,
   "metadata": {},
   "outputs": [
    {
     "data": {
      "text/plain": [
       "25572917"
      ]
     },
     "execution_count": 12,
     "metadata": {},
     "output_type": "execute_result"
    }
   ],
   "source": [
    "import pandas as pd\n",
    "x= pd.read_csv('CHB.csv')\n",
    "len(x['seizure'])"
   ]
  },
  {
   "cell_type": "code",
   "execution_count": 13,
   "metadata": {},
   "outputs": [
    {
     "name": "stdout",
     "output_type": "stream",
     "text": [
      "[247296, 25857, 545535, 2305, 1137407, 13569, 896255, 26113, 3395071, 29953, 3135999, 4097, 3046655, 36609, 2025215, 2049, 2136063, 15873, 276991, 13825, 2011391, 61441, 670463, 61441, 417791, 16641, 879871, 4097, 948991, 48641, 841983, 2049, 1234175, 22529, 614143, 11777, 712756]\n"
     ]
    }
   ],
   "source": [
    "#x=[1, 1 ,0 ,0, 1,1,1,0,0,0,0]\n",
    "\n",
    "count = 0\n",
    "count_all=[]\n",
    "\n",
    "for i in range(len(x['seizure'])):\n",
    "    \n",
    "    if i==0:\n",
    "        count+=1\n",
    "        continue\n",
    "    else:\n",
    "        if x['seizure'][i]!=x['seizure'][i-1]:\n",
    "            count_to_append=count\n",
    "            count = 0\n",
    "            if count==0:\n",
    "                count_all.append(count_to_append)\n",
    "    count+=1\n",
    "    if i == len(x['seizure'])-1:\n",
    "        count_all.append(count)    \n",
    "print(count_all)   "
   ]
  },
  {
   "cell_type": "code",
   "execution_count": 33,
   "metadata": {},
   "outputs": [
    {
     "data": {
      "text/plain": [
       "33.266666666666666"
      ]
     },
     "execution_count": 33,
     "metadata": {},
     "output_type": "execute_result"
    }
   ],
   "source": [
    "1996/60"
   ]
  },
  {
   "cell_type": "code",
   "execution_count": 32,
   "metadata": {},
   "outputs": [
    {
     "data": {
      "text/plain": [
       "50.501953125"
      ]
     },
     "execution_count": 32,
     "metadata": {},
     "output_type": "execute_result"
    }
   ],
   "source": [
    "25857/512"
   ]
  },
  {
   "cell_type": "code",
   "execution_count": 24,
   "metadata": {},
   "outputs": [
    {
     "ename": "OSError",
     "evalue": "CHB-MIT\\chb01\\chb01_s3.edf: a read error occurred",
     "output_type": "error",
     "traceback": [
      "\u001b[1;31m---------------------------------------------------------------------------\u001b[0m",
      "\u001b[1;31mOSError\u001b[0m                                   Traceback (most recent call last)",
      "\u001b[1;32mTAACHUP2$\\Documents\\SeizureDetection-master\\trial.ipynb Cell 3\u001b[0m in \u001b[0;36m<cell line: 2>\u001b[1;34m()\u001b[0m\n\u001b[0;32m      <a href='vscode-notebook-cell://ss002207/TAACHUP2%24/Documents/SeizureDetection-master/trial.ipynb#W2sZmlsZQ%3D%3D?line=0'>1</a>\u001b[0m \u001b[39mfrom\u001b[39;00m \u001b[39mpyedflib\u001b[39;00m \u001b[39mimport\u001b[39;00m EdfReader\n\u001b[1;32m----> <a href='vscode-notebook-cell://ss002207/TAACHUP2%24/Documents/SeizureDetection-master/trial.ipynb#W2sZmlsZQ%3D%3D?line=1'>2</a>\u001b[0m read\u001b[39m=\u001b[39m EdfReader(\u001b[39m'\u001b[39;49m\u001b[39mCHB-MIT\u001b[39;49m\u001b[39m\\\u001b[39;49m\u001b[39mchb01\u001b[39;49m\u001b[39m\\\u001b[39;49m\u001b[39mchb01_s3.edf\u001b[39;49m\u001b[39m'\u001b[39;49m)\n\u001b[0;32m      <a href='vscode-notebook-cell://ss002207/TAACHUP2%24/Documents/SeizureDetection-master/trial.ipynb#W2sZmlsZQ%3D%3D?line=2'>3</a>\u001b[0m \u001b[39mprint\u001b[39m(read\u001b[39m.\u001b[39mreadSignal(\u001b[39m5\u001b[39m))\n",
      "File \u001b[1;32mpyedflib\\_extensions\\_pyedflib.pyx:146\u001b[0m, in \u001b[0;36mpyedflib._extensions._pyedflib.CyEdfReader.__init__\u001b[1;34m()\u001b[0m\n",
      "File \u001b[1;32mpyedflib\\_extensions\\_pyedflib.pyx:209\u001b[0m, in \u001b[0;36mpyedflib._extensions._pyedflib.CyEdfReader.open\u001b[1;34m()\u001b[0m\n",
      "File \u001b[1;32mpyedflib\\_extensions\\_pyedflib.pyx:181\u001b[0m, in \u001b[0;36mpyedflib._extensions._pyedflib.CyEdfReader.check_open_ok\u001b[1;34m()\u001b[0m\n",
      "\u001b[1;31mOSError\u001b[0m: CHB-MIT\\chb01\\chb01_s3.edf: a read error occurred"
     ]
    }
   ],
   "source": [
    "from pyedflib import EdfReader\n",
    "read= EdfReader('CHB-MIT\\chb01\\chb01_s3.edf')\n",
    "print(read.readSignal(5))"
   ]
  },
  {
   "cell_type": "code",
   "execution_count": 20,
   "metadata": {},
   "outputs": [
    {
     "data": {
      "text/plain": [
       "1.6666666666666667"
      ]
     },
     "execution_count": 20,
     "metadata": {},
     "output_type": "execute_result"
    }
   ],
   "source": [
    "25857/512\n",
    "50*2\n",
    "100/60"
   ]
  },
  {
   "cell_type": "code",
   "execution_count": 36,
   "metadata": {},
   "outputs": [
    {
     "data": {
      "text/plain": [
       "20480"
      ]
     },
     "execution_count": 36,
     "metadata": {},
     "output_type": "execute_result"
    }
   ],
   "source": [
    "40*512"
   ]
  },
  {
   "cell_type": "code",
   "execution_count": 25,
   "metadata": {},
   "outputs": [
    {
     "data": {
      "text/plain": [
       "40"
      ]
     },
     "execution_count": 25,
     "metadata": {},
     "output_type": "execute_result"
    }
   ],
   "source": [
    "3036-2996"
   ]
  },
  {
   "cell_type": "code",
   "execution_count": 26,
   "metadata": {},
   "outputs": [
    {
     "data": {
      "text/plain": [
       "27"
      ]
     },
     "execution_count": 26,
     "metadata": {},
     "output_type": "execute_result"
    }
   ],
   "source": [
    "1494-1467"
   ]
  },
  {
   "cell_type": "code",
   "execution_count": 28,
   "metadata": {},
   "outputs": [
    {
     "data": {
      "text/plain": [
       "17152.0"
      ]
     },
     "execution_count": 28,
     "metadata": {},
     "output_type": "execute_result"
    }
   ],
   "source": [
    "33.5*512"
   ]
  },
  {
   "cell_type": "code",
   "execution_count": 30,
   "metadata": {},
   "outputs": [
    {
     "name": "stdout",
     "output_type": "stream",
     "text": [
      "2080 32\n"
     ]
    },
    {
     "data": {
      "text/plain": [
       "(2080, 32)"
      ]
     },
     "execution_count": 30,
     "metadata": {},
     "output_type": "execute_result"
    }
   ],
   "source": [
    "from pathlib import Path\n",
    "location = 'CHB-MIT\\chb01\\chb01_03.edf'\n",
    "def seizure_period(location):\n",
    "    bytes_array = []\n",
    "    for b in Path(location).read_bytes(): bytes_array.append(b)\n",
    "    print(int(str(bin(bytes_array[38]))[2:] + str(bin(bytes_array[41]))[2:],2), bytes_array[49])\n",
    "    return int(str(bin(bytes_array[38]))[2:] + str(bin(bytes_array[41]))[2:],2), bytes_array[49]\n",
    "\n",
    "seizure_period(location)"
   ]
  },
  {
   "cell_type": "code",
   "execution_count": 31,
   "metadata": {},
   "outputs": [
    {
     "data": {
      "text/plain": [
       "4.0625"
      ]
     },
     "execution_count": 31,
     "metadata": {},
     "output_type": "execute_result"
    }
   ],
   "source": [
    "2080/512"
   ]
  },
  {
   "cell_type": "code",
   "execution_count": 17,
   "metadata": {},
   "outputs": [
    {
     "data": {
      "text/plain": [
       "16.1"
      ]
     },
     "execution_count": 17,
     "metadata": {},
     "output_type": "execute_result"
    }
   ],
   "source": [
    "247296/512\n",
    "483*2\n",
    "966/60\n"
   ]
  }
 ],
 "metadata": {
  "kernelspec": {
   "display_name": "Python 3.9.12 ('base')",
   "language": "python",
   "name": "python3"
  },
  "language_info": {
   "codemirror_mode": {
    "name": "ipython",
    "version": 3
   },
   "file_extension": ".py",
   "mimetype": "text/x-python",
   "name": "python",
   "nbconvert_exporter": "python",
   "pygments_lexer": "ipython3",
   "version": "3.9.12"
  },
  "orig_nbformat": 4,
  "vscode": {
   "interpreter": {
    "hash": "10e7d7711b05dd153c4deaa40a84ef0050d7443dac78189e1438e69cd0b7ff82"
   }
  }
 },
 "nbformat": 4,
 "nbformat_minor": 2
}
