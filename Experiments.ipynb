{
 "cells": [
  {
   "cell_type": "code",
   "execution_count": 11,
   "metadata": {},
   "outputs": [],
   "source": [
    "import numpy as np\n",
    "import pandas as pd\n",
    "from sklearn.utils import shuffle\n",
    "from sklearn.model_selection import KFold"
   ]
  },
  {
   "cell_type": "code",
   "execution_count": 14,
   "metadata": {},
   "outputs": [
    {
     "ename": "SyntaxError",
     "evalue": "invalid syntax (DatasetBalancing.ipynb, line 40)",
     "output_type": "error",
     "traceback": [
      "Traceback \u001b[1;36m(most recent call last)\u001b[0m:\n",
      "  File \u001b[0;32mc:\\Users\\TAACHUP2\\Anaconda3\\lib\\site-packages\\IPython\\core\\interactiveshell.py:3369\u001b[0m in \u001b[0;35mrun_code\u001b[0m\n    exec(code_obj, self.user_global_ns, self.user_ns)\n",
      "  Input \u001b[0;32mIn [14]\u001b[0m in \u001b[0;35m<cell line: 4>\u001b[0m\n    from ipynb.fs.full.DatasetBalancing import minorityOversampling, majorityUndersampling\n",
      "  File \u001b[0;32m<frozen importlib._bootstrap>:1007\u001b[0m in \u001b[0;35m_find_and_load\u001b[0m\n",
      "  File \u001b[0;32m<frozen importlib._bootstrap>:986\u001b[0m in \u001b[0;35m_find_and_load_unlocked\u001b[0m\n",
      "  File \u001b[0;32m<frozen importlib._bootstrap>:680\u001b[0m in \u001b[0;35m_load_unlocked\u001b[0m\n",
      "  File \u001b[0;32m<frozen importlib._bootstrap_external>:846\u001b[0m in \u001b[0;35mexec_module\u001b[0m\n",
      "\u001b[1;36m  File \u001b[1;32mc:\\Users\\TAACHUP2\\Anaconda3\\lib\\site-packages\\ipynb\\fs\\full\\__init__.py:43\u001b[1;36m in \u001b[1;35mget_code\u001b[1;36m\u001b[0m\n\u001b[1;33m    return self.source_to_code(code_from_ipynb(nb), self.path)\u001b[0m\n",
      "\u001b[1;36m  File \u001b[1;32m\\\\ss002207\\TAACHUP2$\\Documents\\SeizureDetection-master\\DatasetBalancing.ipynb:40\u001b[1;36m\u001b[0m\n\u001b[1;33m    \"outputs\": [],\u001b[0m\n\u001b[1;37m     ^\u001b[0m\n\u001b[1;31mSyntaxError\u001b[0m\u001b[1;31m:\u001b[0m invalid syntax\n"
     ]
    }
   ],
   "source": [
    "from ipynb.fs.full.EdfManipulation import read_and_store_data\n",
    "from ipynb.fs.full.FeatureSelection import dimentionalityReduction\n",
    "from ipynb.fs.full.SplitDataset import createTrainingAndTestDatasets\n",
    "from ipynb.fs.full.DatasetBalancing import minorityOversampling, majorityUndersampling\n",
    "from ipynb.fs.full.FeatureNormalization import featureNormalization, removeNonNumericValues\n",
    "from ipynb.fs.full.ClassificationPerformanceIndexes import classificationPerformanceIndexes, printClassificationPerformanceIndexes\n",
    "from ipynb.fs.full.FeatureClassificationMethods import CompleteSVM, CompleteKNN, CompleteNB, CompleteDT, CompleteRF, CompleteLDA, CompleteLR, CompleteLSTM\n",
    "from ipynb.fs.full.FeatureComputation import leftRightHemisphericChannels, featureExtractionLeftRight, averageChannels, featureExtractionAverage, featureExtractionFull"
   ]
  },
  {
   "cell_type": "code",
   "execution_count": 3,
   "metadata": {},
   "outputs": [
    {
     "name": "stdout",
     "output_type": "stream",
     "text": [
      "Collecting pyentrp\n",
      "  Downloading pyentrp-0.7.1.tar.gz (6.2 kB)\n",
      "Requirement already satisfied: numpy>=1.7.0 in c:\\users\\taachup2\\anaconda3\\lib\\site-packages (from pyentrp) (1.21.5)\n",
      "Building wheels for collected packages: pyentrp\n",
      "  Building wheel for pyentrp (setup.py): started\n",
      "  Building wheel for pyentrp (setup.py): finished with status 'done'\n",
      "  Created wheel for pyentrp: filename=pyentrp-0.7.1-py2.py3-none-any.whl size=6268 sha256=ef3ad5fa1b9ac3cba371380378c854e526f4f1490d8687a9a3a4277695d9e716\n",
      "  Stored in directory: c:\\users\\taachup2\\appdata\\local\\pip\\cache\\wheels\\78\\66\\0d\\3c2c83e5c621037fb09e5bfa374402d6fa0d317cfb2b10683c\n",
      "Successfully built pyentrp\n",
      "Installing collected packages: pyentrp\n",
      "Successfully installed pyentrp-0.7.1\n",
      "Note: you may need to restart the kernel to use updated packages.\n"
     ]
    }
   ],
   "source": [
    "pip install pyentrp"
   ]
  },
  {
   "cell_type": "markdown",
   "metadata": {},
   "source": [
    "### Feature Extraction"
   ]
  },
  {
   "cell_type": "code",
   "execution_count": 1,
   "metadata": {},
   "outputs": [],
   "source": [
    "def featureExtraction (df, sample_rate, step, pca_tolerance, undersampling_method, undersampling_rate, undersampling_neighbors, oversampling_method, oversampling_neighbors, exp):\n",
    "    if exp.upper() == 'FULL':\n",
    "        ft = pd.DataFrame(featureExtractionFull (df, sample_rate, step))\n",
    "    elif exp.upper() == 'AVERAGE':\n",
    "        ft = pd.DataFrame(featureExtractionAverage (averageChannels(df), sample_rate, step))\n",
    "    else:\n",
    "        ft = pd.DataFrame(featureExtractionLeftRight (leftRightHemisphericChannels(df), sample_rate, step))\n",
    "    removeNonNumericValues(ft)\n",
    "    ft = featureNormalization(ft)\n",
    "    print('Normalized features')\n",
    "    removeNonNumericValues(ft)\n",
    "    size = ft.shape\n",
    "    print('Reducing features dimension')\n",
    "    ft = dimentionalityReduction(ft, pca_tolerance)\n",
    "    removeNonNumericValues(ft)\n",
    "    print('Dimensions reduced from', size, 'to', ft.shape)\n",
    "    size = ft.seizure.value_counts()\n",
    "    print('Undersampling the majority class using', undersampling_method)\n",
    "    ft = majorityUndersampling(ft.loc[:, ft.columns != 'seizure'], ft['seizure'], undersampling_rate, undersampling_neighbors, undersampling_method)\n",
    "    removeNonNumericValues(ft)\n",
    "    print('Majority class downsampled from (', size[0], ', ', ft.shape[1], ') to ', ft.shape, sep = '')\n",
    "    size = ft.shape\n",
    "    print('Oversampling the minority class using', oversampling_method)\n",
    "    ft = minorityOversampling(ft.loc[:, ft.columns != 'seizure'], ft['seizure'], oversampling_neighbors, oversampling_method)\n",
    "    ft = shuffle(ft)\n",
    "    ft.reset_index(drop = True, inplace = True)\n",
    "    removeNonNumericValues(ft)\n",
    "    print('Minority class upsampled from (', size[0], ', ', ft.shape[1], ') to ', ft.shape, sep='')\n",
    "    print('Writing features to a csv file\\n')\n",
    "    ft.to_csv(exp + 'Features.csv', index = False)\n",
    "    return ft"
   ]
  },
  {
   "cell_type": "markdown",
   "metadata": {},
   "source": [
    "### Create Training and Testing Data"
   ]
  },
  {
   "cell_type": "code",
   "execution_count": 2,
   "metadata": {},
   "outputs": [],
   "source": [
    "def trainTestData (features, test_ratio, k_fold, perfInd):\n",
    "    X_train, X_test, y_train, y_test = createTrainingAndTestDatasets(features, test_ratio)\n",
    "    results = pd.DataFrame(columns = perfInd)\n",
    "    kf = KFold(n_splits = k_fold, shuffle = True)\n",
    "    return X_train, X_test, y_train, y_test, results, kf"
   ]
  },
  {
   "cell_type": "markdown",
   "metadata": {},
   "source": [
    "### Experiment"
   ]
  },
  {
   "cell_type": "code",
   "execution_count": 3,
   "metadata": {},
   "outputs": [],
   "source": [
    "def experiment (df, channels, sample_rate, time_window, test_ratio, pca_tolerance, undersampling_method, undersampling_rate, undersampling_neighbors, oversampling_method, oversampling_neighbors, k_fold, epochs, batch, dropout_percentage, loss_function, metric, step, perfInd, exp):\n",
    "    if exp.upper() not in ['FULL', 'AVERAGE', 'LEFTRIGHT']:\n",
    "        print('No such experiment:', exp)\n",
    "        return\n",
    "    else:\n",
    "        print ('Executing Experiment', exp)\n",
    "    ft = featureExtraction (df, sample_rate, step, pca_tolerance, undersampling_method, undersampling_rate, undersampling_neighbors, oversampling_method, oversampling_neighbors, exp)\n",
    "    X_train, X_test, y_train, y_test, results, kf = trainTestData (ft, test_ratio, k_fold, perfInd)\n",
    "    CompleteSVM(X_train, X_test, y_train, y_test, results, ft, kf, perfInd)\n",
    "    CompleteKNN(X_train, X_test, y_train, y_test, results, exp, ft, kf, perfInd)\n",
    "    CompleteNB(X_train, X_test, y_train, y_test, results, ft, kf, perfInd)\n",
    "    CompleteDT(X_train, X_test, y_train, y_test, results, ft, kf, exp, perfInd)\n",
    "    CompleteRF(X_train, X_test, y_train, y_test, results, exp, ft, kf, perfInd)\n",
    "    CompleteLDA(X_train, X_test, y_train, y_test, results, exp, ft, kf, perfInd)\n",
    "    CompleteLR(X_train, X_test, y_train, y_test, results, exp, ft, kf, perfInd)\n",
    "    if exp.upper() == 'AVERAGE':\n",
    "        lstm_units = 32\n",
    "        dense_units = 8\n",
    "    elif exp.upper() == 'LEFTRIGHT':\n",
    "        lstm_units = 64\n",
    "        dense_units = 16\n",
    "    else:\n",
    "        lstm_units = 128\n",
    "        dense_units = 32  \n",
    "    CompleteLSTM(X_train, X_test, y_train, y_test, results, ft, kf, perfInd, epochs, batch, lstm_units, dense_units, dropout_percentage, loss_function, metric)\n",
    "    return results"
   ]
  }
 ],
 "metadata": {
  "kernelspec": {
   "display_name": "Python 3.9.12 ('base')",
   "language": "python",
   "name": "python3"
  },
  "language_info": {
   "codemirror_mode": {
    "name": "ipython",
    "version": 3
   },
   "file_extension": ".py",
   "mimetype": "text/x-python",
   "name": "python",
   "nbconvert_exporter": "python",
   "pygments_lexer": "ipython3",
   "version": "3.9.12"
  },
  "varInspector": {
   "cols": {
    "lenName": 16,
    "lenType": 16,
    "lenVar": 40
   },
   "kernels_config": {
    "python": {
     "delete_cmd_postfix": "",
     "delete_cmd_prefix": "del ",
     "library": "var_list.py",
     "varRefreshCmd": "print(var_dic_list())"
    },
    "r": {
     "delete_cmd_postfix": ") ",
     "delete_cmd_prefix": "rm(",
     "library": "var_list.r",
     "varRefreshCmd": "cat(var_dic_list()) "
    }
   },
   "types_to_exclude": [
    "module",
    "function",
    "builtin_function_or_method",
    "instance",
    "_Feature"
   ],
   "window_display": false
  },
  "vscode": {
   "interpreter": {
    "hash": "10e7d7711b05dd153c4deaa40a84ef0050d7443dac78189e1438e69cd0b7ff82"
   }
  }
 },
 "nbformat": 4,
 "nbformat_minor": 4
}
